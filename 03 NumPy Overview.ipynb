{
 "metadata": {
  "name": "",
  "signature": "sha256:349efec96a904733e1502e036b74dedbbaf5e90d8ad18b531201227b72d5a450"
 },
 "nbformat": 3,
 "nbformat_minor": 0,
 "worksheets": [
  {
   "cells": [
    {
     "cell_type": "markdown",
     "metadata": {},
     "source": [
      "# NumPy Overview\n",
      "\n",
      "*Based on [notes](http://blog.yhathq.com/posts/data-science-in-python-tutorial.html) from Greg Lamp* "
     ]
    },
    {
     "cell_type": "markdown",
     "metadata": {},
     "source": [
      "One of the fundamental packages for scientific computing with Python. Many other popular packages and projects use NumPy under the hood, so it's pretty helpful to be familiar with its core concepts."
     ]
    },
    {
     "cell_type": "markdown",
     "metadata": {},
     "source": [
      "#### What is it?\n",
      "\n",
      "### A collection of tools, utilities, and data structures for working with data.\n",
      "\n",
      "- A powerful N-dimensional array object\n",
      "- Element by element broadcasting operations (as opposed to iterating)\n",
      "- Tools for integrating C/C++ and Fortran code\n",
      "- Linear algebra and other mathematical and random number facilities\n",
      "\n"
     ]
    },
    {
     "cell_type": "markdown",
     "metadata": {},
     "source": [
      "## N-dimensional arrays\n",
      "\n",
      "#### The ```ndarray``` is a bit like a python list only more efficient."
     ]
    },
    {
     "cell_type": "code",
     "collapsed": false,
     "input": [
      "\"\"\"example taken from Scipy and NumPy by Eli Bressert (p. 6)\"\"\"\n",
      "import numpy as np\n",
      "\n",
      "def list_times(alist, scalar):\n",
      "    for i, val in enumerate(alist):\n",
      "        alist[i] = val * scalar\n",
      "    return alist"
     ],
     "language": "python",
     "metadata": {},
     "outputs": []
    },
    {
     "cell_type": "code",
     "collapsed": false,
     "input": [
      "arr = np.arange(1e7)\n",
      "L   = arr.tolist()"
     ],
     "language": "python",
     "metadata": {},
     "outputs": []
    },
    {
     "cell_type": "code",
     "collapsed": false,
     "input": [
      "%timeit list_times(L, 1.1)"
     ],
     "language": "python",
     "metadata": {},
     "outputs": []
    },
    {
     "cell_type": "code",
     "collapsed": false,
     "input": [
      "%timeit arr * 1.1"
     ],
     "language": "python",
     "metadata": {},
     "outputs": []
    },
    {
     "cell_type": "code",
     "collapsed": false,
     "input": [],
     "language": "python",
     "metadata": {},
     "outputs": []
    },
    {
     "cell_type": "markdown",
     "metadata": {},
     "source": [
      "#### ```ndarray```s behave somewhat like lists."
     ]
    },
    {
     "cell_type": "code",
     "collapsed": false,
     "input": [
      "print \"len(L)\", len(L)\n",
      "print \"len(arr)\", len(arr)"
     ],
     "language": "python",
     "metadata": {},
     "outputs": []
    },
    {
     "cell_type": "markdown",
     "metadata": {},
     "source": [
      "#### The ```ndarray``` is capible of more advanced slicing."
     ]
    },
    {
     "cell_type": "code",
     "collapsed": false,
     "input": [
      "L = [ [1,2], [3,4] ]\n",
      "arr   = np.array(L)\n",
      "\n",
      "print \"Value in Row two, Column two: %s\" % L[1][1]\n",
      "print \"Value in Row two, Column two: %s\" % arr[1,1]\n",
      "print \"Value in All Rows, Column Two: %s\" % str(arr[::,1])\n",
      "print \"Value in Row Two, Both Columns: %s\" % str(arr[1::,])"
     ],
     "language": "python",
     "metadata": {},
     "outputs": []
    },
    {
     "cell_type": "markdown",
     "metadata": {},
     "source": [
      "#### You can access elements stored in an ```ndarray``` using ```arr[]``` sub notation ```arr[rows, columns]```.\n",
      "\n",
      "#### Select the entire 10th row like so ```arr[9, :]```.  ```9``` indicates \"row 10\" and ```:``` indicates <em>all</em> columns."
     ]
    },
    {
     "cell_type": "markdown",
     "metadata": {},
     "source": [
      "**Try:**\n",
      "* create an array of integers from 0 to 1000\n",
      "* reshape into 2 dimensions (500 Rows x 2 Cols2)\n",
      "* select the 2nd columns from the top 100 rows. Your list should begin with \"1, 3, 5, ... \""
     ]
    },
    {
     "cell_type": "code",
     "collapsed": false,
     "input": [],
     "language": "python",
     "metadata": {},
     "outputs": []
    }
   ],
   "metadata": {}
  }
 ]
}