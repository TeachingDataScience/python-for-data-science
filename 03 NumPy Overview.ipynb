{
 "metadata": {
  "name": "",
  "signature": "sha256:ba87a6d9ccee62ba52ee08bbaff96c18c0b6755dcfbc1555a3779b77205af2b1"
 },
 "nbformat": 3,
 "nbformat_minor": 0,
 "worksheets": [
  {
   "cells": [
    {
     "cell_type": "markdown",
     "metadata": {},
     "source": [
      "# NumPy Overview\n",
      "\n",
      "*Based on [notes](http://blog.yhathq.com/posts/data-science-in-python-tutorial.html) from Greg Lamp* "
     ]
    },
    {
     "cell_type": "markdown",
     "metadata": {},
     "source": [
      "One of the fundamental packages for scientific computing with Python. Many other popular packages and projects use NumPy under the hood, so it's pretty helpful to be familiar with its core concepts."
     ]
    },
    {
     "cell_type": "markdown",
     "metadata": {},
     "source": [
      "#### What is it?\n",
      "\n",
      "### A collection of tools, utilities, and data structures for working with data.\n",
      "\n",
      "- A powerful N-dimensional array object\n",
      "- Element by element broadcasting operations (as opposed to iterating)\n",
      "- Tools for integrating C/C++ and Fortran code\n",
      "- Linear algebra and other mathematical and random number facilities\n",
      "\n"
     ]
    },
    {
     "cell_type": "markdown",
     "metadata": {},
     "source": [
      "## N-dimensional arrays\n",
      "\n",
      "#### The ```ndarray``` is a bit like a python list only more efficient."
     ]
    },
    {
     "cell_type": "code",
     "collapsed": false,
     "input": [
      "\"\"\"example taken from Scipy and NumPy by Eli Bressert (p. 6)\"\"\"\n",
      "import numpy as np\n",
      "\n",
      "def list_times(alist, scalar):\n",
      "    for i, val in enumerate(alist):\n",
      "        alist[i] = val * scalar\n",
      "    return alist"
     ],
     "language": "python",
     "metadata": {},
     "outputs": [],
     "prompt_number": 5
    },
    {
     "cell_type": "code",
     "collapsed": false,
     "input": [
      "arr = np.arange(1e7)\n",
      "L   = arr.tolist()"
     ],
     "language": "python",
     "metadata": {},
     "outputs": [],
     "prompt_number": 26
    },
    {
     "cell_type": "code",
     "collapsed": false,
     "input": [
      "%timeit list_times(L, 1.1)"
     ],
     "language": "python",
     "metadata": {},
     "outputs": [
      {
       "output_type": "stream",
       "stream": "stdout",
       "text": [
        "1 loops, best of 3: 2.89 s per loop\n"
       ]
      }
     ],
     "prompt_number": 7
    },
    {
     "cell_type": "code",
     "collapsed": false,
     "input": [
      "%timeit arr * 1.1"
     ],
     "language": "python",
     "metadata": {},
     "outputs": [
      {
       "output_type": "stream",
       "stream": "stdout",
       "text": [
        "10 loops, best of 3: 66.7 ms per loop\n"
       ]
      }
     ],
     "prompt_number": 22
    },
    {
     "cell_type": "code",
     "collapsed": false,
     "input": [],
     "language": "python",
     "metadata": {},
     "outputs": []
    },
    {
     "cell_type": "markdown",
     "metadata": {},
     "source": [
      "#### ```ndarray```s behave somewhat like lists."
     ]
    },
    {
     "cell_type": "code",
     "collapsed": false,
     "input": [
      "print \"len(L)\", len(L)\n",
      "print \"len(arr)\", len(arr)"
     ],
     "language": "python",
     "metadata": {},
     "outputs": [
      {
       "output_type": "stream",
       "stream": "stdout",
       "text": [
        "len(l) 10000000\n",
        "len(arr) 10000000\n"
       ]
      }
     ],
     "prompt_number": 23
    },
    {
     "cell_type": "markdown",
     "metadata": {},
     "source": [
      "#### The ```ndarray``` is capible of more advanced slicing."
     ]
    },
    {
     "cell_type": "code",
     "collapsed": false,
     "input": [
      "L = [ [1,2], [3,4] ]\n",
      "arr   = np.array(L)\n",
      "\n",
      "print \"Value in Row two, Column two: %s\" % L[1][1]\n",
      "print \"Value in Row two, Column two: %s\" % arr[1,1]\n",
      "print \"Value in All Rows, Column Two: %s\" % str(arr[::,1])\n",
      "print \"Value in Row Two, Both Columns: %s\" % str(arr[1::,])"
     ],
     "language": "python",
     "metadata": {},
     "outputs": [
      {
       "output_type": "stream",
       "stream": "stdout",
       "text": [
        "Value in Row two, Column two: 4\n",
        "Value in Row two, Column two: 4\n",
        "Value in All Rows, Column Two: [2 4]\n",
        "Value in Row Two, Both Columns: [[3 4]]\n"
       ]
      }
     ],
     "prompt_number": 33
    },
    {
     "cell_type": "markdown",
     "metadata": {},
     "source": [
      "#### You can access elements stored in an ```ndarray``` using ```arr[]``` sub notation ```arr[rows, columns]```.\n",
      "\n",
      "#### Select the entire 10th row like so ```arr[9, :]```.  ```9``` indicates \"row 10\" and ```:``` indicates <em>all</em> columns."
     ]
    },
    {
     "cell_type": "markdown",
     "metadata": {},
     "source": [
      "**Try:**\n",
      "* create an array of integers from 0 to 1000\n",
      "* reshape into 2 dimensions (500 Rows x 2 Cols2)\n",
      "* select the 2nd columns from the top 100 rows. Your list should begin with \"1, 3, 5, ... \""
     ]
    },
    {
     "cell_type": "code",
     "collapsed": false,
     "input": [],
     "language": "python",
     "metadata": {},
     "outputs": []
    }
   ],
   "metadata": {}
  }
 ]
}