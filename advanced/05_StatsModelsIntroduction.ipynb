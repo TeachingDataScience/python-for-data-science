{
 "metadata": {
  "name": "",
  "signature": "sha256:917401d7dd672d3b91c13e67a9156cbf4b3ffabcfa069aef720b0ad5574348f2"
 },
 "nbformat": 3,
 "nbformat_minor": 0,
 "worksheets": [
  {
   "cells": [
    {
     "cell_type": "markdown",
     "metadata": {},
     "source": [
      "## A taste of statsmodels\n",
      "\n",
      "*(Credit: Greg Lamp)*\n",
      "\n",
      "statistics & econometrics package with useful tools for parameter estimation & statistical testing\n",
      "\n",
      "Features include:\n",
      "* linear regression models\n",
      "* GLMs\n",
      "* time series modeling\n",
      "* integration with pandas\n",
      " "
     ]
    },
    {
     "cell_type": "code",
     "collapsed": false,
     "input": [
      "import pandas as pd\n",
      "import statsmodels.api as sm\n",
      "import pylab as pl\n",
      "import numpy as np\n",
      " \n",
      "# read the data in\n",
      "df = pd.read_csv(\"http://www.ats.ucla.edu/stat/data/binary.csv\")\n",
      " \n",
      "# rename the 'rank' column because there is also a DataFrame method called 'rank'\n",
      "df.columns = [\"admit\", \"gre\", \"gpa\", \"prestige\"]\n",
      "dummy_ranks = pd.get_dummies(df['prestige'], prefix='prestige')\n",
      "print dummy_ranks.head()\n",
      "#    prestige_1  prestige_2  prestige_3  prestige_4\n",
      "# 0           0           0           1           0\n",
      "# 1           0           0           1           0\n",
      "# 2           1           0           0           0\n",
      "# 3           0           0           0           1\n",
      "# 4           0           0           0           1\n",
      " \n",
      "# create a clean data frame for the regression\n",
      "cols_to_keep = ['admit', 'gre', 'gpa']\n",
      "data = df[cols_to_keep].join(dummy_ranks.ix[:, 'prestige_2':])\n",
      "print data.head()\n",
      "\n",
      "# manually add the intercept\n",
      "data['intercept'] = 1.0\n",
      "\n",
      "train_cols = data.columns[1:]\n",
      "# Index([gre, gpa, prestige_2, prestige_3, prestige_4], dtype=object)\n",
      " \n",
      "logit = sm.Logit(data['admit'], data[train_cols])\n",
      " \n",
      "# fit the model\n",
      "result = logit.fit()\n",
      "\n",
      "print result.summary()"
     ],
     "language": "python",
     "metadata": {},
     "outputs": [
      {
       "output_type": "stream",
       "stream": "stdout",
       "text": [
        "   prestige_1  prestige_2  prestige_3  prestige_4\n",
        "0           0           0           1           0\n",
        "1           0           0           1           0\n",
        "2           1           0           0           0\n",
        "3           0           0           0           1\n",
        "4           0           0           0           1\n",
        "   admit  gre   gpa  prestige_2  prestige_3  prestige_4\n",
        "0      0  380  3.61           0           1           0\n",
        "1      1  660  3.67           0           1           0\n",
        "2      1  800  4.00           0           0           0\n",
        "3      1  640  3.19           0           0           1\n",
        "4      0  520  2.93           0           0           1\n",
        "Optimization terminated successfully."
       ]
      },
      {
       "output_type": "stream",
       "stream": "stdout",
       "text": [
        "\n",
        "         Current function value: 0.573147\n",
        "         Iterations 6\n",
        "                           Logit Regression Results                           \n",
        "==============================================================================\n",
        "Dep. Variable:                  admit   No. Observations:                  400\n",
        "Model:                          Logit   Df Residuals:                      394\n",
        "Method:                           MLE   Df Model:                            5\n",
        "Date:                Sat, 18 Oct 2014   Pseudo R-squ.:                 0.08292\n",
        "Time:                        18:41:27   Log-Likelihood:                -229.26\n",
        "converged:                       True   LL-Null:                       -249.99\n",
        "                                        LLR p-value:                 7.578e-08\n",
        "==============================================================================\n",
        "                 coef    std err          z      P>|z|      [95.0% Conf. Int.]\n",
        "------------------------------------------------------------------------------\n",
        "gre            0.0023      0.001      2.070      0.038         0.000     0.004\n",
        "gpa            0.8040      0.332      2.423      0.015         0.154     1.454\n",
        "prestige_2    -0.6754      0.316     -2.134      0.033        -1.296    -0.055\n",
        "prestige_3    -1.3402      0.345     -3.881      0.000        -2.017    -0.663\n",
        "prestige_4    -1.5515      0.418     -3.713      0.000        -2.370    -0.733\n",
        "intercept     -3.9900      1.140     -3.500      0.000        -6.224    -1.756\n",
        "=============================================================================="
       ]
      },
      {
       "output_type": "stream",
       "stream": "stdout",
       "text": [
        "\n"
       ]
      }
     ],
     "prompt_number": 1
    },
    {
     "cell_type": "code",
     "collapsed": false,
     "input": [],
     "language": "python",
     "metadata": {},
     "outputs": []
    },
    {
     "cell_type": "code",
     "collapsed": false,
     "input": [],
     "language": "python",
     "metadata": {},
     "outputs": []
    },
    {
     "cell_type": "code",
     "collapsed": false,
     "input": [],
     "language": "python",
     "metadata": {},
     "outputs": []
    }
   ],
   "metadata": {}
  }
 ]
}