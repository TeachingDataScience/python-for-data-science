{
 "metadata": {
  "name": "",
  "signature": "sha256:657ad265df7c62cba88eed0fa2b107bddf2b0d1b2fdcdbbb7b506af10ff32ba9"
 },
 "nbformat": 3,
 "nbformat_minor": 0,
 "worksheets": [
  {
   "cells": [
    {
     "cell_type": "code",
     "collapsed": false,
     "input": [
      "import csv\n",
      "import requests\n",
      "import urllib2\n",
      "import StringIO\n",
      "\n",
      "url = 'http://stat.columbia.edu/~rachel/datasets/nyt1.csv'\n",
      "response = urllib2.urlopen(url)\n",
      "nyt = csv.reader(response)\n",
      "\n",
      "counts, gender, signins = 0, 0, 0\n",
      "\n",
      "# ignores the header row\n",
      "next(nyt, None)\n",
      "for line in nyt:\n",
      "    counts += 1\n",
      "    gender += int(line[1])\n",
      "    signins += int(line[4])\n",
      "\n",
      "gender_0 = counts - gender\n",
      "signins_0 = counts - signins\n",
      "\n",
      "print \"Gender 0:\", gender_0\n",
      "print \"Gender 1:\", gender\n",
      "print \"Signin 0:\", signins_0\n",
      "print \"Signin 1:\", signins"
     ],
     "language": "python",
     "metadata": {},
     "outputs": [
      {
       "output_type": "stream",
       "stream": "stdout",
       "text": [
        "Gender 0: 290176\n",
        "Gender 1: 168265\n",
        "Signin 0: 137106\n",
        "Signin 1: 321335\n"
       ]
      }
     ],
     "prompt_number": 1
    },
    {
     "cell_type": "code",
     "collapsed": false,
     "input": [],
     "language": "python",
     "metadata": {},
     "outputs": []
    }
   ],
   "metadata": {}
  }
 ]
}