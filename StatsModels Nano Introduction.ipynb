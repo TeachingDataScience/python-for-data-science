{
 "metadata": {
  "name": "",
  "signature": "sha256:e0e8dd7ccc76b8ff9dff1751cae2733783762f30714a6f47ee7b7ec550eac266"
 },
 "nbformat": 3,
 "nbformat_minor": 0,
 "worksheets": [
  {
   "cells": [
    {
     "cell_type": "markdown",
     "metadata": {},
     "source": [
      "## A taste of statsmodels\n",
      "\n",
      "*(Credit: Greg Lamp)*\n",
      "\n",
      "statistics & econometrics package with useful tools for parameter estimation & statistical testing\n",
      "\n",
      "Features include:\n",
      "* linear regression models\n",
      "* GLMs\n",
      "* time series modeling\n",
      "* integration with pandas\n",
      " "
     ]
    },
    {
     "cell_type": "code",
     "collapsed": false,
     "input": [
      "%load https://gist.github.com/glamp/6536064/raw/57146ac3406f7541d944264ed9aa85dad6e085a1/statsmodels_example.py"
     ],
     "language": "python",
     "metadata": {},
     "outputs": [],
     "prompt_number": 2
    },
    {
     "cell_type": "code",
     "collapsed": false,
     "input": [
      "import pandas as pd\n",
      "import statsmodels.api as sm\n",
      "import pylab as pl\n",
      "import numpy as np\n",
      " \n",
      "# read the data in\n",
      "df = pd.read_csv(\"http://www.ats.ucla.edu/stat/data/binary.csv\")\n",
      " \n",
      "# rename the 'rank' column because there is also a DataFrame method called 'rank'\n",
      "df.columns = [\"admit\", \"gre\", \"gpa\", \"prestige\"]\n",
      "dummy_ranks = pd.get_dummies(df['prestige'], prefix='prestige')\n",
      "print dummy_ranks.head()\n",
      "#    prestige_1  prestige_2  prestige_3  prestige_4\n",
      "# 0           0           0           1           0\n",
      "# 1           0           0           1           0\n",
      "# 2           1           0           0           0\n",
      "# 3           0           0           0           1\n",
      "# 4           0           0           0           1\n",
      " \n",
      "# create a clean data frame for the regression\n",
      "cols_to_keep = ['admit', 'gre', 'gpa']\n",
      "data = df[cols_to_keep].join(dummy_ranks.ix[:, 'prestige_2':])\n",
      "print data.head()\n",
      "\n",
      "# manually add the intercept\n",
      "data['intercept'] = 1.0\n",
      "\n",
      "train_cols = data.columns[1:]\n",
      "# Index([gre, gpa, prestige_2, prestige_3, prestige_4], dtype=object)\n",
      " \n",
      "logit = sm.Logit(data['admit'], data[train_cols])\n",
      " \n",
      "# fit the model\n",
      "result = logit.fit()\n",
      "\n",
      "print result.summary()"
     ],
     "language": "python",
     "metadata": {},
     "outputs": []
    },
    {
     "cell_type": "code",
     "collapsed": false,
     "input": [],
     "language": "python",
     "metadata": {},
     "outputs": []
    },
    {
     "cell_type": "code",
     "collapsed": false,
     "input": [],
     "language": "python",
     "metadata": {},
     "outputs": []
    },
    {
     "cell_type": "code",
     "collapsed": false,
     "input": [],
     "language": "python",
     "metadata": {},
     "outputs": []
    }
   ],
   "metadata": {}
  }
 ]
}