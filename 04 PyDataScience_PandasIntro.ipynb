{
 "metadata": {
  "name": "",
  "signature": "sha256:a2f4de695f75fd4701345ee1ce0ee25d6fbe1cf50a4406724d3e5ac8359c6d43"
 },
 "nbformat": 3,
 "nbformat_minor": 0,
 "worksheets": [
  {
   "cells": [
    {
     "cell_type": "markdown",
     "metadata": {},
     "source": [
      "# Pandas"
     ]
    },
    {
     "cell_type": "markdown",
     "metadata": {},
     "source": [
      "# Introducing Pandas\n",
      "\n",
      "Major sources/resources include tutorials by guys named Greg: [Greg Lamp](http://nbviewer.ipython.org/urls/raw2.github.com/yhat/DataGotham2013/master/notebooks/1%20-%20Tools%20Overview.ipynb?create=1#pandas) and [Greg Rada](http://www.gregreda.com/2013/10/26/intro-to-pandas-data-structures/)"
     ]
    },
    {
     "cell_type": "markdown",
     "metadata": {},
     "source": [
      "#### pandas is the utility belt for data analysts using python. The package centers around the pandas ```DataFrame```, a two-dimensional data structure with indexable rows and columns. It has effectively taken the best parts of Base R, R packages like plyr and reshape2 and consolidated them into a single library.\n",
      "\n",
      "#### Library highlights include:\n",
      "\n",
      "- DataFrame\n",
      "- Indexable rows and columns (e.g. selecting columns and rows via column/row names)\n",
      "- Boolean indexing\n",
      "- Graceful treatment of missing or ```NA``` values\n",
      "- Broadcasting (i.e. calling a function on an entire row or column without iteration)\n",
      "- Outstanding ```split```, ```apply```, ```combine```, ```groupby``` functionality\n",
      "- Simple yet powerful string manipulation (again, applied over a large number of strings)\n",
      "- Built-in summary statistics (```mean```, ```std```, ```corr```, etc.)\n",
      "- Merging, joining, data set concatenation"
     ]
    },
    {
     "cell_type": "markdown",
     "metadata": {},
     "source": [
      "## Data Structures\n",
      "pandas introduces two new data structures to Python - [Series](http://pandas.pydata.org/pandas-docs/dev/dsintro.html#series) and [DataFrame](http://pandas.pydata.org/pandas-docs/dev/dsintro.html#dataframe), both of which are built on top of [NumPy](http://www.numpy.org/) (this means it's fast)."
     ]
    },
    {
     "cell_type": "code",
     "collapsed": false,
     "input": [
      "import pandas as pd\n",
      "import numpy as np\n",
      "import matplotlib.pyplot as plt\n",
      "pd.set_option('max_columns', 50)"
     ],
     "language": "python",
     "metadata": {},
     "outputs": [],
     "prompt_number": 3
    },
    {
     "cell_type": "markdown",
     "metadata": {},
     "source": [
      "### Series"
     ]
    },
    {
     "cell_type": "markdown",
     "metadata": {},
     "source": [
      "A Series is a one-dimensional object similar to an array, list, or column in a table. It will assign a labeled index to each item in the Series. By default, each item will receive an index label from 0 to N, where N is the length of the Series minus one."
     ]
    },
    {
     "cell_type": "markdown",
     "metadata": {},
     "source": [
      "The Series constructor can convert a dictonary as well, using the keys of the dictionary as its index."
     ]
    },
    {
     "cell_type": "code",
     "collapsed": false,
     "input": [
      "d = {'Chicago': 1000, 'New York': 1300, 'Portland': 900, 'San Francisco': 1100,\n",
      "     'Austin': 450, 'Boston': None}\n",
      "cities = pd.Series(d)\n",
      "cities"
     ],
     "language": "python",
     "metadata": {},
     "outputs": []
    },
    {
     "cell_type": "markdown",
     "metadata": {},
     "source": [
      "You can use the index to select specific items from the Series ..."
     ]
    },
    {
     "cell_type": "code",
     "collapsed": false,
     "input": [
      "cities['Chicago']"
     ],
     "language": "python",
     "metadata": {},
     "outputs": []
    },
    {
     "cell_type": "code",
     "collapsed": false,
     "input": [
      "cities[['Chicago', 'Portland', 'San Francisco']]"
     ],
     "language": "python",
     "metadata": {},
     "outputs": []
    },
    {
     "cell_type": "markdown",
     "metadata": {},
     "source": [
      "Or you can use boolean indexing for selection."
     ]
    },
    {
     "cell_type": "code",
     "collapsed": false,
     "input": [
      "cities[cities < 1000]"
     ],
     "language": "python",
     "metadata": {},
     "outputs": []
    },
    {
     "cell_type": "markdown",
     "metadata": {},
     "source": [
      "That last one might be a little weird, so let's make it more clear - `cities < 1000` returns a Series of True/False values, which we then pass to our Series `cities`, returning the corresponding True items."
     ]
    },
    {
     "cell_type": "code",
     "collapsed": false,
     "input": [
      "less_than_1000 = cities < 1000\n",
      "print less_than_1000\n",
      "print '\\n'\n",
      "print cities[less_than_1000]"
     ],
     "language": "python",
     "metadata": {},
     "outputs": []
    },
    {
     "cell_type": "markdown",
     "metadata": {},
     "source": [
      "You can also change the values in a Series on the fly."
     ]
    },
    {
     "cell_type": "code",
     "collapsed": false,
     "input": [
      "# changing based on the index\n",
      "print 'Old value:', cities['Chicago']\n",
      "cities['Chicago'] = 1400\n",
      "print 'New value:', cities['Chicago']"
     ],
     "language": "python",
     "metadata": {},
     "outputs": []
    },
    {
     "cell_type": "code",
     "collapsed": false,
     "input": [
      "# changing values using boolean logic\n",
      "print cities[cities < 1000]\n",
      "print '\\n'\n",
      "cities[cities < 1000] = 750\n",
      "\n",
      "print cities[cities < 1000]"
     ],
     "language": "python",
     "metadata": {},
     "outputs": []
    },
    {
     "cell_type": "markdown",
     "metadata": {},
     "source": [
      "What if you aren't sure whether an item is in the Series?  You can check using idiomatic Python."
     ]
    },
    {
     "cell_type": "code",
     "collapsed": false,
     "input": [
      "print 'Seattle' in cities\n",
      "print 'San Francisco' in cities"
     ],
     "language": "python",
     "metadata": {},
     "outputs": []
    },
    {
     "cell_type": "markdown",
     "metadata": {},
     "source": [
      "Mathematical operations can be done using scalars and functions."
     ]
    },
    {
     "cell_type": "code",
     "collapsed": false,
     "input": [
      "# divide city values by 3\n",
      "cities / 3"
     ],
     "language": "python",
     "metadata": {},
     "outputs": []
    },
    {
     "cell_type": "code",
     "collapsed": false,
     "input": [
      "# square city values\n",
      "np.square(cities)"
     ],
     "language": "python",
     "metadata": {},
     "outputs": []
    },
    {
     "cell_type": "markdown",
     "metadata": {},
     "source": [
      "You can add two Series together, which returns a union of the two Series with the addition occurring on the shared index values.  Values on either Series that did not have a shared index will produce a NULL/NaN (not a number)."
     ]
    },
    {
     "cell_type": "code",
     "collapsed": false,
     "input": [
      "print cities[['Chicago', 'New York', 'Portland']]\n",
      "print'\\n'\n",
      "print cities[['Austin', 'New York']]\n",
      "print'\\n'\n",
      "print cities[['Chicago', 'New York', 'Portland']] + cities[['Austin', 'New York']]"
     ],
     "language": "python",
     "metadata": {},
     "outputs": []
    },
    {
     "cell_type": "markdown",
     "metadata": {},
     "source": [
      "Notice that because Austin, Chicago, and Portland were not found in both Series, they were returned with NULL/NaN values.\n",
      "\n",
      "NULL checking can be performed with `isnull` and `notnull`."
     ]
    },
    {
     "cell_type": "code",
     "collapsed": false,
     "input": [
      "# returns a boolean series indicating which values aren't NULL\n",
      "cities.notnull()"
     ],
     "language": "python",
     "metadata": {},
     "outputs": []
    },
    {
     "cell_type": "code",
     "collapsed": false,
     "input": [
      "# use boolean logic to grab the NULL cities\n",
      "print cities.isnull()\n",
      "print '\\n'\n",
      "print cities[cities.isnull()]"
     ],
     "language": "python",
     "metadata": {},
     "outputs": []
    },
    {
     "cell_type": "markdown",
     "metadata": {},
     "source": [
      "## DataFrame\n",
      "\n",
      "A DataFrame is a tablular data structure comprised of rows and columns, akin to a spreadsheet, database table, or R's data.frame object. You can also think of a DataFrame as a group of Series objects that share an index (the column names).\n",
      "\n",
      "For the rest of the tutorial, we'll be primarily working with DataFrames."
     ]
    },
    {
     "cell_type": "markdown",
     "metadata": {},
     "source": [
      "**CSV**\n",
      "\n",
      "Reading a CSV is as simple as calling the *read_csv* function. By default, the *read_csv* function expects the column separator to be a comma, but you can change that using the `sep` parameter."
     ]
    },
    {
     "cell_type": "markdown",
     "metadata": {},
     "source": [
      "## Working with DataFrames"
     ]
    },
    {
     "cell_type": "markdown",
     "metadata": {},
     "source": [
      "Now that we can get data into a DataFrame, we can finally start working with them. pandas has an abundance of functionality, far too much for me to cover in this introduction. I'd encourage anyone interested in diving deeper into the library to check out its [excellent documentation](http://pandas.pydata.org/pandas-docs/stable/). Or just use Google - there are a lot of Stack Overflow questions and blog posts covering specifics of the library."
     ]
    },
    {
     "cell_type": "markdown",
     "metadata": {},
     "source": []
    },
    {
     "cell_type": "markdown",
     "metadata": {},
     "source": [
      "### A quick tour of pandas plotting\n",
      "\n",
      "(more on pandas plotting and the underlying matplotlib in the associated [notebook]())"
     ]
    },
    {
     "cell_type": "code",
     "collapsed": false,
     "input": [
      "# Subplotting example\n",
      "a = randn(50).cumsum()\n",
      "b = randn(50).cumsum()\n",
      "c = randn(50).cumsum()\n",
      "\n",
      "df=DataFrame({'a':a,'b':b,'c':c})\n"
     ],
     "language": "python",
     "metadata": {},
     "outputs": []
    },
    {
     "cell_type": "code",
     "collapsed": false,
     "input": [
      "df.plot(subplots=True)\n"
     ],
     "language": "python",
     "metadata": {},
     "outputs": []
    },
    {
     "cell_type": "code",
     "collapsed": false,
     "input": [
      "df.plot()\n"
     ],
     "language": "python",
     "metadata": {},
     "outputs": []
    },
    {
     "cell_type": "markdown",
     "metadata": {},
     "source": [
      "# Adding options\n",
      "#Generate a random graph \n",
      "a = randn(50).cumsum()\n",
      " "
     ]
    },
    {
     "cell_type": "code",
     "collapsed": false,
     "input": [
      "df = DataFrame(a) # convert it to a dataframe\n"
     ],
     "language": "python",
     "metadata": {},
     "outputs": []
    },
    {
     "cell_type": "code",
     "collapsed": false,
     "input": [
      "df.plot(title='Random Plot',kind='line')\n"
     ],
     "language": "python",
     "metadata": {},
     "outputs": []
    },
    {
     "cell_type": "code",
     "collapsed": false,
     "input": [
      "# Pandas data frames have a built in plot function with defaults:\n",
      "df = DataFrame(np.random.randn(10, 4).cumsum(0),\n",
      "columns=['A', 'B', 'C', 'D'],\n",
      "index=np.arange(0, 100, 10))"
     ],
     "language": "python",
     "metadata": {},
     "outputs": []
    },
    {
     "cell_type": "code",
     "collapsed": false,
     "input": [
      "df\n"
     ],
     "language": "python",
     "metadata": {},
     "outputs": []
    },
    {
     "cell_type": "code",
     "collapsed": false,
     "input": [
      "df.plot(title='Plot automatically finds Indexes and Places Labels')\n"
     ],
     "language": "python",
     "metadata": {},
     "outputs": []
    },
    {
     "cell_type": "markdown",
     "metadata": {},
     "source": [
      "### Bar Plots"
     ]
    },
    {
     "cell_type": "code",
     "collapsed": false,
     "input": [
      "titanic = pd.read_csv(\"http://bit.ly/titanicdata\")"
     ],
     "language": "python",
     "metadata": {},
     "outputs": [],
     "prompt_number": 5
    },
    {
     "cell_type": "code",
     "collapsed": true,
     "input": [
      "titanic"
     ],
     "language": "python",
     "metadata": {},
     "outputs": [
      {
       "html": [
        "<div style=\"max-height:1000px;max-width:1500px;overflow:auto;\">\n",
        "<table border=\"1\" class=\"dataframe\">\n",
        "  <thead>\n",
        "    <tr style=\"text-align: right;\">\n",
        "      <th></th>\n",
        "      <th>survived</th>\n",
        "      <th>pclass</th>\n",
        "      <th>name</th>\n",
        "      <th>sex</th>\n",
        "      <th>age</th>\n",
        "      <th>sibsp</th>\n",
        "      <th>parch</th>\n",
        "      <th>ticket</th>\n",
        "      <th>fare</th>\n",
        "      <th>cabin</th>\n",
        "      <th>embarked</th>\n",
        "    </tr>\n",
        "  </thead>\n",
        "  <tbody>\n",
        "    <tr>\n",
        "      <th>0  </th>\n",
        "      <td> 0</td>\n",
        "      <td> 3</td>\n",
        "      <td>                           Braund, Mr. Owen Harris</td>\n",
        "      <td>   male</td>\n",
        "      <td> 22</td>\n",
        "      <td> 1</td>\n",
        "      <td> 0</td>\n",
        "      <td>        A/5 21171</td>\n",
        "      <td>   7.2500</td>\n",
        "      <td>         NaN</td>\n",
        "      <td> S</td>\n",
        "    </tr>\n",
        "    <tr>\n",
        "      <th>1  </th>\n",
        "      <td> 1</td>\n",
        "      <td> 1</td>\n",
        "      <td> Cumings, Mrs. John Bradley (Florence Briggs Th...</td>\n",
        "      <td> female</td>\n",
        "      <td> 38</td>\n",
        "      <td> 1</td>\n",
        "      <td> 0</td>\n",
        "      <td>         PC 17599</td>\n",
        "      <td>  71.2833</td>\n",
        "      <td>         C85</td>\n",
        "      <td> C</td>\n",
        "    </tr>\n",
        "    <tr>\n",
        "      <th>2  </th>\n",
        "      <td> 1</td>\n",
        "      <td> 3</td>\n",
        "      <td>                            Heikkinen, Miss. Laina</td>\n",
        "      <td> female</td>\n",
        "      <td> 26</td>\n",
        "      <td> 0</td>\n",
        "      <td> 0</td>\n",
        "      <td> STON/O2. 3101282</td>\n",
        "      <td>   7.9250</td>\n",
        "      <td>         NaN</td>\n",
        "      <td> S</td>\n",
        "    </tr>\n",
        "    <tr>\n",
        "      <th>3  </th>\n",
        "      <td> 1</td>\n",
        "      <td> 1</td>\n",
        "      <td>      Futrelle, Mrs. Jacques Heath (Lily May Peel)</td>\n",
        "      <td> female</td>\n",
        "      <td> 35</td>\n",
        "      <td> 1</td>\n",
        "      <td> 0</td>\n",
        "      <td>           113803</td>\n",
        "      <td>  53.1000</td>\n",
        "      <td>        C123</td>\n",
        "      <td> S</td>\n",
        "    </tr>\n",
        "    <tr>\n",
        "      <th>4  </th>\n",
        "      <td> 0</td>\n",
        "      <td> 3</td>\n",
        "      <td>                          Allen, Mr. William Henry</td>\n",
        "      <td>   male</td>\n",
        "      <td> 35</td>\n",
        "      <td> 0</td>\n",
        "      <td> 0</td>\n",
        "      <td>           373450</td>\n",
        "      <td>   8.0500</td>\n",
        "      <td>         NaN</td>\n",
        "      <td> S</td>\n",
        "    </tr>\n",
        "    <tr>\n",
        "      <th>5  </th>\n",
        "      <td> 0</td>\n",
        "      <td> 3</td>\n",
        "      <td>                                  Moran, Mr. James</td>\n",
        "      <td>   male</td>\n",
        "      <td>NaN</td>\n",
        "      <td> 0</td>\n",
        "      <td> 0</td>\n",
        "      <td>           330877</td>\n",
        "      <td>   8.4583</td>\n",
        "      <td>         NaN</td>\n",
        "      <td> Q</td>\n",
        "    </tr>\n",
        "    <tr>\n",
        "      <th>6  </th>\n",
        "      <td> 0</td>\n",
        "      <td> 1</td>\n",
        "      <td>                           McCarthy, Mr. Timothy J</td>\n",
        "      <td>   male</td>\n",
        "      <td> 54</td>\n",
        "      <td> 0</td>\n",
        "      <td> 0</td>\n",
        "      <td>            17463</td>\n",
        "      <td>  51.8625</td>\n",
        "      <td>         E46</td>\n",
        "      <td> S</td>\n",
        "    </tr>\n",
        "    <tr>\n",
        "      <th>7  </th>\n",
        "      <td> 0</td>\n",
        "      <td> 3</td>\n",
        "      <td>                    Palsson, Master. Gosta Leonard</td>\n",
        "      <td>   male</td>\n",
        "      <td>  2</td>\n",
        "      <td> 3</td>\n",
        "      <td> 1</td>\n",
        "      <td>           349909</td>\n",
        "      <td>  21.0750</td>\n",
        "      <td>         NaN</td>\n",
        "      <td> S</td>\n",
        "    </tr>\n",
        "    <tr>\n",
        "      <th>8  </th>\n",
        "      <td> 1</td>\n",
        "      <td> 3</td>\n",
        "      <td> Johnson, Mrs. Oscar W (Elisabeth Vilhelmina Berg)</td>\n",
        "      <td> female</td>\n",
        "      <td> 27</td>\n",
        "      <td> 0</td>\n",
        "      <td> 2</td>\n",
        "      <td>           347742</td>\n",
        "      <td>  11.1333</td>\n",
        "      <td>         NaN</td>\n",
        "      <td> S</td>\n",
        "    </tr>\n",
        "    <tr>\n",
        "      <th>9  </th>\n",
        "      <td> 1</td>\n",
        "      <td> 2</td>\n",
        "      <td>               Nasser, Mrs. Nicholas (Adele Achem)</td>\n",
        "      <td> female</td>\n",
        "      <td> 14</td>\n",
        "      <td> 1</td>\n",
        "      <td> 0</td>\n",
        "      <td>           237736</td>\n",
        "      <td>  30.0708</td>\n",
        "      <td>         NaN</td>\n",
        "      <td> C</td>\n",
        "    </tr>\n",
        "    <tr>\n",
        "      <th>10 </th>\n",
        "      <td> 1</td>\n",
        "      <td> 3</td>\n",
        "      <td>                   Sandstrom, Miss. Marguerite Rut</td>\n",
        "      <td> female</td>\n",
        "      <td>  4</td>\n",
        "      <td> 1</td>\n",
        "      <td> 1</td>\n",
        "      <td>          PP 9549</td>\n",
        "      <td>  16.7000</td>\n",
        "      <td>          G6</td>\n",
        "      <td> S</td>\n",
        "    </tr>\n",
        "    <tr>\n",
        "      <th>11 </th>\n",
        "      <td> 1</td>\n",
        "      <td> 1</td>\n",
        "      <td>                          Bonnell, Miss. Elizabeth</td>\n",
        "      <td> female</td>\n",
        "      <td> 58</td>\n",
        "      <td> 0</td>\n",
        "      <td> 0</td>\n",
        "      <td>           113783</td>\n",
        "      <td>  26.5500</td>\n",
        "      <td>        C103</td>\n",
        "      <td> S</td>\n",
        "    </tr>\n",
        "    <tr>\n",
        "      <th>12 </th>\n",
        "      <td> 0</td>\n",
        "      <td> 3</td>\n",
        "      <td>                    Saundercock, Mr. William Henry</td>\n",
        "      <td>   male</td>\n",
        "      <td> 20</td>\n",
        "      <td> 0</td>\n",
        "      <td> 0</td>\n",
        "      <td>        A/5. 2151</td>\n",
        "      <td>   8.0500</td>\n",
        "      <td>         NaN</td>\n",
        "      <td> S</td>\n",
        "    </tr>\n",
        "    <tr>\n",
        "      <th>13 </th>\n",
        "      <td> 0</td>\n",
        "      <td> 3</td>\n",
        "      <td>                       Andersson, Mr. Anders Johan</td>\n",
        "      <td>   male</td>\n",
        "      <td> 39</td>\n",
        "      <td> 1</td>\n",
        "      <td> 5</td>\n",
        "      <td>           347082</td>\n",
        "      <td>  31.2750</td>\n",
        "      <td>         NaN</td>\n",
        "      <td> S</td>\n",
        "    </tr>\n",
        "    <tr>\n",
        "      <th>14 </th>\n",
        "      <td> 0</td>\n",
        "      <td> 3</td>\n",
        "      <td>              Vestrom, Miss. Hulda Amanda Adolfina</td>\n",
        "      <td> female</td>\n",
        "      <td> 14</td>\n",
        "      <td> 0</td>\n",
        "      <td> 0</td>\n",
        "      <td>           350406</td>\n",
        "      <td>   7.8542</td>\n",
        "      <td>         NaN</td>\n",
        "      <td> S</td>\n",
        "    </tr>\n",
        "    <tr>\n",
        "      <th>15 </th>\n",
        "      <td> 1</td>\n",
        "      <td> 2</td>\n",
        "      <td>                  Hewlett, Mrs. (Mary D Kingcome) </td>\n",
        "      <td> female</td>\n",
        "      <td> 55</td>\n",
        "      <td> 0</td>\n",
        "      <td> 0</td>\n",
        "      <td>           248706</td>\n",
        "      <td>  16.0000</td>\n",
        "      <td>         NaN</td>\n",
        "      <td> S</td>\n",
        "    </tr>\n",
        "    <tr>\n",
        "      <th>16 </th>\n",
        "      <td> 0</td>\n",
        "      <td> 3</td>\n",
        "      <td>                              Rice, Master. Eugene</td>\n",
        "      <td>   male</td>\n",
        "      <td>  2</td>\n",
        "      <td> 4</td>\n",
        "      <td> 1</td>\n",
        "      <td>           382652</td>\n",
        "      <td>  29.1250</td>\n",
        "      <td>         NaN</td>\n",
        "      <td> Q</td>\n",
        "    </tr>\n",
        "    <tr>\n",
        "      <th>17 </th>\n",
        "      <td> 1</td>\n",
        "      <td> 2</td>\n",
        "      <td>                      Williams, Mr. Charles Eugene</td>\n",
        "      <td>   male</td>\n",
        "      <td>NaN</td>\n",
        "      <td> 0</td>\n",
        "      <td> 0</td>\n",
        "      <td>           244373</td>\n",
        "      <td>  13.0000</td>\n",
        "      <td>         NaN</td>\n",
        "      <td> S</td>\n",
        "    </tr>\n",
        "    <tr>\n",
        "      <th>18 </th>\n",
        "      <td> 0</td>\n",
        "      <td> 3</td>\n",
        "      <td> Vander Planke, Mrs. Julius (Emelia Maria Vande...</td>\n",
        "      <td> female</td>\n",
        "      <td> 31</td>\n",
        "      <td> 1</td>\n",
        "      <td> 0</td>\n",
        "      <td>           345763</td>\n",
        "      <td>  18.0000</td>\n",
        "      <td>         NaN</td>\n",
        "      <td> S</td>\n",
        "    </tr>\n",
        "    <tr>\n",
        "      <th>19 </th>\n",
        "      <td> 1</td>\n",
        "      <td> 3</td>\n",
        "      <td>                           Masselmani, Mrs. Fatima</td>\n",
        "      <td> female</td>\n",
        "      <td>NaN</td>\n",
        "      <td> 0</td>\n",
        "      <td> 0</td>\n",
        "      <td>             2649</td>\n",
        "      <td>   7.2250</td>\n",
        "      <td>         NaN</td>\n",
        "      <td> C</td>\n",
        "    </tr>\n",
        "    <tr>\n",
        "      <th>20 </th>\n",
        "      <td> 0</td>\n",
        "      <td> 2</td>\n",
        "      <td>                              Fynney, Mr. Joseph J</td>\n",
        "      <td>   male</td>\n",
        "      <td> 35</td>\n",
        "      <td> 0</td>\n",
        "      <td> 0</td>\n",
        "      <td>           239865</td>\n",
        "      <td>  26.0000</td>\n",
        "      <td>         NaN</td>\n",
        "      <td> S</td>\n",
        "    </tr>\n",
        "    <tr>\n",
        "      <th>21 </th>\n",
        "      <td> 1</td>\n",
        "      <td> 2</td>\n",
        "      <td>                             Beesley, Mr. Lawrence</td>\n",
        "      <td>   male</td>\n",
        "      <td> 34</td>\n",
        "      <td> 0</td>\n",
        "      <td> 0</td>\n",
        "      <td>           248698</td>\n",
        "      <td>  13.0000</td>\n",
        "      <td>         D56</td>\n",
        "      <td> S</td>\n",
        "    </tr>\n",
        "    <tr>\n",
        "      <th>22 </th>\n",
        "      <td> 1</td>\n",
        "      <td> 3</td>\n",
        "      <td>                       McGowan, Miss. Anna \"Annie\"</td>\n",
        "      <td> female</td>\n",
        "      <td> 15</td>\n",
        "      <td> 0</td>\n",
        "      <td> 0</td>\n",
        "      <td>           330923</td>\n",
        "      <td>   8.0292</td>\n",
        "      <td>         NaN</td>\n",
        "      <td> Q</td>\n",
        "    </tr>\n",
        "    <tr>\n",
        "      <th>23 </th>\n",
        "      <td> 1</td>\n",
        "      <td> 1</td>\n",
        "      <td>                      Sloper, Mr. William Thompson</td>\n",
        "      <td>   male</td>\n",
        "      <td> 28</td>\n",
        "      <td> 0</td>\n",
        "      <td> 0</td>\n",
        "      <td>           113788</td>\n",
        "      <td>  35.5000</td>\n",
        "      <td>          A6</td>\n",
        "      <td> S</td>\n",
        "    </tr>\n",
        "    <tr>\n",
        "      <th>24 </th>\n",
        "      <td> 0</td>\n",
        "      <td> 3</td>\n",
        "      <td>                     Palsson, Miss. Torborg Danira</td>\n",
        "      <td> female</td>\n",
        "      <td>  8</td>\n",
        "      <td> 3</td>\n",
        "      <td> 1</td>\n",
        "      <td>           349909</td>\n",
        "      <td>  21.0750</td>\n",
        "      <td>         NaN</td>\n",
        "      <td> S</td>\n",
        "    </tr>\n",
        "    <tr>\n",
        "      <th>25 </th>\n",
        "      <td> 1</td>\n",
        "      <td> 3</td>\n",
        "      <td> Asplund, Mrs. Carl Oscar (Selma Augusta Emilia...</td>\n",
        "      <td> female</td>\n",
        "      <td> 38</td>\n",
        "      <td> 1</td>\n",
        "      <td> 5</td>\n",
        "      <td>           347077</td>\n",
        "      <td>  31.3875</td>\n",
        "      <td>         NaN</td>\n",
        "      <td> S</td>\n",
        "    </tr>\n",
        "    <tr>\n",
        "      <th>26 </th>\n",
        "      <td> 0</td>\n",
        "      <td> 3</td>\n",
        "      <td>                           Emir, Mr. Farred Chehab</td>\n",
        "      <td>   male</td>\n",
        "      <td>NaN</td>\n",
        "      <td> 0</td>\n",
        "      <td> 0</td>\n",
        "      <td>             2631</td>\n",
        "      <td>   7.2250</td>\n",
        "      <td>         NaN</td>\n",
        "      <td> C</td>\n",
        "    </tr>\n",
        "    <tr>\n",
        "      <th>27 </th>\n",
        "      <td> 0</td>\n",
        "      <td> 1</td>\n",
        "      <td>                    Fortune, Mr. Charles Alexander</td>\n",
        "      <td>   male</td>\n",
        "      <td> 19</td>\n",
        "      <td> 3</td>\n",
        "      <td> 2</td>\n",
        "      <td>            19950</td>\n",
        "      <td> 263.0000</td>\n",
        "      <td> C23 C25 C27</td>\n",
        "      <td> S</td>\n",
        "    </tr>\n",
        "    <tr>\n",
        "      <th>28 </th>\n",
        "      <td> 1</td>\n",
        "      <td> 3</td>\n",
        "      <td>                     O'Dwyer, Miss. Ellen \"Nellie\"</td>\n",
        "      <td> female</td>\n",
        "      <td>NaN</td>\n",
        "      <td> 0</td>\n",
        "      <td> 0</td>\n",
        "      <td>           330959</td>\n",
        "      <td>   7.8792</td>\n",
        "      <td>         NaN</td>\n",
        "      <td> Q</td>\n",
        "    </tr>\n",
        "    <tr>\n",
        "      <th>29 </th>\n",
        "      <td> 0</td>\n",
        "      <td> 3</td>\n",
        "      <td>                               Todoroff, Mr. Lalio</td>\n",
        "      <td>   male</td>\n",
        "      <td>NaN</td>\n",
        "      <td> 0</td>\n",
        "      <td> 0</td>\n",
        "      <td>           349216</td>\n",
        "      <td>   7.8958</td>\n",
        "      <td>         NaN</td>\n",
        "      <td> S</td>\n",
        "    </tr>\n",
        "    <tr>\n",
        "      <th>...</th>\n",
        "      <td>...</td>\n",
        "      <td>...</td>\n",
        "      <td>...</td>\n",
        "      <td>...</td>\n",
        "      <td>...</td>\n",
        "      <td>...</td>\n",
        "      <td>...</td>\n",
        "      <td>...</td>\n",
        "      <td>...</td>\n",
        "      <td>...</td>\n",
        "      <td>...</td>\n",
        "    </tr>\n",
        "    <tr>\n",
        "      <th>861</th>\n",
        "      <td> 0</td>\n",
        "      <td> 2</td>\n",
        "      <td>                       Giles, Mr. Frederick Edward</td>\n",
        "      <td>   male</td>\n",
        "      <td> 21</td>\n",
        "      <td> 1</td>\n",
        "      <td> 0</td>\n",
        "      <td>            28134</td>\n",
        "      <td>  11.5000</td>\n",
        "      <td>         NaN</td>\n",
        "      <td> S</td>\n",
        "    </tr>\n",
        "    <tr>\n",
        "      <th>862</th>\n",
        "      <td> 1</td>\n",
        "      <td> 1</td>\n",
        "      <td> Swift, Mrs. Frederick Joel (Margaret Welles Ba...</td>\n",
        "      <td> female</td>\n",
        "      <td> 48</td>\n",
        "      <td> 0</td>\n",
        "      <td> 0</td>\n",
        "      <td>            17466</td>\n",
        "      <td>  25.9292</td>\n",
        "      <td>         D17</td>\n",
        "      <td> S</td>\n",
        "    </tr>\n",
        "    <tr>\n",
        "      <th>863</th>\n",
        "      <td> 0</td>\n",
        "      <td> 3</td>\n",
        "      <td>                 Sage, Miss. Dorothy Edith \"Dolly\"</td>\n",
        "      <td> female</td>\n",
        "      <td>NaN</td>\n",
        "      <td> 8</td>\n",
        "      <td> 2</td>\n",
        "      <td>         CA. 2343</td>\n",
        "      <td>  69.5500</td>\n",
        "      <td>         NaN</td>\n",
        "      <td> S</td>\n",
        "    </tr>\n",
        "    <tr>\n",
        "      <th>864</th>\n",
        "      <td> 0</td>\n",
        "      <td> 2</td>\n",
        "      <td>                            Gill, Mr. John William</td>\n",
        "      <td>   male</td>\n",
        "      <td> 24</td>\n",
        "      <td> 0</td>\n",
        "      <td> 0</td>\n",
        "      <td>           233866</td>\n",
        "      <td>  13.0000</td>\n",
        "      <td>         NaN</td>\n",
        "      <td> S</td>\n",
        "    </tr>\n",
        "    <tr>\n",
        "      <th>865</th>\n",
        "      <td> 1</td>\n",
        "      <td> 2</td>\n",
        "      <td>                          Bystrom, Mrs. (Karolina)</td>\n",
        "      <td> female</td>\n",
        "      <td> 42</td>\n",
        "      <td> 0</td>\n",
        "      <td> 0</td>\n",
        "      <td>           236852</td>\n",
        "      <td>  13.0000</td>\n",
        "      <td>         NaN</td>\n",
        "      <td> S</td>\n",
        "    </tr>\n",
        "    <tr>\n",
        "      <th>866</th>\n",
        "      <td> 1</td>\n",
        "      <td> 2</td>\n",
        "      <td>                      Duran y More, Miss. Asuncion</td>\n",
        "      <td> female</td>\n",
        "      <td> 27</td>\n",
        "      <td> 1</td>\n",
        "      <td> 0</td>\n",
        "      <td>    SC/PARIS 2149</td>\n",
        "      <td>  13.8583</td>\n",
        "      <td>         NaN</td>\n",
        "      <td> C</td>\n",
        "    </tr>\n",
        "    <tr>\n",
        "      <th>867</th>\n",
        "      <td> 0</td>\n",
        "      <td> 1</td>\n",
        "      <td>              Roebling, Mr. Washington Augustus II</td>\n",
        "      <td>   male</td>\n",
        "      <td> 31</td>\n",
        "      <td> 0</td>\n",
        "      <td> 0</td>\n",
        "      <td>         PC 17590</td>\n",
        "      <td>  50.4958</td>\n",
        "      <td>         A24</td>\n",
        "      <td> S</td>\n",
        "    </tr>\n",
        "    <tr>\n",
        "      <th>868</th>\n",
        "      <td> 0</td>\n",
        "      <td> 3</td>\n",
        "      <td>                       van Melkebeke, Mr. Philemon</td>\n",
        "      <td>   male</td>\n",
        "      <td>NaN</td>\n",
        "      <td> 0</td>\n",
        "      <td> 0</td>\n",
        "      <td>           345777</td>\n",
        "      <td>   9.5000</td>\n",
        "      <td>         NaN</td>\n",
        "      <td> S</td>\n",
        "    </tr>\n",
        "    <tr>\n",
        "      <th>869</th>\n",
        "      <td> 1</td>\n",
        "      <td> 3</td>\n",
        "      <td>                   Johnson, Master. Harold Theodor</td>\n",
        "      <td>   male</td>\n",
        "      <td>  4</td>\n",
        "      <td> 1</td>\n",
        "      <td> 1</td>\n",
        "      <td>           347742</td>\n",
        "      <td>  11.1333</td>\n",
        "      <td>         NaN</td>\n",
        "      <td> S</td>\n",
        "    </tr>\n",
        "    <tr>\n",
        "      <th>870</th>\n",
        "      <td> 0</td>\n",
        "      <td> 3</td>\n",
        "      <td>                                 Balkic, Mr. Cerin</td>\n",
        "      <td>   male</td>\n",
        "      <td> 26</td>\n",
        "      <td> 0</td>\n",
        "      <td> 0</td>\n",
        "      <td>           349248</td>\n",
        "      <td>   7.8958</td>\n",
        "      <td>         NaN</td>\n",
        "      <td> S</td>\n",
        "    </tr>\n",
        "    <tr>\n",
        "      <th>871</th>\n",
        "      <td> 1</td>\n",
        "      <td> 1</td>\n",
        "      <td>  Beckwith, Mrs. Richard Leonard (Sallie Monypeny)</td>\n",
        "      <td> female</td>\n",
        "      <td> 47</td>\n",
        "      <td> 1</td>\n",
        "      <td> 1</td>\n",
        "      <td>            11751</td>\n",
        "      <td>  52.5542</td>\n",
        "      <td>         D35</td>\n",
        "      <td> S</td>\n",
        "    </tr>\n",
        "    <tr>\n",
        "      <th>872</th>\n",
        "      <td> 0</td>\n",
        "      <td> 1</td>\n",
        "      <td>                          Carlsson, Mr. Frans Olof</td>\n",
        "      <td>   male</td>\n",
        "      <td> 33</td>\n",
        "      <td> 0</td>\n",
        "      <td> 0</td>\n",
        "      <td>              695</td>\n",
        "      <td>   5.0000</td>\n",
        "      <td> B51 B53 B55</td>\n",
        "      <td> S</td>\n",
        "    </tr>\n",
        "    <tr>\n",
        "      <th>873</th>\n",
        "      <td> 0</td>\n",
        "      <td> 3</td>\n",
        "      <td>                       Vander Cruyssen, Mr. Victor</td>\n",
        "      <td>   male</td>\n",
        "      <td> 47</td>\n",
        "      <td> 0</td>\n",
        "      <td> 0</td>\n",
        "      <td>           345765</td>\n",
        "      <td>   9.0000</td>\n",
        "      <td>         NaN</td>\n",
        "      <td> S</td>\n",
        "    </tr>\n",
        "    <tr>\n",
        "      <th>874</th>\n",
        "      <td> 1</td>\n",
        "      <td> 2</td>\n",
        "      <td>             Abelson, Mrs. Samuel (Hannah Wizosky)</td>\n",
        "      <td> female</td>\n",
        "      <td> 28</td>\n",
        "      <td> 1</td>\n",
        "      <td> 0</td>\n",
        "      <td>        P/PP 3381</td>\n",
        "      <td>  24.0000</td>\n",
        "      <td>         NaN</td>\n",
        "      <td> C</td>\n",
        "    </tr>\n",
        "    <tr>\n",
        "      <th>875</th>\n",
        "      <td> 1</td>\n",
        "      <td> 3</td>\n",
        "      <td>                  Najib, Miss. Adele Kiamie \"Jane\"</td>\n",
        "      <td> female</td>\n",
        "      <td> 15</td>\n",
        "      <td> 0</td>\n",
        "      <td> 0</td>\n",
        "      <td>             2667</td>\n",
        "      <td>   7.2250</td>\n",
        "      <td>         NaN</td>\n",
        "      <td> C</td>\n",
        "    </tr>\n",
        "    <tr>\n",
        "      <th>876</th>\n",
        "      <td> 0</td>\n",
        "      <td> 3</td>\n",
        "      <td>                     Gustafsson, Mr. Alfred Ossian</td>\n",
        "      <td>   male</td>\n",
        "      <td> 20</td>\n",
        "      <td> 0</td>\n",
        "      <td> 0</td>\n",
        "      <td>             7534</td>\n",
        "      <td>   9.8458</td>\n",
        "      <td>         NaN</td>\n",
        "      <td> S</td>\n",
        "    </tr>\n",
        "    <tr>\n",
        "      <th>877</th>\n",
        "      <td> 0</td>\n",
        "      <td> 3</td>\n",
        "      <td>                              Petroff, Mr. Nedelio</td>\n",
        "      <td>   male</td>\n",
        "      <td> 19</td>\n",
        "      <td> 0</td>\n",
        "      <td> 0</td>\n",
        "      <td>           349212</td>\n",
        "      <td>   7.8958</td>\n",
        "      <td>         NaN</td>\n",
        "      <td> S</td>\n",
        "    </tr>\n",
        "    <tr>\n",
        "      <th>878</th>\n",
        "      <td> 0</td>\n",
        "      <td> 3</td>\n",
        "      <td>                                Laleff, Mr. Kristo</td>\n",
        "      <td>   male</td>\n",
        "      <td>NaN</td>\n",
        "      <td> 0</td>\n",
        "      <td> 0</td>\n",
        "      <td>           349217</td>\n",
        "      <td>   7.8958</td>\n",
        "      <td>         NaN</td>\n",
        "      <td> S</td>\n",
        "    </tr>\n",
        "    <tr>\n",
        "      <th>879</th>\n",
        "      <td> 1</td>\n",
        "      <td> 1</td>\n",
        "      <td>     Potter, Mrs. Thomas Jr (Lily Alexenia Wilson)</td>\n",
        "      <td> female</td>\n",
        "      <td> 56</td>\n",
        "      <td> 0</td>\n",
        "      <td> 1</td>\n",
        "      <td>            11767</td>\n",
        "      <td>  83.1583</td>\n",
        "      <td>         C50</td>\n",
        "      <td> C</td>\n",
        "    </tr>\n",
        "    <tr>\n",
        "      <th>880</th>\n",
        "      <td> 1</td>\n",
        "      <td> 2</td>\n",
        "      <td>      Shelley, Mrs. William (Imanita Parrish Hall)</td>\n",
        "      <td> female</td>\n",
        "      <td> 25</td>\n",
        "      <td> 0</td>\n",
        "      <td> 1</td>\n",
        "      <td>           230433</td>\n",
        "      <td>  26.0000</td>\n",
        "      <td>         NaN</td>\n",
        "      <td> S</td>\n",
        "    </tr>\n",
        "    <tr>\n",
        "      <th>881</th>\n",
        "      <td> 0</td>\n",
        "      <td> 3</td>\n",
        "      <td>                                Markun, Mr. Johann</td>\n",
        "      <td>   male</td>\n",
        "      <td> 33</td>\n",
        "      <td> 0</td>\n",
        "      <td> 0</td>\n",
        "      <td>           349257</td>\n",
        "      <td>   7.8958</td>\n",
        "      <td>         NaN</td>\n",
        "      <td> S</td>\n",
        "    </tr>\n",
        "    <tr>\n",
        "      <th>882</th>\n",
        "      <td> 0</td>\n",
        "      <td> 3</td>\n",
        "      <td>                      Dahlberg, Miss. Gerda Ulrika</td>\n",
        "      <td> female</td>\n",
        "      <td> 22</td>\n",
        "      <td> 0</td>\n",
        "      <td> 0</td>\n",
        "      <td>             7552</td>\n",
        "      <td>  10.5167</td>\n",
        "      <td>         NaN</td>\n",
        "      <td> S</td>\n",
        "    </tr>\n",
        "    <tr>\n",
        "      <th>883</th>\n",
        "      <td> 0</td>\n",
        "      <td> 2</td>\n",
        "      <td>                     Banfield, Mr. Frederick James</td>\n",
        "      <td>   male</td>\n",
        "      <td> 28</td>\n",
        "      <td> 0</td>\n",
        "      <td> 0</td>\n",
        "      <td> C.A./SOTON 34068</td>\n",
        "      <td>  10.5000</td>\n",
        "      <td>         NaN</td>\n",
        "      <td> S</td>\n",
        "    </tr>\n",
        "    <tr>\n",
        "      <th>884</th>\n",
        "      <td> 0</td>\n",
        "      <td> 3</td>\n",
        "      <td>                            Sutehall, Mr. Henry Jr</td>\n",
        "      <td>   male</td>\n",
        "      <td> 25</td>\n",
        "      <td> 0</td>\n",
        "      <td> 0</td>\n",
        "      <td>  SOTON/OQ 392076</td>\n",
        "      <td>   7.0500</td>\n",
        "      <td>         NaN</td>\n",
        "      <td> S</td>\n",
        "    </tr>\n",
        "    <tr>\n",
        "      <th>885</th>\n",
        "      <td> 0</td>\n",
        "      <td> 3</td>\n",
        "      <td>              Rice, Mrs. William (Margaret Norton)</td>\n",
        "      <td> female</td>\n",
        "      <td> 39</td>\n",
        "      <td> 0</td>\n",
        "      <td> 5</td>\n",
        "      <td>           382652</td>\n",
        "      <td>  29.1250</td>\n",
        "      <td>         NaN</td>\n",
        "      <td> Q</td>\n",
        "    </tr>\n",
        "    <tr>\n",
        "      <th>886</th>\n",
        "      <td> 0</td>\n",
        "      <td> 2</td>\n",
        "      <td>                             Montvila, Rev. Juozas</td>\n",
        "      <td>   male</td>\n",
        "      <td> 27</td>\n",
        "      <td> 0</td>\n",
        "      <td> 0</td>\n",
        "      <td>           211536</td>\n",
        "      <td>  13.0000</td>\n",
        "      <td>         NaN</td>\n",
        "      <td> S</td>\n",
        "    </tr>\n",
        "    <tr>\n",
        "      <th>887</th>\n",
        "      <td> 1</td>\n",
        "      <td> 1</td>\n",
        "      <td>                      Graham, Miss. Margaret Edith</td>\n",
        "      <td> female</td>\n",
        "      <td> 19</td>\n",
        "      <td> 0</td>\n",
        "      <td> 0</td>\n",
        "      <td>           112053</td>\n",
        "      <td>  30.0000</td>\n",
        "      <td>         B42</td>\n",
        "      <td> S</td>\n",
        "    </tr>\n",
        "    <tr>\n",
        "      <th>888</th>\n",
        "      <td> 0</td>\n",
        "      <td> 3</td>\n",
        "      <td>          Johnston, Miss. Catherine Helen \"Carrie\"</td>\n",
        "      <td> female</td>\n",
        "      <td>NaN</td>\n",
        "      <td> 1</td>\n",
        "      <td> 2</td>\n",
        "      <td>       W./C. 6607</td>\n",
        "      <td>  23.4500</td>\n",
        "      <td>         NaN</td>\n",
        "      <td> S</td>\n",
        "    </tr>\n",
        "    <tr>\n",
        "      <th>889</th>\n",
        "      <td> 1</td>\n",
        "      <td> 1</td>\n",
        "      <td>                             Behr, Mr. Karl Howell</td>\n",
        "      <td>   male</td>\n",
        "      <td> 26</td>\n",
        "      <td> 0</td>\n",
        "      <td> 0</td>\n",
        "      <td>           111369</td>\n",
        "      <td>  30.0000</td>\n",
        "      <td>        C148</td>\n",
        "      <td> C</td>\n",
        "    </tr>\n",
        "    <tr>\n",
        "      <th>890</th>\n",
        "      <td> 0</td>\n",
        "      <td> 3</td>\n",
        "      <td>                               Dooley, Mr. Patrick</td>\n",
        "      <td>   male</td>\n",
        "      <td> 32</td>\n",
        "      <td> 0</td>\n",
        "      <td> 0</td>\n",
        "      <td>           370376</td>\n",
        "      <td>   7.7500</td>\n",
        "      <td>         NaN</td>\n",
        "      <td> Q</td>\n",
        "    </tr>\n",
        "  </tbody>\n",
        "</table>\n",
        "<p>891 rows \u00d7 11 columns</p>\n",
        "</div>"
       ],
       "metadata": {},
       "output_type": "pyout",
       "prompt_number": 6,
       "text": [
        "     survived  pclass                                               name  \\\n",
        "0           0       3                            Braund, Mr. Owen Harris   \n",
        "1           1       1  Cumings, Mrs. John Bradley (Florence Briggs Th...   \n",
        "2           1       3                             Heikkinen, Miss. Laina   \n",
        "3           1       1       Futrelle, Mrs. Jacques Heath (Lily May Peel)   \n",
        "4           0       3                           Allen, Mr. William Henry   \n",
        "5           0       3                                   Moran, Mr. James   \n",
        "6           0       1                            McCarthy, Mr. Timothy J   \n",
        "7           0       3                     Palsson, Master. Gosta Leonard   \n",
        "8           1       3  Johnson, Mrs. Oscar W (Elisabeth Vilhelmina Berg)   \n",
        "9           1       2                Nasser, Mrs. Nicholas (Adele Achem)   \n",
        "10          1       3                    Sandstrom, Miss. Marguerite Rut   \n",
        "11          1       1                           Bonnell, Miss. Elizabeth   \n",
        "12          0       3                     Saundercock, Mr. William Henry   \n",
        "13          0       3                        Andersson, Mr. Anders Johan   \n",
        "14          0       3               Vestrom, Miss. Hulda Amanda Adolfina   \n",
        "15          1       2                   Hewlett, Mrs. (Mary D Kingcome)    \n",
        "16          0       3                               Rice, Master. Eugene   \n",
        "17          1       2                       Williams, Mr. Charles Eugene   \n",
        "18          0       3  Vander Planke, Mrs. Julius (Emelia Maria Vande...   \n",
        "19          1       3                            Masselmani, Mrs. Fatima   \n",
        "20          0       2                               Fynney, Mr. Joseph J   \n",
        "21          1       2                              Beesley, Mr. Lawrence   \n",
        "22          1       3                        McGowan, Miss. Anna \"Annie\"   \n",
        "23          1       1                       Sloper, Mr. William Thompson   \n",
        "24          0       3                      Palsson, Miss. Torborg Danira   \n",
        "25          1       3  Asplund, Mrs. Carl Oscar (Selma Augusta Emilia...   \n",
        "26          0       3                            Emir, Mr. Farred Chehab   \n",
        "27          0       1                     Fortune, Mr. Charles Alexander   \n",
        "28          1       3                      O'Dwyer, Miss. Ellen \"Nellie\"   \n",
        "29          0       3                                Todoroff, Mr. Lalio   \n",
        "..        ...     ...                                                ...   \n",
        "861         0       2                        Giles, Mr. Frederick Edward   \n",
        "862         1       1  Swift, Mrs. Frederick Joel (Margaret Welles Ba...   \n",
        "863         0       3                  Sage, Miss. Dorothy Edith \"Dolly\"   \n",
        "864         0       2                             Gill, Mr. John William   \n",
        "865         1       2                           Bystrom, Mrs. (Karolina)   \n",
        "866         1       2                       Duran y More, Miss. Asuncion   \n",
        "867         0       1               Roebling, Mr. Washington Augustus II   \n",
        "868         0       3                        van Melkebeke, Mr. Philemon   \n",
        "869         1       3                    Johnson, Master. Harold Theodor   \n",
        "870         0       3                                  Balkic, Mr. Cerin   \n",
        "871         1       1   Beckwith, Mrs. Richard Leonard (Sallie Monypeny)   \n",
        "872         0       1                           Carlsson, Mr. Frans Olof   \n",
        "873         0       3                        Vander Cruyssen, Mr. Victor   \n",
        "874         1       2              Abelson, Mrs. Samuel (Hannah Wizosky)   \n",
        "875         1       3                   Najib, Miss. Adele Kiamie \"Jane\"   \n",
        "876         0       3                      Gustafsson, Mr. Alfred Ossian   \n",
        "877         0       3                               Petroff, Mr. Nedelio   \n",
        "878         0       3                                 Laleff, Mr. Kristo   \n",
        "879         1       1      Potter, Mrs. Thomas Jr (Lily Alexenia Wilson)   \n",
        "880         1       2       Shelley, Mrs. William (Imanita Parrish Hall)   \n",
        "881         0       3                                 Markun, Mr. Johann   \n",
        "882         0       3                       Dahlberg, Miss. Gerda Ulrika   \n",
        "883         0       2                      Banfield, Mr. Frederick James   \n",
        "884         0       3                             Sutehall, Mr. Henry Jr   \n",
        "885         0       3               Rice, Mrs. William (Margaret Norton)   \n",
        "886         0       2                              Montvila, Rev. Juozas   \n",
        "887         1       1                       Graham, Miss. Margaret Edith   \n",
        "888         0       3           Johnston, Miss. Catherine Helen \"Carrie\"   \n",
        "889         1       1                              Behr, Mr. Karl Howell   \n",
        "890         0       3                                Dooley, Mr. Patrick   \n",
        "\n",
        "        sex  age  sibsp  parch            ticket      fare        cabin  \\\n",
        "0      male   22      1      0         A/5 21171    7.2500          NaN   \n",
        "1    female   38      1      0          PC 17599   71.2833          C85   \n",
        "2    female   26      0      0  STON/O2. 3101282    7.9250          NaN   \n",
        "3    female   35      1      0            113803   53.1000         C123   \n",
        "4      male   35      0      0            373450    8.0500          NaN   \n",
        "5      male  NaN      0      0            330877    8.4583          NaN   \n",
        "6      male   54      0      0             17463   51.8625          E46   \n",
        "7      male    2      3      1            349909   21.0750          NaN   \n",
        "8    female   27      0      2            347742   11.1333          NaN   \n",
        "9    female   14      1      0            237736   30.0708          NaN   \n",
        "10   female    4      1      1           PP 9549   16.7000           G6   \n",
        "11   female   58      0      0            113783   26.5500         C103   \n",
        "12     male   20      0      0         A/5. 2151    8.0500          NaN   \n",
        "13     male   39      1      5            347082   31.2750          NaN   \n",
        "14   female   14      0      0            350406    7.8542          NaN   \n",
        "15   female   55      0      0            248706   16.0000          NaN   \n",
        "16     male    2      4      1            382652   29.1250          NaN   \n",
        "17     male  NaN      0      0            244373   13.0000          NaN   \n",
        "18   female   31      1      0            345763   18.0000          NaN   \n",
        "19   female  NaN      0      0              2649    7.2250          NaN   \n",
        "20     male   35      0      0            239865   26.0000          NaN   \n",
        "21     male   34      0      0            248698   13.0000          D56   \n",
        "22   female   15      0      0            330923    8.0292          NaN   \n",
        "23     male   28      0      0            113788   35.5000           A6   \n",
        "24   female    8      3      1            349909   21.0750          NaN   \n",
        "25   female   38      1      5            347077   31.3875          NaN   \n",
        "26     male  NaN      0      0              2631    7.2250          NaN   \n",
        "27     male   19      3      2             19950  263.0000  C23 C25 C27   \n",
        "28   female  NaN      0      0            330959    7.8792          NaN   \n",
        "29     male  NaN      0      0            349216    7.8958          NaN   \n",
        "..      ...  ...    ...    ...               ...       ...          ...   \n",
        "861    male   21      1      0             28134   11.5000          NaN   \n",
        "862  female   48      0      0             17466   25.9292          D17   \n",
        "863  female  NaN      8      2          CA. 2343   69.5500          NaN   \n",
        "864    male   24      0      0            233866   13.0000          NaN   \n",
        "865  female   42      0      0            236852   13.0000          NaN   \n",
        "866  female   27      1      0     SC/PARIS 2149   13.8583          NaN   \n",
        "867    male   31      0      0          PC 17590   50.4958          A24   \n",
        "868    male  NaN      0      0            345777    9.5000          NaN   \n",
        "869    male    4      1      1            347742   11.1333          NaN   \n",
        "870    male   26      0      0            349248    7.8958          NaN   \n",
        "871  female   47      1      1             11751   52.5542          D35   \n",
        "872    male   33      0      0               695    5.0000  B51 B53 B55   \n",
        "873    male   47      0      0            345765    9.0000          NaN   \n",
        "874  female   28      1      0         P/PP 3381   24.0000          NaN   \n",
        "875  female   15      0      0              2667    7.2250          NaN   \n",
        "876    male   20      0      0              7534    9.8458          NaN   \n",
        "877    male   19      0      0            349212    7.8958          NaN   \n",
        "878    male  NaN      0      0            349217    7.8958          NaN   \n",
        "879  female   56      0      1             11767   83.1583          C50   \n",
        "880  female   25      0      1            230433   26.0000          NaN   \n",
        "881    male   33      0      0            349257    7.8958          NaN   \n",
        "882  female   22      0      0              7552   10.5167          NaN   \n",
        "883    male   28      0      0  C.A./SOTON 34068   10.5000          NaN   \n",
        "884    male   25      0      0   SOTON/OQ 392076    7.0500          NaN   \n",
        "885  female   39      0      5            382652   29.1250          NaN   \n",
        "886    male   27      0      0            211536   13.0000          NaN   \n",
        "887  female   19      0      0            112053   30.0000          B42   \n",
        "888  female  NaN      1      2        W./C. 6607   23.4500          NaN   \n",
        "889    male   26      0      0            111369   30.0000         C148   \n",
        "890    male   32      0      0            370376    7.7500          NaN   \n",
        "\n",
        "    embarked  \n",
        "0          S  \n",
        "1          C  \n",
        "2          S  \n",
        "3          S  \n",
        "4          S  \n",
        "5          Q  \n",
        "6          S  \n",
        "7          S  \n",
        "8          S  \n",
        "9          C  \n",
        "10         S  \n",
        "11         S  \n",
        "12         S  \n",
        "13         S  \n",
        "14         S  \n",
        "15         S  \n",
        "16         Q  \n",
        "17         S  \n",
        "18         S  \n",
        "19         C  \n",
        "20         S  \n",
        "21         S  \n",
        "22         Q  \n",
        "23         S  \n",
        "24         S  \n",
        "25         S  \n",
        "26         C  \n",
        "27         S  \n",
        "28         Q  \n",
        "29         S  \n",
        "..       ...  \n",
        "861        S  \n",
        "862        S  \n",
        "863        S  \n",
        "864        S  \n",
        "865        S  \n",
        "866        C  \n",
        "867        S  \n",
        "868        S  \n",
        "869        S  \n",
        "870        S  \n",
        "871        S  \n",
        "872        S  \n",
        "873        S  \n",
        "874        C  \n",
        "875        C  \n",
        "876        S  \n",
        "877        S  \n",
        "878        S  \n",
        "879        C  \n",
        "880        S  \n",
        "881        S  \n",
        "882        S  \n",
        "883        S  \n",
        "884        S  \n",
        "885        Q  \n",
        "886        S  \n",
        "887        S  \n",
        "888        S  \n",
        "889        C  \n",
        "890        Q  \n",
        "\n",
        "[891 rows x 11 columns]"
       ]
      }
     ],
     "prompt_number": 6
    },
    {
     "cell_type": "code",
     "collapsed": false,
     "input": [
      "SurvivedByClass=titanic.groupby('pclass').survived.sum()"
     ],
     "language": "python",
     "metadata": {},
     "outputs": [],
     "prompt_number": 7
    },
    {
     "cell_type": "code",
     "collapsed": false,
     "input": [
      "SurvivedByClass"
     ],
     "language": "python",
     "metadata": {},
     "outputs": [
      {
       "metadata": {},
       "output_type": "pyout",
       "prompt_number": 8,
       "text": [
        "pclass\n",
        "1         136\n",
        "2          87\n",
        "3         119\n",
        "Name: survived, dtype: int64"
       ]
      }
     ],
     "prompt_number": 8
    },
    {
     "cell_type": "code",
     "collapsed": false,
     "input": [
      "SurvivedByClass.plot(kind='bar',title='Titanic Survivors by Class')"
     ],
     "language": "python",
     "metadata": {},
     "outputs": [
      {
       "metadata": {},
       "output_type": "pyout",
       "prompt_number": 9,
       "text": [
        "<matplotlib.axes._subplots.AxesSubplot at 0x1053a2d90>"
       ]
      },
      {
       "metadata": {},
       "output_type": "display_data",
       "png": "[encoded data removed]",
       "text": [
        "<matplotlib.figure.Figure at 0x1071257d0>"
       ]
      }
     ],
     "prompt_number": 9
    },
    {
     "cell_type": "code",
     "collapsed": false,
     "input": [
      "# Combine multiple groups and plot\n",
      "titanic.groupby(['sex','pclass']).survived.sum().plot(kind='barh',title='Titanic Survivors by Class and Gender')"
     ],
     "language": "python",
     "metadata": {},
     "outputs": [
      {
       "metadata": {},
       "output_type": "pyout",
       "prompt_number": 10,
       "text": [
        "<matplotlib.axes._subplots.AxesSubplot at 0x106a71e90>"
       ]
      },
      {
       "metadata": {},
       "output_type": "display_data",
       "png": "[encoded data removed]",
       "text": [
        "<matplotlib.figure.Figure at 0x1070e1d90>"
       ]
      }
     ],
     "prompt_number": 10
    },
    {
     "cell_type": "code",
     "collapsed": false,
     "input": [
      "# Plot CrossTabs\n",
      "death_counts = pd.crosstab([titanic.pclass, titanic.sex], titanic.survived.astype(bool))\n",
      "death_counts.plot(kind='bar', stacked=True, title='Passenger Outcomes by Gender and Class', color=['white','blue'], grid=False)"
     ],
     "language": "python",
     "metadata": {},
     "outputs": [
      {
       "metadata": {},
       "output_type": "pyout",
       "prompt_number": 12,
       "text": [
        "<matplotlib.axes._subplots.AxesSubplot at 0x107301190>"
       ]
      },
      {
       "metadata": {},
       "output_type": "display_data",
       "png": "[encoded data removed]",
       "text": [
        "<matplotlib.figure.Figure at 0x106a5de90>"
       ]
      }
     ],
     "prompt_number": 12
    },
    {
     "cell_type": "markdown",
     "metadata": {},
     "source": [
      "###Histograms and Density Plots"
     ]
    },
    {
     "cell_type": "code",
     "collapsed": false,
     "input": [
      "# Histogram of a particular column\n",
      "titanic.fare.hist(grid=False,bins=25,range=(0,100))"
     ],
     "language": "python",
     "metadata": {},
     "outputs": [
      {
       "metadata": {},
       "output_type": "pyout",
       "prompt_number": 13,
       "text": [
        "<matplotlib.axes._subplots.AxesSubplot at 0x106badc10>"
       ]
      },
      {
       "metadata": {},
       "output_type": "display_data",
       "png": "[encoded data removed]",
       "text": [
        "<matplotlib.figure.Figure at 0x1070c2490>"
       ]
      }
     ],
     "prompt_number": 13
    },
    {
     "cell_type": "code",
     "collapsed": false,
     "input": [
      "# Density plot -- Estimate the 'true' distribution\n",
      "titanic.fare.dropna().plot(kind='kde', xlim=(0,100))"
     ],
     "language": "python",
     "metadata": {},
     "outputs": [
      {
       "metadata": {},
       "output_type": "pyout",
       "prompt_number": 14,
       "text": [
        "<matplotlib.axes._subplots.AxesSubplot at 0x106bad990>"
       ]
      },
      {
       "metadata": {},
       "output_type": "display_data",
       "png": "[encoded data removed]",
       "text": [
        "<matplotlib.figure.Figure at 0x107689a50>"
       ]
      }
     ],
     "prompt_number": 14
    },
    {
     "cell_type": "code",
     "collapsed": false,
     "input": [
      "titanic.fare.hist(bins=25, normed=True, color='lightseagreen')"
     ],
     "language": "python",
     "metadata": {},
     "outputs": [
      {
       "metadata": {},
       "output_type": "pyout",
       "prompt_number": 15,
       "text": [
        "<matplotlib.axes._subplots.AxesSubplot at 0x107436b10>"
       ]
      },
      {
       "metadata": {},
       "output_type": "display_data",
       "png": "[encoded data removed]",
       "text": [
        "<matplotlib.figure.Figure at 0x108027f50>"
       ]
      }
     ],
     "prompt_number": 15
    },
    {
     "cell_type": "code",
     "collapsed": false,
     "input": [
      "titanic.fare.plot(kind='kde', xlim=(0,600), style='r--')"
     ],
     "language": "python",
     "metadata": {},
     "outputs": [
      {
       "metadata": {},
       "output_type": "pyout",
       "prompt_number": 16,
       "text": [
        "<matplotlib.axes._subplots.AxesSubplot at 0x106bb7cd0>"
       ]
      },
      {
       "metadata": {},
       "output_type": "display_data",
       "png": "[encoded data removed]",
       "text": [
        "<matplotlib.figure.Figure at 0x1093007d0>"
       ]
      }
     ],
     "prompt_number": 16
    },
    {
     "cell_type": "code",
     "collapsed": false,
     "input": [
      "titanic.boxplot(column='fare',by='pclass',grid=False)"
     ],
     "language": "python",
     "metadata": {},
     "outputs": [
      {
       "metadata": {},
       "output_type": "pyout",
       "prompt_number": 17,
       "text": [
        "<matplotlib.axes._subplots.AxesSubplot at 0x1091c3750>"
       ]
      },
      {
       "metadata": {},
       "output_type": "display_data",
       "png": "[encoded data removed]",
       "text": [
        "<matplotlib.figure.Figure at 0x1096caa50>"
       ]
      }
     ],
     "prompt_number": 17
    },
    {
     "cell_type": "code",
     "collapsed": false,
     "input": [
      "# Combine pandas plots by running them together -- if pandas thinks they can be overlapped, it will"
     ],
     "language": "python",
     "metadata": {},
     "outputs": [],
     "prompt_number": 18
    },
    {
     "cell_type": "code",
     "collapsed": false,
     "input": [
      "titanic.fare.hist(bins=25, normed=True, color='lightseagreen')"
     ],
     "language": "python",
     "metadata": {},
     "outputs": [
      {
       "metadata": {},
       "output_type": "pyout",
       "prompt_number": 19,
       "text": [
        "<matplotlib.axes._subplots.AxesSubplot at 0x106bb7a10>"
       ]
      },
      {
       "metadata": {},
       "output_type": "display_data",
       "png": "[encoded data removed]",
       "text": [
        "<matplotlib.figure.Figure at 0x10978cdd0>"
       ]
      }
     ],
     "prompt_number": 19
    },
    {
     "cell_type": "code",
     "collapsed": false,
     "input": [
      "titanic.fare.plot(kind='kde', xlim=(0,100), style='r--')"
     ],
     "language": "python",
     "metadata": {},
     "outputs": [
      {
       "metadata": {},
       "output_type": "pyout",
       "prompt_number": 20,
       "text": [
        "<matplotlib.axes._subplots.AxesSubplot at 0x106bb7090>"
       ]
      },
      {
       "metadata": {},
       "output_type": "display_data",
       "png": "[encoded data removed]",
       "text": [
        "<matplotlib.figure.Figure at 0x10a2a3b50>"
       ]
      }
     ],
     "prompt_number": 20
    },
    {
     "cell_type": "code",
     "collapsed": false,
     "input": [
      "titanic.boxplot(column='fare',by='pclass',grid=False)"
     ],
     "language": "python",
     "metadata": {},
     "outputs": [
      {
       "metadata": {},
       "output_type": "pyout",
       "prompt_number": 21,
       "text": [
        "<matplotlib.axes._subplots.AxesSubplot at 0x10a287a50>"
       ]
      },
      {
       "metadata": {},
       "output_type": "display_data",
       "png": "[encoded data removed]",
       "text": [
        "<matplotlib.figure.Figure at 0x10a507910>"
       ]
      }
     ],
     "prompt_number": 21
    },
    {
     "cell_type": "markdown",
     "metadata": {},
     "source": [
      "##Exercise:\n",
      "With your partner, choose and load a dataset from the [Rdatasets collection](http://vincentarelbundock.github.io/Rdatasets/datasets.html).  Explore it a bit, make some plots of various kinds, display your work cleanly in an iPython noteook."
     ]
    },
    {
     "cell_type": "markdown",
     "metadata": {},
     "source": [
      "### Additional Resources:\n",
      "\n",
      "* [pandas documentation](http://pandas.pydata.org/pandas-docs/stable/)\n",
      "* [Introduction to pandas](http://nbviewer.ipython.org/urls/gist.github.com/fonnesbeck/5850375/raw/c18cfcd9580d382cb6d14e4708aab33a0916ff3e/1.+Introduction+to+Pandas.ipynb) by [Chris Fonnesbeck](https://twitter.com/fonnesbeck)\n",
      "* [pandas videos from PyCon](http://pyvideo.org/search?models=videos.video&q=pandas)\n",
      "* [pandas and Python top 10](http://manishamde.github.io/blog/2013/03/07/pandas-and-python-top-10/)\n",
      "* [pandasql](http://blog.yhathq.com/posts/pandasql-sql-for-pandas-dataframes.html)"
     ]
    }
   ],
   "metadata": {}
  }
 ]
}