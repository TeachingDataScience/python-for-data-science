{
 "metadata": {
  "name": "",
  "signature": "sha256:fcc0f5883b7ea9b597ed1534ce7c3d32a770d4a5804bc8a8586264a62e46ea71"
 },
 "nbformat": 3,
 "nbformat_minor": 0,
 "worksheets": [
  {
   "cells": [
    {
     "cell_type": "markdown",
     "metadata": {},
     "source": [
      "# Intro to Python for Data Science\n",
      "\n",
      "#### Organization\n",
      "\n",
      "The course will be organized into four sections: three basic learning sections and one exploratory section. Each section will follow the following format:\n",
      "\n",
      "* **Realize.** Realize the importance of the topics at hand. Collaborative discussion and introduction to concepts.  Why is this material important?  What are our short-term and long-term goals with this material?\n",
      "* **Apply.** Apply the techniques.  Group and independent work experimenting with the concepts.  \n",
      "* **Debrief.**  Debrief and discussion showcasing results and discussing the concepts, challenges, and ways to move forward.\n",
      "\n",
      "#### Broad Topics\n",
      "\n",
      "* A: Python, iPython and Pandas\n",
      "* B: Exploring Data with Pandas\n",
      "* C: Machine Learning with SK-Learn\n",
      "* D: Your introduction to Data Science with Python\n",
      "\n",
      "#### 4 Hours Tailored to the Individual Group (and its Individuals)\n",
      "\n",
      "Even in these few notebooks, there is enough material for a week's worth of practice and learning.\n",
      "\n",
      "We'll be learning about each other's goals and technical backgrounds and adjusting our focus for each section.\n",
      "\n",
      "Generally, we'll all be working on the same material together, so that we can maximally learn from each other.  However, depending on the background of the class, we may:\n",
      "* Split into pairs of ['intermediate','advanced'] with the advanced coalescing their knowledge by communicating it clearly to their partners.\n",
      "* Split the group into groups with an 'advanced' and an 'intermediate' group (there's no beginners in this class)\n",
      "\n",
      "<!---\n",
      "#### Schedule\n",
      "\n",
      "The schedule will be some vague approximation of this:\n",
      "\n",
      "![vague approximation of schedule](http://note.io/1oaLCPe)\n",
      "-->"
     ]
    },
    {
     "cell_type": "code",
     "collapsed": false,
     "input": [],
     "language": "python",
     "metadata": {},
     "outputs": []
    }
   ],
   "metadata": {}
  }
 ]
}