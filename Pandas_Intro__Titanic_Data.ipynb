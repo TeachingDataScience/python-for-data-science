{
 "metadata": {
  "name": "",
  "signature": "sha256:43d901ec420a6c302beeceac2f516a42a67ecf0aa19fd81ac7fa010b8b326a0c"
 },
 "nbformat": 3,
 "nbformat_minor": 0,
 "worksheets": [
  {
   "cells": [
    {
     "cell_type": "markdown",
     "metadata": {},
     "source": [
      "# Pandas"
     ]
    },
    {
     "cell_type": "markdown",
     "metadata": {},
     "source": [
      "# Introducing Pandas\n",
      "\n",
      "Major sources/resources include tutorials by guys named Greg: [Greg Lamp](http://nbviewer.ipython.org/urls/raw2.github.com/yhat/DataGotham2013/master/notebooks/1%20-%20Tools%20Overview.ipynb?create=1#pandas) and [Greg Rada](http://www.gregreda.com/2013/10/26/intro-to-pandas-data-structures/)"
     ]
    },
    {
     "cell_type": "markdown",
     "metadata": {},
     "source": [
      "#### pandas is the utility belt for data analysts using python. The package centers around the pandas ```DataFrame```, a two-dimensional data structure with indexable rows and columns. It has effectively taken the best parts of Base R, R packages like plyr and reshape2 and consolidated them into a single library.\n",
      "\n",
      "#### Library highlights include:\n",
      "\n",
      "- DataFrame\n",
      "- Indexable rows and columns (e.g. selecting columns and rows via column/row names)\n",
      "- Boolean indexing\n",
      "- Graceful treatment of missing or ```NA``` values\n",
      "- Broadcasting (i.e. calling a function on an entire row or column without iteration)\n",
      "- Outstanding ```split```, ```apply```, ```combine```, ```groupby``` functionality\n",
      "- Simple yet powerful string manipulation (again, applied over a large number of strings)\n",
      "- Built-in summary statistics (```mean```, ```std```, ```corr```, etc.)\n",
      "- Merging, joining, data set concatenation"
     ]
    },
    {
     "cell_type": "markdown",
     "metadata": {},
     "source": [
      "## Data Structures\n",
      "pandas introduces two new data structures to Python - [Series](http://pandas.pydata.org/pandas-docs/dev/dsintro.html#series) and [DataFrame](http://pandas.pydata.org/pandas-docs/dev/dsintro.html#dataframe), both of which are built on top of [NumPy](http://www.numpy.org/) (this means it's fast)."
     ]
    },
    {
     "cell_type": "code",
     "collapsed": false,
     "input": [
      "import pandas as pd\n",
      "import numpy as np\n",
      "import matplotlib.pyplot as plt\n",
      "pd.set_option('max_columns', 50)\n"
     ],
     "language": "python",
     "metadata": {},
     "outputs": []
    },
    {
     "cell_type": "code",
     "collapsed": false,
     "input": [],
     "language": "python",
     "metadata": {},
     "outputs": []
    },
    {
     "cell_type": "code",
     "collapsed": false,
     "input": [],
     "language": "python",
     "metadata": {},
     "outputs": []
    },
    {
     "cell_type": "code",
     "collapsed": false,
     "input": [],
     "language": "python",
     "metadata": {},
     "outputs": []
    },
    {
     "cell_type": "code",
     "collapsed": false,
     "input": [],
     "language": "python",
     "metadata": {},
     "outputs": []
    },
    {
     "cell_type": "markdown",
     "metadata": {},
     "source": [
      "### Series"
     ]
    },
    {
     "cell_type": "markdown",
     "metadata": {},
     "source": [
      "A Series is a one-dimensional object similar to an array, list, or column in a table. It will assign a labeled index to each item in the Series. By default, each item will receive an index label from 0 to N, where N is the length of the Series minus one."
     ]
    },
    {
     "cell_type": "markdown",
     "metadata": {},
     "source": [
      "The Series constructor can convert a dictonary as well, using the keys of the dictionary as its index."
     ]
    },
    {
     "cell_type": "code",
     "collapsed": false,
     "input": [
      "d = {'Chicago': 1000, 'New York': 1300, 'Portland': 900, 'San Francisco': 1100,\n",
      "     'Austin': 450, 'Boston': None}\n",
      "cities = pd.Series(d)\n",
      "cities"
     ],
     "language": "python",
     "metadata": {},
     "outputs": []
    },
    {
     "cell_type": "markdown",
     "metadata": {},
     "source": [
      "You can use the index to select specific items from the Series ..."
     ]
    },
    {
     "cell_type": "code",
     "collapsed": false,
     "input": [],
     "language": "python",
     "metadata": {},
     "outputs": []
    },
    {
     "cell_type": "code",
     "collapsed": false,
     "input": [
      "cities['Chicago']"
     ],
     "language": "python",
     "metadata": {},
     "outputs": []
    },
    {
     "cell_type": "code",
     "collapsed": false,
     "input": [
      "cities[['Chicago', 'Portland', 'San Francisco']]"
     ],
     "language": "python",
     "metadata": {},
     "outputs": []
    },
    {
     "cell_type": "markdown",
     "metadata": {},
     "source": [
      "Or you can use boolean indexing for selection."
     ]
    },
    {
     "cell_type": "code",
     "collapsed": false,
     "input": [
      "cities[cities < 1000]"
     ],
     "language": "python",
     "metadata": {},
     "outputs": []
    },
    {
     "cell_type": "markdown",
     "metadata": {},
     "source": [
      "That last one might be a little weird, so let's make it more clear - `cities < 1000` returns a Series of True/False values, which we then pass to our Series `cities`, returning the corresponding True items."
     ]
    },
    {
     "cell_type": "code",
     "collapsed": false,
     "input": [
      "less_than_1000 = cities < 1000\n",
      "print less_than_1000\n",
      "print '\\n'\n",
      "print cities[less_than_1000]"
     ],
     "language": "python",
     "metadata": {},
     "outputs": []
    },
    {
     "cell_type": "markdown",
     "metadata": {},
     "source": [
      "You can also change the values in a Series on the fly."
     ]
    },
    {
     "cell_type": "code",
     "collapsed": false,
     "input": [
      "# changing based on the index\n",
      "print 'Old value:', cities['Chicago']\n",
      "cities['Chicago'] = 1400\n",
      "print 'New value:', cities['Chicago']"
     ],
     "language": "python",
     "metadata": {},
     "outputs": []
    },
    {
     "cell_type": "code",
     "collapsed": false,
     "input": [
      "# changing values using boolean logic\n",
      "print cities[cities < 1000]\n",
      "print '\\n'\n",
      "cities[cities < 1000] = 750\n",
      "\n",
      "print cities[cities < 1000]"
     ],
     "language": "python",
     "metadata": {},
     "outputs": []
    },
    {
     "cell_type": "markdown",
     "metadata": {},
     "source": [
      "What if you aren't sure whether an item is in the Series?  You can check using idiomatic Python."
     ]
    },
    {
     "cell_type": "code",
     "collapsed": false,
     "input": [
      "print 'Seattle' in cities\n",
      "print 'San Francisco' in cities"
     ],
     "language": "python",
     "metadata": {},
     "outputs": []
    },
    {
     "cell_type": "markdown",
     "metadata": {},
     "source": [
      "Mathematical operations can be done using scalars and functions."
     ]
    },
    {
     "cell_type": "code",
     "collapsed": false,
     "input": [
      "# divide city values by 3\n",
      "cities / 3"
     ],
     "language": "python",
     "metadata": {},
     "outputs": []
    },
    {
     "cell_type": "code",
     "collapsed": false,
     "input": [
      "# square city values\n",
      "np.square(cities)"
     ],
     "language": "python",
     "metadata": {},
     "outputs": []
    },
    {
     "cell_type": "markdown",
     "metadata": {},
     "source": [
      "You can add two Series together, which returns a union of the two Series with the addition occurring on the shared index values.  Values on either Series that did not have a shared index will produce a NULL/NaN (not a number)."
     ]
    },
    {
     "cell_type": "code",
     "collapsed": false,
     "input": [
      "print cities[['Chicago', 'New York', 'Portland']]\n",
      "print'\\n'\n",
      "print cities[['Austin', 'New York']]\n",
      "print'\\n'\n",
      "print cities[['Chicago', 'New York', 'Portland']] + cities[['Austin', 'New York']]"
     ],
     "language": "python",
     "metadata": {},
     "outputs": []
    },
    {
     "cell_type": "markdown",
     "metadata": {},
     "source": [
      "Notice that because Austin, Chicago, and Portland were not found in both Series, they were returned with NULL/NaN values.\n",
      "\n",
      "NULL checking can be performed with `isnull` and `notnull`."
     ]
    },
    {
     "cell_type": "code",
     "collapsed": false,
     "input": [
      "# returns a boolean series indicating which values aren't NULL\n",
      "cities.notnull()"
     ],
     "language": "python",
     "metadata": {},
     "outputs": []
    },
    {
     "cell_type": "code",
     "collapsed": false,
     "input": [
      "# use boolean logic to grab the NULL cities\n",
      "print cities.isnull()\n",
      "print '\\n'\n",
      "print cities[cities.isnull()]"
     ],
     "language": "python",
     "metadata": {},
     "outputs": []
    },
    {
     "cell_type": "markdown",
     "metadata": {},
     "source": [
      "## DataFrame\n",
      "\n",
      "A DataFrame is a tablular data structure comprised of rows and columns, akin to a spreadsheet, database table, or R's data.frame object. You can also think of a DataFrame as a group of Series objects that share an index (the column names).\n",
      "\n",
      "For the rest of the tutorial, we'll be primarily working with DataFrames."
     ]
    },
    {
     "cell_type": "markdown",
     "metadata": {},
     "source": [
      "**CSV**\n",
      "\n",
      "Reading a CSV is as simple as calling the *read_csv* function. By default, the *read_csv* function expects the column separator to be a comma, but you can change that using the `sep` parameter."
     ]
    },
    {
     "cell_type": "markdown",
     "metadata": {},
     "source": [
      "## Working with DataFrames"
     ]
    },
    {
     "cell_type": "markdown",
     "metadata": {},
     "source": [
      "Now that we can get data into a DataFrame, we can finally start working with them. pandas has an abundance of functionality, far too much for me to cover in this introduction. I'd encourage anyone interested in diving deeper into the library to check out its [excellent documentation](http://pandas.pydata.org/pandas-docs/stable/). Or just use Google - there are a lot of Stack Overflow questions and blog posts covering specifics of the library."
     ]
    },
    {
     "cell_type": "markdown",
     "metadata": {},
     "source": [
      "### Plotting, GroupyBy, Crosstabs, Describe\n",
      "(more on pandas plotting and the underlying matplotlib in the associated [notebook]())"
     ]
    },
    {
     "cell_type": "code",
     "collapsed": false,
     "input": [
      "# Subplotting example\n",
      "a = randn(50).cumsum()\n",
      "b = randn(50).cumsum()\n",
      "c = randn(50).cumsum()"
     ],
     "language": "python",
     "metadata": {},
     "outputs": []
    },
    {
     "cell_type": "code",
     "collapsed": false,
     "input": [
      "a"
     ],
     "language": "python",
     "metadata": {},
     "outputs": []
    },
    {
     "cell_type": "code",
     "collapsed": false,
     "input": [
      "df=pd.DataFrame({'apple':a,'buy':b,'colgatepalmolive':c})"
     ],
     "language": "python",
     "metadata": {},
     "outputs": []
    },
    {
     "cell_type": "code",
     "collapsed": false,
     "input": [
      "df"
     ],
     "language": "python",
     "metadata": {},
     "outputs": []
    },
    {
     "cell_type": "code",
     "collapsed": false,
     "input": [
      "np.random.seed(seed=0)"
     ],
     "language": "python",
     "metadata": {},
     "outputs": []
    },
    {
     "cell_type": "code",
     "collapsed": false,
     "input": [
      "np.random.seed(seed=0)\n",
      "plt.plot(randn(50).cumsum())"
     ],
     "language": "python",
     "metadata": {},
     "outputs": []
    },
    {
     "cell_type": "code",
     "collapsed": false,
     "input": [
      "df.describe()"
     ],
     "language": "python",
     "metadata": {},
     "outputs": []
    },
    {
     "cell_type": "code",
     "collapsed": false,
     "input": [
      "df.plot()\n"
     ],
     "language": "python",
     "metadata": {},
     "outputs": []
    },
    {
     "cell_type": "code",
     "collapsed": false,
     "input": [
      "df.plot()\n"
     ],
     "language": "python",
     "metadata": {},
     "outputs": []
    },
    {
     "cell_type": "markdown",
     "metadata": {},
     "source": [
      "# Adding options\n",
      "#Generate a random graph \n",
      "a = randn(50).cumsum()\n",
      " "
     ]
    },
    {
     "cell_type": "code",
     "collapsed": false,
     "input": [
      "df = DataFrame(a) # convert it to a dataframe\n"
     ],
     "language": "python",
     "metadata": {},
     "outputs": []
    },
    {
     "cell_type": "code",
     "collapsed": false,
     "input": [
      "df.plot(title='Random Plot',kind='line')\n"
     ],
     "language": "python",
     "metadata": {},
     "outputs": []
    },
    {
     "cell_type": "code",
     "collapsed": false,
     "input": [
      "# Pandas data frames have a built in plot function with defaults:\n",
      "df = DataFrame(np.random.randn(10, 4).cumsum(0),\n",
      "columns=['A', 'B', 'C', 'D'],\n",
      "index=np.arange(0, 100, 10))"
     ],
     "language": "python",
     "metadata": {},
     "outputs": []
    },
    {
     "cell_type": "code",
     "collapsed": false,
     "input": [
      "df\n"
     ],
     "language": "python",
     "metadata": {},
     "outputs": []
    },
    {
     "cell_type": "code",
     "collapsed": false,
     "input": [
      "df.plot(title='Plot automatically finds Indexes and Places Labels')\n"
     ],
     "language": "python",
     "metadata": {},
     "outputs": []
    },
    {
     "cell_type": "markdown",
     "metadata": {},
     "source": [
      "### GroupBy and Bar Plots"
     ]
    },
    {
     "cell_type": "code",
     "collapsed": false,
     "input": [
      "titanic = pd.read_csv(\"http://bit.ly/titanicdata\")"
     ],
     "language": "python",
     "metadata": {},
     "outputs": []
    },
    {
     "cell_type": "code",
     "collapsed": true,
     "input": [
      "titanic"
     ],
     "language": "python",
     "metadata": {},
     "outputs": []
    },
    {
     "cell_type": "code",
     "collapsed": false,
     "input": [
      "SurvivedByClass=titanic.groupby('pclass').survived.sum()"
     ],
     "language": "python",
     "metadata": {},
     "outputs": []
    },
    {
     "cell_type": "code",
     "collapsed": false,
     "input": [
      "SurvivedByClass"
     ],
     "language": "python",
     "metadata": {},
     "outputs": []
    },
    {
     "cell_type": "code",
     "collapsed": false,
     "input": [
      "SurvivedByClass.plot(kind='bar',title='Titanic Survivors by Class')"
     ],
     "language": "python",
     "metadata": {},
     "outputs": []
    },
    {
     "cell_type": "code",
     "collapsed": false,
     "input": [
      "# Combine multiple groups and plot\n",
      "titanic.groupby(['sex','pclass']).survived.sum().plot(kind='barh',title='Titanic Survivors by Class and Gender')"
     ],
     "language": "python",
     "metadata": {},
     "outputs": []
    },
    {
     "cell_type": "code",
     "collapsed": false,
     "input": [
      "# Plot CrossTabs\n",
      "death_counts = pd.crosstab([titanic.pclass, titanic.sex], titanic.survived.astype(bool))\n",
      "death_counts.plot(kind='bar', stacked=True, title='Passenger Outcomes by Gender and Class', color=['white','blue'], grid=False)"
     ],
     "language": "python",
     "metadata": {},
     "outputs": []
    },
    {
     "cell_type": "markdown",
     "metadata": {},
     "source": [
      "###Histograms and Density Plots"
     ]
    },
    {
     "cell_type": "code",
     "collapsed": false,
     "input": [
      "# Histogram of a particular column\n",
      "titanic.fare.hist(grid=False,bins=100,range=(0,100))"
     ],
     "language": "python",
     "metadata": {},
     "outputs": []
    },
    {
     "cell_type": "code",
     "collapsed": false,
     "input": [
      "titanic.fare.hist?"
     ],
     "language": "python",
     "metadata": {},
     "outputs": []
    },
    {
     "cell_type": "code",
     "collapsed": false,
     "input": [
      "# Density plot -- Estimate the 'true' distribution\n",
      "titanic.fare.dropna().plot(kind='kde', xlim=(0,100))"
     ],
     "language": "python",
     "metadata": {},
     "outputs": []
    },
    {
     "cell_type": "code",
     "collapsed": false,
     "input": [
      "titanic.fare.hist(bins=25, normed=True, color='lightseagreen')"
     ],
     "language": "python",
     "metadata": {},
     "outputs": []
    },
    {
     "cell_type": "code",
     "collapsed": false,
     "input": [
      "titanic.fare.plot(kind='kde', xlim=(0,600), style='r--')\n",
      "titanic.fare.dropna().plot(kind='kde', xlim=(0,100))"
     ],
     "language": "python",
     "metadata": {},
     "outputs": []
    },
    {
     "cell_type": "code",
     "collapsed": false,
     "input": [
      "titanic.boxplot(column='fare',by='pclass',grid=False)"
     ],
     "language": "python",
     "metadata": {},
     "outputs": []
    },
    {
     "cell_type": "code",
     "collapsed": false,
     "input": [
      "# Combine pandas plots by running them together -- if pandas thinks they can be overlapped, it will"
     ],
     "language": "python",
     "metadata": {},
     "outputs": []
    },
    {
     "cell_type": "code",
     "collapsed": false,
     "input": [
      "titanic.fare.hist(bins=25, normed=True, color='lightseagreen')"
     ],
     "language": "python",
     "metadata": {},
     "outputs": []
    },
    {
     "cell_type": "code",
     "collapsed": false,
     "input": [
      "titanic.fare.plot(kind='kde', xlim=(0,100), style='r--')"
     ],
     "language": "python",
     "metadata": {},
     "outputs": []
    },
    {
     "cell_type": "code",
     "collapsed": false,
     "input": [
      "titanic.boxplot(column='fare',by='pclass',grid=False)"
     ],
     "language": "python",
     "metadata": {},
     "outputs": []
    },
    {
     "cell_type": "markdown",
     "metadata": {},
     "source": [
      "##Exercise:\n",
      "With your partner, choose and load a dataset from the [Rdatasets collection](http://vincentarelbundock.github.io/Rdatasets/datasets.html).  Explore it a bit, make some plots of various kinds, display your work cleanly in an iPython noteook."
     ]
    },
    {
     "cell_type": "markdown",
     "metadata": {},
     "source": [
      "### Additional Resources:\n",
      "\n",
      "* [pandas documentation](http://pandas.pydata.org/pandas-docs/stable/)\n",
      "* [Introduction to pandas](http://nbviewer.ipython.org/urls/gist.github.com/fonnesbeck/5850375/raw/c18cfcd9580d382cb6d14e4708aab33a0916ff3e/1.+Introduction+to+Pandas.ipynb) by [Chris Fonnesbeck](https://twitter.com/fonnesbeck)\n",
      "* [pandas videos from PyCon](http://pyvideo.org/search?models=videos.video&q=pandas)\n",
      "* [pandas and Python top 10](http://manishamde.github.io/blog/2013/03/07/pandas-and-python-top-10/)\n",
      "* [pandasql](http://blog.yhathq.com/posts/pandasql-sql-for-pandas-dataframes.html)"
     ]
    },
    {
     "cell_type": "code",
     "collapsed": false,
     "input": [],
     "language": "python",
     "metadata": {},
     "outputs": []
    }
   ],
   "metadata": {}
  }
 ]
}