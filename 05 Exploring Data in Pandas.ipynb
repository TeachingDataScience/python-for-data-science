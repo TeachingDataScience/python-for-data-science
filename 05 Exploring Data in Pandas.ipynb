{
 "metadata": {
  "name": "",
  "signature": "sha256:14011e49af3d7192b7b1700158442cc3f0611c6b6bd8062bee110cfd93e983e5"
 },
 "nbformat": 3,
 "nbformat_minor": 0,
 "worksheets": [
  {
   "cells": [
    {
     "cell_type": "markdown",
     "metadata": {},
     "source": [
      "# Exploring a Dataset with Pandas"
     ]
    },
    {
     "cell_type": "markdown",
     "metadata": {},
     "source": [
      "We'll be using the [MovieLens](http://www.grouplens.org/node/73) dataset going forward. The dataset contains 100,000 ratings made by 943 users on 1,682 movies."
     ]
    },
    {
     "cell_type": "markdown",
     "metadata": {},
     "source": [
      "Go to the [list of files on the site](http://files.grouplens.org/datasets/movielens/ml-100k/) and \n",
      "\n",
      "* copy the links for the u.user and u.data libraries into variables `user_url` and `data_url` and `item_url`\n",
      "\n",
      "* Take a look at the README file and explain what is in each of these files.\n",
      "\n",
      "\n",
      "\n",
      "<!--- \n",
      "user_url='http://files.grouplens.org/datasets/movielens/ml-100k/u.user'\n",
      "\n",
      "data_url='http://files.grouplens.org/datasets/movielens/ml-100k/u.data'\n",
      "\n",
      "item_url='http://files.grouplens.org/datasets/movielens/ml-100k/u.item'\n",
      "\n",
      "-->\n"
     ]
    },
    {
     "cell_type": "markdown",
     "metadata": {},
     "source": [
      "#### pass in column names for each CSV using pd.read_csv\n",
      "\n",
      "use the user columns:\n",
      "\n",
      "* user_id\n",
      "* age\n",
      "* sex\n",
      "* occupation\n",
      "* zip_code\n",
      "\n",
      "and the ratings columns:\n",
      "\n",
      "* movie_id\n",
      "* title\n",
      "* release_date\n",
      "* video_release_date\n",
      "\n",
      "And make sure and check the separator as well.\n",
      "\n",
      "\n",
      "<!---\n",
      "\n",
      "`u_cols = ['user_id', 'age', 'sex', 'occupation', 'zip_code']`\n",
      "\n",
      "\n",
      "users = pd.read_csv(user_url, sep='|', names=u_cols)\n",
      "\n",
      "r_cols = ['user_id', 'movie_id', 'rating', 'unix_timestamp']\n",
      "ratings = pd.read_csv(data_url, sep='\\t', names=r_cols)\n",
      "\n",
      "# the movies file contains columns indicating the movie's genres\n",
      "# let's only load the first five columns of the file with usecols\n",
      "m_cols = ['movie_id', 'title', 'release_date', 'video_release_date', 'imdb_url']\n",
      "movies = pd.read_csv(item_url, sep='|', names=m_cols, usecols=range(5))\n",
      "\n",
      "-->"
     ]
    },
    {
     "cell_type": "code",
     "collapsed": false,
     "input": [],
     "language": "python",
     "metadata": {},
     "outputs": []
    },
    {
     "cell_type": "markdown",
     "metadata": {},
     "source": [
      "### Inspection\n",
      "\n",
      "pandas has a variety of functions for getting basic information about your DataFrame, the most basic of which is calling your DataFrame by name."
     ]
    },
    {
     "cell_type": "code",
     "collapsed": false,
     "input": [
      "movies"
     ],
     "language": "python",
     "metadata": {},
     "outputs": []
    },
    {
     "cell_type": "markdown",
     "metadata": {},
     "source": [
      "The output tells a few things about our DataFrame.\n",
      "\n",
      "1. It's obviously an instance of a DataFrame.\n",
      "2. Each row was assigned an index of 0 to N-1, where N is the number of rows in the DataFrame. pandas will do this by default if an index is not specified. Don't worry, this can be changed later.\n",
      "3. There are 1,682 rows (every row must have an index).\n",
      "4. Our dataset has five total columns, one of which isn't populated at all (video_release_date) and two that are missing some values (release_date and imdb_url).\n",
      "5. The last line displays the datatypes of each column, but not necessarily in the corresponding order to the listed columns. You should use the *dtypes* method to get the datatype for each column."
     ]
    },
    {
     "cell_type": "code",
     "collapsed": false,
     "input": [
      "movies.dtypes"
     ],
     "language": "python",
     "metadata": {},
     "outputs": []
    },
    {
     "cell_type": "markdown",
     "metadata": {},
     "source": [
      "DataFrame's also have a `describe` method, which is great for seeing basic statistics about the dataset's numeric columns. Be careful though, since this will return information on **all** columns of a numeric datatype."
     ]
    },
    {
     "cell_type": "code",
     "collapsed": false,
     "input": [
      "users.describe()"
     ],
     "language": "python",
     "metadata": {},
     "outputs": []
    },
    {
     "cell_type": "markdown",
     "metadata": {},
     "source": [
      "Notice *user_id* was included since it's numeric. Since this is an ID value, the stats for it don't really matter.\n",
      "\n",
      "We can quickly see the average age of our users is just above 34 years old, with the youngest being 7 and the oldest being 73. The median age is 31, with the youngest quartile of users being 25 or younger, and the oldest quartile being at least 43."
     ]
    },
    {
     "cell_type": "markdown",
     "metadata": {},
     "source": [
      "By default, `head` displays the first five records of the dataset, while `tail` displays the last five."
     ]
    },
    {
     "cell_type": "code",
     "collapsed": false,
     "input": [
      "print movies.head()"
     ],
     "language": "python",
     "metadata": {},
     "outputs": []
    },
    {
     "cell_type": "code",
     "collapsed": false,
     "input": [
      "print movies.tail(3)"
     ],
     "language": "python",
     "metadata": {},
     "outputs": []
    },
    {
     "cell_type": "markdown",
     "metadata": {},
     "source": [
      "Alternatively, Python's regular [slicing](http://docs.python.org/release/2.3.5/whatsnew/section-slices.html) syntax works as well."
     ]
    },
    {
     "cell_type": "code",
     "collapsed": false,
     "input": [
      "print movies[20:22]"
     ],
     "language": "python",
     "metadata": {},
     "outputs": []
    },
    {
     "cell_type": "markdown",
     "metadata": {},
     "source": [
      "### Selecting\n",
      "\n",
      "You can think of a DataFrame as a group of Series that share an index (in this case the column headers). This makes it easy to select specific columns.\n",
      "\n",
      "Selecting a single column from the DataFrame will return a Series object."
     ]
    },
    {
     "cell_type": "code",
     "collapsed": false,
     "input": [
      "users['occupation'].head()"
     ],
     "language": "python",
     "metadata": {},
     "outputs": []
    },
    {
     "cell_type": "markdown",
     "metadata": {},
     "source": [
      "To select multiple columns, simply pass a list of column names to the DataFrame, the output of which will be a DataFrame."
     ]
    },
    {
     "cell_type": "code",
     "collapsed": false,
     "input": [
      "print users[['age', 'zip_code']].head()\n",
      "print '\\n'\n",
      "\n",
      "# can also store in a variable to use later\n",
      "columns_you_want = ['occupation', 'sex'] \n",
      "print users[columns_you_want].head()"
     ],
     "language": "python",
     "metadata": {},
     "outputs": []
    },
    {
     "cell_type": "markdown",
     "metadata": {},
     "source": [
      "Row selection can be done multiple ways, but doing so by an individual index or boolean indexing are typically easiest."
     ]
    },
    {
     "cell_type": "code",
     "collapsed": false,
     "input": [
      "# users older than 25\n",
      "print users[users.age > 25].head(3)\n",
      "print '\\n'\n",
      "\n",
      "# users aged 40 AND male\n",
      "print users[(users.age == 40) & (users.sex == 'M')].head(3)\n",
      "print '\\n'\n",
      "\n",
      "# users younger than 30 OR female\n",
      "print users[(users.sex == 'F') | (users.age < 30)].head(3)"
     ],
     "language": "python",
     "metadata": {},
     "outputs": []
    },
    {
     "cell_type": "markdown",
     "metadata": {},
     "source": [
      "Since our index is kind of meaningless right now, let's set it to the _user_id_ using the `set_index` method. By default, `set_index` returns a new DataFrame, so you'll have to specify if you'd like the changes to occur in place.\n",
      "\n"
     ]
    },
    {
     "cell_type": "code",
     "collapsed": false,
     "input": [
      "print users.set_index('user_id').head()\n",
      "print '\\n'\n",
      "\n",
      "print users.head()\n",
      "print \"\\n^^^ I didn't actually change the DataFrame. ^^^\\n\"\n",
      "\n",
      "with_new_index = users.set_index('user_id')\n",
      "print with_new_index.head()\n",
      "print \"\\n^^^ set_index actually returns a new DataFrame. ^^^\\n\""
     ],
     "language": "python",
     "metadata": {},
     "outputs": []
    },
    {
     "cell_type": "markdown",
     "metadata": {},
     "source": [
      "If you want to modify your existing DataFrame, use the `inplace` parameter."
     ]
    },
    {
     "cell_type": "code",
     "collapsed": false,
     "input": [
      "users.set_index('user_id', inplace=True)\n",
      "print users.head()"
     ],
     "language": "python",
     "metadata": {},
     "outputs": []
    },
    {
     "cell_type": "markdown",
     "metadata": {},
     "source": [
      "Notice that we've lost the default pandas 0-based index and moved the user_id into its place.  We can select rows based on the index using the `ix` method."
     ]
    },
    {
     "cell_type": "code",
     "collapsed": false,
     "input": [
      "print users.ix[99]\n",
      "print '\\n'\n",
      "print users.ix[[1, 50, 300]]"
     ],
     "language": "python",
     "metadata": {},
     "outputs": []
    },
    {
     "cell_type": "markdown",
     "metadata": {},
     "source": [
      "If we realize later that we liked the old pandas default index, we can just `reset_index`.  The same rules for `inplace` apply."
     ]
    },
    {
     "cell_type": "code",
     "collapsed": false,
     "input": [
      "users.reset_index(inplace=True)\n",
      "print users.head()"
     ],
     "language": "python",
     "metadata": {},
     "outputs": []
    },
    {
     "cell_type": "markdown",
     "metadata": {},
     "source": [
      "I've found that I can usually get by with boolean indexing and the `ix` method, but pandas has a whole host of [other ways to do selection](http://pandas.pydata.org/pandas-docs/stable/indexing.html)."
     ]
    },
    {
     "cell_type": "markdown",
     "metadata": {},
     "source": [
      "### Grouping\n",
      "\n",
      "\n",
      "\n",
      "pandas `groupby` method draws largely from the [split-apply-combine strategy for data analysis](http://www.jstatsoft.org/v40/i01/paper).  If you're not familiar with this methodology, I highly suggest you read up on it.  It does a great job of illustrating how to properly think through a data problem, which I feel is more important than any technical skill a data analyst/scientist can possess.\n",
      "\n",
      "When approaching a data analysis problem, you'll often break it apart into manageable pieces, perform some operations on each of the pieces, and then put everything back together again (this is the gist split-apply-combine strategy). pandas `groupby` is great for these problems.\n",
      "\n",
      "If you've ever used SQL's GROUP BY or an Excel Pivot Table, you've thought with this mindset, probably without realizing it.\n",
      "\n",
      "Assume we have a DataFrame and want to get the average for each group - visually, the split-apply-combine method looks like this:\n",
      "\n",
      "![Source: Gratuitously borrowed from [Hadley Wickham's Data Science in R slides](http://courses.had.co.nz/12-oscon/)](http://i.imgur.com/yjNkiwL.png)"
     ]
    },
    {
     "cell_type": "markdown",
     "metadata": {},
     "source": [
      "### split-apply-combine\n",
      "\n",
      "![](http://note.io/1BY1kpe)\n",
      "\n",
      "The real power of `groupby` comes from it's split-apply-combine ability.\n",
      "\n",
      "This takes the form df.groupby(grouper).apply(function)"
     ]
    },
    {
     "cell_type": "markdown",
     "metadata": {},
     "source": [
      "## Using pandas on the MovieLens dataset"
     ]
    },
    {
     "cell_type": "markdown",
     "metadata": {},
     "source": [
      "To show pandas in a more \"applied\" sense, let's use it to answer some questions about the [MovieLens](http://www.grouplens.org/datasets/movielens/) dataset. "
     ]
    },
    {
     "cell_type": "code",
     "collapsed": false,
     "input": [
      "# create one merged DataFrame\n",
      "movie_ratings = pd.merge(movies, ratings)\n",
      "lens = pd.merge(movie_ratings, users)"
     ],
     "language": "python",
     "metadata": {},
     "outputs": []
    },
    {
     "cell_type": "markdown",
     "metadata": {},
     "source": [
      "**What are the 25 most rated movies?**"
     ]
    },
    {
     "cell_type": "code",
     "collapsed": false,
     "input": [
      "most_rated = lens.groupby('title').size().order(ascending=False)[:25]\n",
      "print most_rated"
     ],
     "language": "python",
     "metadata": {},
     "outputs": []
    },
    {
     "cell_type": "markdown",
     "metadata": {},
     "source": [
      "\n",
      "Alternatively, pandas has a nifty `value_counts` method - yes, this is simpler - the goal above was to show a basic `groupby` example."
     ]
    },
    {
     "cell_type": "code",
     "collapsed": false,
     "input": [
      "lens.title.value_counts()[:25]"
     ],
     "language": "python",
     "metadata": {},
     "outputs": []
    },
    {
     "cell_type": "markdown",
     "metadata": {},
     "source": [
      "**Which movies are most highly rated?**"
     ]
    },
    {
     "cell_type": "code",
     "collapsed": false,
     "input": [
      "movie_stats = lens.groupby('title').agg({'rating': [np.size, np.mean]})\n",
      "print movie_stats.head()"
     ],
     "language": "python",
     "metadata": {},
     "outputs": []
    },
    {
     "cell_type": "markdown",
     "metadata": {},
     "source": [
      "We can use the `agg` method to pass a dictionary specifying the columns to aggregate (as keys) and a list of functions we'd like to apply.\n",
      "\n",
      "Let's sort the resulting DataFrame so that we can see which movies have the highest average score."
     ]
    },
    {
     "cell_type": "code",
     "collapsed": false,
     "input": [
      "# sort by rating average\n",
      "print movie_stats.sort([('rating', 'mean')], ascending=False).head()"
     ],
     "language": "python",
     "metadata": {},
     "outputs": []
    },
    {
     "cell_type": "markdown",
     "metadata": {},
     "source": [
      "Because `movie_stats` is a DataFrame, we use the `sort` method - only Series objects use `order`. Additionally, because our columns are now a [MultiIndex](http://pandas.pydata.org/pandas-docs/stable/indexing.html#hierarchical-indexing-multiindex), we need to pass in a tuple specifying how to sort.\n",
      "\n",
      "The above movies are rated so rarely that we can't count them as quality films. Let's only look at movies that have been rated at least 100 times."
     ]
    },
    {
     "cell_type": "code",
     "collapsed": false,
     "input": [
      "atleast_100 = movie_stats['rating'].size >= 100\n",
      "print movie_stats[atleast_100].sort([('rating', 'mean')], ascending=False)[:15]"
     ],
     "language": "python",
     "metadata": {},
     "outputs": []
    },
    {
     "cell_type": "markdown",
     "metadata": {},
     "source": [
      "Those results look realistic.  Notice that we used boolean indexing to filter our `movie_stats` frame.\n",
      "\n",
      "We broke this question down into many parts, so here's the Python needed to get the 15 movies with the highest average rating, requiring that they had at least 100 ratings:\n",
      "\n",
      "```python\n",
      "    movie_stats = lens.groupby('title').agg({'rating', [np.size, np.mean})\n",
      "    atleast_100 = movie_stats['rating'].size >= 100\n",
      "    movie_stats[atleast_100].sort([('rating', 'mean')], ascending=False)[:15]\n",
      "```\n"
     ]
    },
    {
     "cell_type": "markdown",
     "metadata": {},
     "source": [
      "**Limiting our population going forward**\n",
      "\n",
      "Going forward, let's only look at the 50 most rated movies. Let's make a Series of movies that meet this threshold so we can use it for filtering later."
     ]
    },
    {
     "cell_type": "code",
     "collapsed": false,
     "input": [
      "most_50 = lens.groupby('movie_id').size().order(ascending=False)[:50]"
     ],
     "language": "python",
     "metadata": {},
     "outputs": []
    },
    {
     "cell_type": "markdown",
     "metadata": {},
     "source": []
    },
    {
     "cell_type": "markdown",
     "metadata": {},
     "source": [
      "**Which movies are most controversial amongst different ages?**"
     ]
    },
    {
     "cell_type": "markdown",
     "metadata": {},
     "source": [
      "Let's look at how these movies are viewed across different age groups. First, let's look at how age is distributed amongst our users."
     ]
    },
    {
     "cell_type": "code",
     "collapsed": false,
     "input": [
      "users.age.hist(bins=30)\n",
      "plt.title(\"Distribution of users' ages\")\n",
      "plt.ylabel('count of users')\n",
      "plt.xlabel('age');"
     ],
     "language": "python",
     "metadata": {},
     "outputs": []
    },
    {
     "cell_type": "markdown",
     "metadata": {},
     "source": [
      "pandas' integration with [matplotlib](http://matplotlib.org/index.html) makes basic graphing of Series/DataFrames trivial.  In this case, just call `hist` on the column to produce a histogram.  We can also use [matplotlib.pyplot](http://matplotlib.org/users/pyplot_tutorial.html) to customize our graph a bit (always label your axes)."
     ]
    },
    {
     "cell_type": "markdown",
     "metadata": {},
     "source": [
      "**Binning our users**\n",
      "\n",
      "I don't think it'd be very useful to compare individual ages - let's bin our users into age groups using `pandas.cut`."
     ]
    },
    {
     "cell_type": "code",
     "collapsed": false,
     "input": [
      "labels = ['0-9', '10-19', '20-29', '30-39', '40-49', '50-59', '60-69', '70-79']\n",
      "lens['age_group'] = pd.cut(lens.age, range(0, 81, 10), right=False, labels=labels)\n",
      "print lens[['age', 'age_group']].drop_duplicates()[:10]"
     ],
     "language": "python",
     "metadata": {},
     "outputs": []
    },
    {
     "cell_type": "markdown",
     "metadata": {},
     "source": [
      "`pandas.cut` allows you to bin numeric data. In the above lines, we first created labels to name our bins, then split our users into eight bins of ten years (0-9, 10-19, 20-29, etc.). Our use of `right=False` told the function that we wanted the bins to be *exclusive* of the max age in the bin (e.g. a 30 year old user gets the 30s label).\n",
      "\n",
      "Now we can now compare ratings across age groups."
     ]
    },
    {
     "cell_type": "code",
     "collapsed": false,
     "input": [
      "print lens.groupby('age_group').agg({'rating': [np.size, np.mean]})"
     ],
     "language": "python",
     "metadata": {},
     "outputs": []
    },
    {
     "cell_type": "markdown",
     "metadata": {},
     "source": [
      "Young users seem a bit more critical than other age groups. Let's look at how the 50 most rated movies are viewed across each age group. We can use the `most_50` Series we created earlier for filtering."
     ]
    },
    {
     "cell_type": "code",
     "collapsed": false,
     "input": [
      "lens.set_index('movie_id', inplace=True)"
     ],
     "language": "python",
     "metadata": {},
     "outputs": []
    },
    {
     "cell_type": "code",
     "collapsed": false,
     "input": [
      "by_age = lens.ix[most_50.index].groupby(['title', 'age_group'])\n",
      "by_age.rating.mean().head(15)"
     ],
     "language": "python",
     "metadata": {},
     "outputs": []
    },
    {
     "cell_type": "markdown",
     "metadata": {},
     "source": [
      "Notice that both the title and age group are indexes here, with the average rating value being a Series. This is going to produce a really long list of values.\n",
      "\n",
      "Wouldn't it be nice to see the data as a table? Each title as a row, each age group as a column, and the average rating in each cell.\n",
      "\n",
      "Behold! The magic of `unstack`!"
     ]
    },
    {
     "cell_type": "code",
     "collapsed": false,
     "input": [
      "by_age.rating.mean().unstack(1).fillna(0)[10:20]"
     ],
     "language": "python",
     "metadata": {},
     "outputs": []
    },
    {
     "cell_type": "markdown",
     "metadata": {},
     "source": [
      "`unstack`, well, unstacks the specified level of a [MultiIndex](http://pandas.pydata.org/pandas-docs/stable/indexing.html#hierarchical-indexing-multiindex) (by default, `groupby` turns the grouped field into an index - since we grouped by two fields, it became a MultiIndex). We unstacked the second index (remember that Python uses 0-based indexes), and then filled in NULL values with 0.\n",
      "\n",
      "If we would have used:\n",
      "```python\n",
      "    by_age.rating.mean().unstack(0).fillna(0)\n",
      "```\n",
      "We would have had our age groups as rows and movie titles as columns."
     ]
    },
    {
     "cell_type": "markdown",
     "metadata": {},
     "source": [
      "###Exercise: **Which movies do men and women most disagree on?**\n",
      "\n"
     ]
    },
    {
     "cell_type": "code",
     "collapsed": false,
     "input": [],
     "language": "python",
     "metadata": {},
     "outputs": [],
     "prompt_number": 2
    },
    {
     "cell_type": "markdown",
     "metadata": {},
     "source": [
      "### Exercise\n",
      "\n",
      "As a pair, ask and answer some interesting questions about this set using the techniques.  Prepare your results in a notebook.\n",
      "\n",
      "(**Advanced**: Choose and use a different dataset)"
     ]
    },
    {
     "cell_type": "code",
     "collapsed": false,
     "input": [],
     "language": "python",
     "metadata": {},
     "outputs": []
    }
   ],
   "metadata": {}
  }
 ]
}