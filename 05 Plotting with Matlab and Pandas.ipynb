{
 "metadata": {
  "name": "",
  "signature": "sha256:c3de697c273d4b6b9a4dc7a9f428d006f58b7a41e294ebd1d7ccdb1cd81307e3"
 },
 "nbformat": 3,
 "nbformat_minor": 0,
 "worksheets": [
  {
   "cells": [
    {
     "cell_type": "markdown",
     "metadata": {},
     "source": [
      "#Data Visualization"
     ]
    },
    {
     "cell_type": "markdown",
     "metadata": {},
     "source": [
      "## Simple Plotting with Matplotlib"
     ]
    },
    {
     "cell_type": "code",
     "collapsed": false,
     "input": [
      "\n",
      "\n",
      "import numpy as np\n",
      "\n",
      "X = np.linspace(-np.pi, np.pi, 256, endpoint=True)\n",
      "C, S = np.cos(X), np.sin(X)"
     ],
     "language": "python",
     "metadata": {},
     "outputs": []
    },
    {
     "cell_type": "code",
     "collapsed": false,
     "input": [
      "%pylab inline\n",
      "import matplotlib.pyplot as pl\n",
      "import pandas as pd"
     ],
     "language": "python",
     "metadata": {},
     "outputs": []
    },
    {
     "cell_type": "code",
     "collapsed": false,
     "input": [
      "plt.plot(X,C)"
     ],
     "language": "python",
     "metadata": {},
     "outputs": []
    },
    {
     "cell_type": "code",
     "collapsed": false,
     "input": [
      "plt.plot(X,S)"
     ],
     "language": "python",
     "metadata": {},
     "outputs": []
    },
    {
     "cell_type": "code",
     "collapsed": false,
     "input": [
      "plt.plot(X,C)\n",
      "plt.plot(X,S)"
     ],
     "language": "python",
     "metadata": {},
     "outputs": []
    },
    {
     "cell_type": "code",
     "collapsed": false,
     "input": [
      "# Create a figure of size 8x6 inches, 80 dots per inch\n",
      "plt.figure(figsize=(8, 6), dpi=80)\n",
      "\n",
      "# Create a new subplot from a grid of 1x1\n",
      "plt.subplot(1, 1, 1)\n",
      "\n",
      "X = np.linspace(-np.pi, np.pi, 256, endpoint=True)\n",
      "C, S = np.cos(X), np.sin(X)\n",
      "\n",
      "# Plot cosine with a blue continuous line of width 1 (pixels)\n",
      "plt.plot(X, C, color=\"blue\", linewidth=1.0, linestyle=\"-\")\n",
      "\n",
      "# Plot sine with a green continuous line of width 1 (pixels)\n",
      "plt.plot(X, S, color=\"green\", linewidth=1.0, linestyle=\"-\")\n",
      "\n",
      "# Set x limits\n",
      "plt.xlim(-4.0, 4.0)\n",
      "\n",
      "# Set x ticks\n",
      "plt.xticks(np.linspace(-4, 4, 9, endpoint=True))\n",
      "\n",
      "# Set y limits\n",
      "plt.ylim(-1.0, 1.0)\n",
      "\n",
      "# Set y ticks\n",
      "plt.yticks(np.linspace(-1, 1, 5, endpoint=True))\n",
      "\n",
      "# Save figure using 72 dots per inch\n",
      "# savefig(\"exercice_2.png\", dpi=72)\n",
      "\n",
      "# Show result on screen\n",
      "plt.show()"
     ],
     "language": "python",
     "metadata": {},
     "outputs": []
    },
    {
     "cell_type": "markdown",
     "metadata": {},
     "source": [
      "## Figures, Subplots, Axes and Ticks\n",
      "\n",
      "* Figure = the whole window\n",
      "* Subplot = Position Plots in a Grid\n",
      "* Axes = Position plots anywhere\n",
      "* Ticks = Representative Numbers "
     ]
    },
    {
     "cell_type": "code",
     "collapsed": false,
     "input": [
      "# Subplot\n",
      "#fig.add_subplot(rows, cols, num)\n",
      "\n",
      "fig = plt.figure()\n",
      "for i in range(6):\n",
      "    ax = fig.add_subplot(2, 3, i + 1)\n",
      "    ax.set_title(\"Plot #%i\" % i)"
     ],
     "language": "python",
     "metadata": {},
     "outputs": []
    },
    {
     "cell_type": "code",
     "collapsed": false,
     "input": [
      "# Axes\n",
      "pl.Figure(figsize=(10,10))\n",
      "pl.axes([0,0, 1, 1])  # Left, Bottom, Width, Height in Percentages\n",
      "pl.xticks(())\n",
      "pl.yticks(())\n",
      "pl.text(.6, .6, 'axes([0.1,0.1,.8,.8])', ha='center', va='center',\n",
      "        size=20, alpha=.5)\n",
      "\n",
      "pl.axes([.2, .2, .3, .3])\n",
      "pl.xticks(())\n",
      "pl.yticks(())\n",
      "pl.text(.5, .5, 'axes([0.2,0.2,.3,.3])', ha='center', va='center',\n",
      "        size=16, alpha=.5)\n",
      "\n"
     ],
     "language": "python",
     "metadata": {},
     "outputs": []
    },
    {
     "cell_type": "markdown",
     "metadata": {},
     "source": [
      "### Scatter Plots"
     ]
    },
    {
     "cell_type": "code",
     "collapsed": false,
     "input": [
      "x = np.arange(50)\n",
      "y = np.random.randn(50)\n",
      "plt.scatter(x,y)"
     ],
     "language": "python",
     "metadata": {},
     "outputs": []
    },
    {
     "cell_type": "code",
     "collapsed": false,
     "input": [
      "fig = figure()\n",
      "a = randn(50).cumsum()\n",
      "\n",
      "# Two rows, one column, first plot\n",
      "ax1 = fig.add_subplot(2,1,1)\n",
      "ax1.plot(a, color='red')\n",
      "\n",
      "#Two rows, one column, second plot\n",
      "ax2 = fig.add_subplot(2,1,2)\n",
      "ax2.scatter(np.arange(50), randn(50))\n",
      "\n",
      "# Exercise: Try 1 row, two columns\n",
      "# Exercise: Try 1 row, one column"
     ],
     "language": "python",
     "metadata": {},
     "outputs": []
    },
    {
     "cell_type": "code",
     "collapsed": false,
     "input": [
      "fig, ax = plt.subplots(2,3)\n",
      "\n",
      "ax[0,1].plot(randn(50), color='green', linestyle='-')\n",
      "ax[1,2].scatter(np.arange(50), randn(50), color='red')\n",
      "ax[1,0].hist(randn(1000))\n"
     ],
     "language": "python",
     "metadata": {},
     "outputs": []
    },
    {
     "cell_type": "markdown",
     "metadata": {},
     "source": [
      "### Ticks, Labels and Legends"
     ]
    },
    {
     "cell_type": "code",
     "collapsed": false,
     "input": [
      "fig = plt.figure(); ax = fig.add_subplot(1, 1, 1)\n",
      "ax.plot(randn(1000).cumsum(), 'k', label='one') \n",
      "ax.plot(randn(1000).cumsum(), 'k--', label='two')\n",
      "ax.plot(randn(1000).cumsum(), 'k.', label='three')\n",
      "ax.set_title('Three random lines')\n",
      "ax.legend(loc='best')\n",
      "plt.show()\n",
      "\n",
      "#Exercise: Change the color and line style of each line using the minimum amount of characters\n",
      "# Exercise: Add text to the plot"
     ],
     "language": "python",
     "metadata": {},
     "outputs": []
    },
    {
     "cell_type": "code",
     "collapsed": false,
     "input": [],
     "language": "python",
     "metadata": {},
     "outputs": []
    },
    {
     "cell_type": "markdown",
     "metadata": {},
     "source": [
      "## Plotting with Pandas"
     ]
    },
    {
     "cell_type": "code",
     "collapsed": false,
     "input": [
      "# Subplotting example\n",
      "a = randn(50).cumsum()\n",
      "b = randn(50).cumsum()\n",
      "c = randn(50).cumsum()\n"
     ],
     "language": "python",
     "metadata": {},
     "outputs": []
    },
    {
     "cell_type": "code",
     "collapsed": false,
     "input": [
      "df=pd.DataFrame({'a':a,'b':b,'c':c})"
     ],
     "language": "python",
     "metadata": {},
     "outputs": []
    },
    {
     "cell_type": "code",
     "collapsed": false,
     "input": [
      "df.plot(subplots=True)"
     ],
     "language": "python",
     "metadata": {},
     "outputs": []
    },
    {
     "cell_type": "code",
     "collapsed": false,
     "input": [
      "df.plot()"
     ],
     "language": "python",
     "metadata": {},
     "outputs": []
    },
    {
     "cell_type": "code",
     "collapsed": false,
     "input": [
      "df[0:20].plot(kind='bar')"
     ],
     "language": "python",
     "metadata": {},
     "outputs": []
    },
    {
     "cell_type": "markdown",
     "metadata": {},
     "source": [
      "### Using Pandas Groupings with Plots\n"
     ]
    },
    {
     "cell_type": "code",
     "collapsed": false,
     "input": [
      "titanic = pd.read_csv(\"data/titanic.csv\")"
     ],
     "language": "python",
     "metadata": {},
     "outputs": []
    },
    {
     "cell_type": "code",
     "collapsed": false,
     "input": [],
     "language": "python",
     "metadata": {},
     "outputs": []
    },
    {
     "cell_type": "code",
     "collapsed": false,
     "input": [
      "SurvivedByClass=titanic.groupby('pclass').survived.sum()\n",
      "SurvivedByClass.plot(kind='bar',title='Titanic Survivors by Class')"
     ],
     "language": "python",
     "metadata": {},
     "outputs": []
    },
    {
     "cell_type": "code",
     "collapsed": false,
     "input": [
      "# Combine multiple groups and plot\n",
      "titanic.groupby(['sex','pclass']).survived.sum().plot(kind='barh',title='Titanic Survivors by Class and Gender')"
     ],
     "language": "python",
     "metadata": {},
     "outputs": []
    },
    {
     "cell_type": "code",
     "collapsed": false,
     "input": [
      "# Histogram of a particular column\n",
      "titanic.fare.hist(grid=False,bins=25,range=(0,100))"
     ],
     "language": "python",
     "metadata": {},
     "outputs": []
    },
    {
     "cell_type": "code",
     "collapsed": false,
     "input": [
      "# Density plot -- Estimate the 'true' distribution\n",
      "titanic.fare.dropna().plot(kind='kde', xlim=(0,100))"
     ],
     "language": "python",
     "metadata": {},
     "outputs": []
    },
    {
     "cell_type": "code",
     "collapsed": false,
     "input": [
      "titanic.fare.hist(bins=25, normed=True, color='lightseagreen')"
     ],
     "language": "python",
     "metadata": {},
     "outputs": []
    },
    {
     "cell_type": "code",
     "collapsed": false,
     "input": [
      "titanic.fare.plot(kind='kde', xlim=(0,600), style='r--')"
     ],
     "language": "python",
     "metadata": {},
     "outputs": []
    },
    {
     "cell_type": "code",
     "collapsed": false,
     "input": [
      "titanic.boxplot(column='fare',by='pclass',grid=False)"
     ],
     "language": "python",
     "metadata": {},
     "outputs": []
    },
    {
     "cell_type": "code",
     "collapsed": false,
     "input": [
      "# Combine pandas plots by running them together -- if pandas thinks they can be overlapped, it will\n",
      "titanic.fare.hist(bins=25, normed=True, color='lightseagreen')\n",
      "titanic.fare.plot(kind='kde', xlim=(0,100), style='r--')\n",
      "titanic.boxplot(column='fare',by='pclass',grid=False)"
     ],
     "language": "python",
     "metadata": {},
     "outputs": []
    },
    {
     "cell_type": "code",
     "collapsed": false,
     "input": [
      "# Combine pandas with matplotlib for scatterplots\n",
      "baseball = pd.read_csv(\"data/baseball.csv\")\n",
      "#Offensive Statistics from MLB -- 2008.  Glossary: http://www.baseballprospectus.com/glossary/index.php?context=all&category=true\n",
      "\n",
      "baseball.head()"
     ],
     "language": "python",
     "metadata": {},
     "outputs": []
    },
    {
     "cell_type": "code",
     "collapsed": false,
     "input": [],
     "language": "python",
     "metadata": {},
     "outputs": []
    },
    {
     "cell_type": "code",
     "collapsed": false,
     "input": [
      "fig = plt.figure()\n",
      "ax = fig.add_subplot(1,1,1) # one row, one column, first plot\n",
      "ax.set_title(\"Hits vs. At Bats\")\n",
      "ax.set_xlabel(\"At Bats\")\n",
      "ax.set_ylabel(\"Hits\")\n",
      "ax.scatter(baseball.ab, baseball.h) \n"
     ],
     "language": "python",
     "metadata": {},
     "outputs": []
    },
    {
     "cell_type": "code",
     "collapsed": false,
     "input": [
      "fig = plt.figure()\n",
      "ax = fig.add_subplot(1,1,1) # one row, one column, first plot\n",
      "ax.set_title(\"At Bats vs. Hits.  Size = Home Runs\")\n",
      "ax.set_xlabel(\"At Bats\")\n",
      "ax.set_ylabel(\"Hits\")\n",
      "plt.scatter(baseball.ab, baseball.h, s=baseball.hr*10, alpha=0.5)\n",
      "xlim(0, 700); ylim(0, 200)"
     ],
     "language": "python",
     "metadata": {},
     "outputs": []
    },
    {
     "cell_type": "markdown",
     "metadata": {},
     "source": [
      "### Scatter matrix"
     ]
    },
    {
     "cell_type": "code",
     "collapsed": false,
     "input": [
      "cols=['hr','h','r','rbi','ab']\n",
      "pd.scatter_matrix(baseball[cols])"
     ],
     "language": "python",
     "metadata": {},
     "outputs": []
    },
    {
     "cell_type": "code",
     "collapsed": false,
     "input": [],
     "language": "python",
     "metadata": {},
     "outputs": []
    },
    {
     "cell_type": "markdown",
     "metadata": {},
     "source": [
      "### Practice\n",
      "\n",
      "\n",
      "** A. Basic Plots**\n",
      "* Create an original histogram, lineplot, scatterplot, and scattermatrix from your data\n",
      "* If you cannot create one of the four plots due to the data, explain why\n",
      "* Include multiple variables on one or many charts\n",
      "* Clearly label all axes\n",
      "* Make sure each graph is clearly labelled\n",
      "  \n",
      "** B. Advanced Plots**\n",
      "* Create a trellis plot from a dataset.  Explain the benefits of the trellis plot view.\n",
      "* Import Seaborn (or bokeh or vincent) and recreate your initial exploratory charts\n",
      "\n",
      "** C. Highly Advanced** (optional)\n",
      "* Recreate the [finanial chart](http://matplotlib.org/users/screenshots.html#financial-charts) from the mpl demo.  See how far you can get.  You'll learn a tremendous amount on the nuances of MPL in each stage."
     ]
    },
    {
     "cell_type": "code",
     "collapsed": false,
     "input": [],
     "language": "python",
     "metadata": {},
     "outputs": []
    }
   ],
   "metadata": {}
  }
 ]
}