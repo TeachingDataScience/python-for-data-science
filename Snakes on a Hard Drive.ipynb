{
 "metadata": {
  "name": "",
  "signature": "sha256:313dc2001a4e601b29eaf05fd883c3361e610f8ab331cf063d67e6b1287cc0d3"
 },
 "nbformat": 3,
 "nbformat_minor": 0,
 "worksheets": [
  {
   "cells": [
    {
     "cell_type": "code",
     "collapsed": false,
     "input": [],
     "language": "python",
     "metadata": {},
     "outputs": []
    }
   ],
   "metadata": {}
  }
 ]
}