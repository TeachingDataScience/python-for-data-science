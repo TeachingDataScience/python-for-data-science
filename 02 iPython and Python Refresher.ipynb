{
 "metadata": {
  "name": "",
  "signature": "sha256:47a7f1cfb23c35fc258f8604b2b75ce410d3c76bf2056413f7c41a31dc006e78"
 },
 "nbformat": 3,
 "nbformat_minor": 0,
 "worksheets": [
  {
   "cells": [
    {
     "cell_type": "markdown",
     "metadata": {},
     "source": [
      "# The iPython Notebook is Your Friend"
     ]
    },
    {
     "cell_type": "markdown",
     "metadata": {},
     "source": [
      "iPython notebook is an incredible resource for learning, doing and demonstrating data science"
     ]
    },
    {
     "cell_type": "markdown",
     "metadata": {},
     "source": [
      "Get your bearings by typing \"Esc h\"  -- figure out how to run a cell."
     ]
    },
    {
     "cell_type": "code",
     "collapsed": false,
     "input": [],
     "language": "python",
     "metadata": {},
     "outputs": []
    },
    {
     "cell_type": "markdown",
     "metadata": {},
     "source": [
      "Great - now run this command to learn about magic\n",
      "\n",
      "`%quickref`"
     ]
    },
    {
     "cell_type": "code",
     "collapsed": false,
     "input": [],
     "language": "python",
     "metadata": {},
     "outputs": []
    },
    {
     "cell_type": "raw",
     "metadata": {},
     "source": [
      "##### One of the coolest things \n",
      "about the iPython notebook is that it let's you write in markdown.\n",
      "\n",
      "Turn this cell into markdown (esc h will show you how) and run it.\n",
      "\n",
      "Now edit it, make THIS TEXT into a link to the quick markdown instructions here:\n",
      "https://guides.github.com/features/mastering-markdown/#examples\n",
      "\n",
      "and then make this link an embedded image:\n",
      "http://damontallen.github.io/IPython-quick-ref-sheets/svg/Basic_Help.svg\n",
      "\n",
      "Run the cell again."
     ]
    },
    {
     "cell_type": "markdown",
     "metadata": {},
     "source": [
      "### Python Refresher\n",
      "\n",
      "*Sources include Stavros' [python tutorial](http://www.stavros.io/tutorials/python/)*"
     ]
    },
    {
     "cell_type": "markdown",
     "metadata": {},
     "source": [
      "#### Getting Help\n",
      "\n",
      "Help with iPython is everywhere.\n",
      "\n",
      "* If you type `?` after a function, you get its docstring help\n",
      "* The python function `help()` is also built in and available.\n",
      "* typing a dot (.) and then tab after an object shows its methods."
     ]
    },
    {
     "cell_type": "markdown",
     "metadata": {},
     "source": [
      "**Try:**\n",
      "* Assign a number or word to a variable.  Then use dot tab to see the available methods. \n",
      "* Use the inline documentation to find out about a few of those methods.\n",
      "    \n",
      "    \n",
      "       \n",
      "    "
     ]
    },
    {
     "cell_type": "code",
     "collapsed": false,
     "input": [],
     "language": "python",
     "metadata": {},
     "outputs": [],
     "prompt_number": 52
    },
    {
     "cell_type": "markdown",
     "metadata": {},
     "source": [
      "### Properties\n",
      "Python is strongly typed (i.e. types are enforced), dynamically, implicitly typed (i.e. you don't have to declare variables), case sensitive (i.e. var and VAR are two different variables) and object-oriented (i.e. everything is an object).\n",
      "\n",
      "**Try:**\n",
      "\n",
      "\n",
      "* Create three variables, one a string, one an integer on a float.\n",
      "\n",
      "* Confirm the type of each of these.\n",
      "\n",
      "* What can be done with each type?"
     ]
    },
    {
     "cell_type": "code",
     "collapsed": false,
     "input": [],
     "language": "python",
     "metadata": {},
     "outputs": [],
     "prompt_number": 80
    },
    {
     "cell_type": "markdown",
     "metadata": {},
     "source": [
      "### Syntax\n",
      "\n",
      "Python has no mandatory statement termination characters and blocks are specified by indentation. Indent to begin a block, dedent to end one. Statements that expect an indentation level end in a colon (:). Comments start with the pound (#) sign and are single-line, multi-line strings are used for multi-line comments. Values are assigned (in fact, objects are bound to names) with the _equals_ sign (\"=\"), and equality testing is done using two _equals_ signs (\"==\"). You can increment/decrement values using the += and -= operators respectively by the right-hand amount. This works on many datatypes, strings included. You can also use multiple variables on one line. \n",
      "\n",
      "**Try:**\n",
      "\n",
      "* Create a numeric variable and use += to add some numbers to it.  Take a guess at where its at and use == to see if you guessed correctly.\n",
      "* Create a string variable, and then use += to add additional words to it.  Make it amusing in case you're asked to show it to your classmates.\n"
     ]
    },
    {
     "cell_type": "code",
     "collapsed": false,
     "input": [],
     "language": "python",
     "metadata": {},
     "outputs": [],
     "prompt_number": 80
    },
    {
     "cell_type": "markdown",
     "metadata": {},
     "source": [
      "### Data Types\n",
      "\n",
      "The data structures available in python are lists, tuples, sets and dictionaries. \n",
      "\n",
      "Lists are like one-dimensional arrays (but you can also have lists of other lists), dictionaries are associative arrays (a.k.a. hash tables) and tuples are immutable one-dimensional arrays (Python \"arrays\" can be of any type, so you can mix e.g. integers, strings, etc in lists/dictionaries/tuples). \n",
      "\n",
      "The index of the first item in all array types is 0. Negative numbers count from the end towards the beginning, -1 is the last item. Variables can point to functions. \n",
      "\n",
      "**Try:**\n",
      "\n",
      "* Create a list of some of the items you had for breakfast, for one of the items use a nested list with the ingredients, rather than the item itself.\n",
      "* Change one item in the nested list.\n",
      "* Create a dictionary with five key value pairs that that describe you\n"
     ]
    },
    {
     "cell_type": "code",
     "collapsed": false,
     "input": [],
     "language": "python",
     "metadata": {},
     "outputs": [],
     "prompt_number": 80
    },
    {
     "cell_type": "markdown",
     "metadata": {},
     "source": [
      "### Strings\n",
      "\n",
      "strings can use either single or double quotation marks, and you can have quotation marks of one kind inside a string that uses the other kind (i.e. \"He said 'hello'.\" is valid). Multiline strings are enclosed in _triple double (or single) quotes_ (\"\"\"). \n",
      "\n",
      "**Try:**\n",
      "\n",
      "Write a string that uses the %s operator and your dictionary to narrate about yourself."
     ]
    },
    {
     "cell_type": "code",
     "collapsed": false,
     "input": [],
     "language": "python",
     "metadata": {},
     "outputs": [],
     "prompt_number": 80
    },
    {
     "cell_type": "markdown",
     "metadata": {},
     "source": [
      "### Flow Control\n",
      "\n",
      "Flow control statements are if, for, and while. Use for to enumerate through members of a list. To obtain a list of numbers, use range(<number>). \n",
      "\n",
      "\n",
      "### Functions\n",
      "\n",
      "Functions are declared with the \"def\" keyword. Optional arguments are set in the function declaration after the mandatory arguments by being assigned a default value. For named arguments, the name of the argument is assigned a value. Functions can return a tuple (and using tuple unpacking you can effectively return multiple values). Lambda functions are ad hoc functions that are comprised of a single statement via the form: \"lambda\" \"input\": \"function activity on input\"."
     ]
    },
    {
     "cell_type": "markdown",
     "metadata": {},
     "source": [
      "**Try:**\n",
      "\n",
      "* Define a function sum() and a function multiply() that sums and multiplies (respectively) all the numbers in a list of numbers. For example, sum([1, 2, 3, 4]) should return 10, and multiply([1, 2, 3, 4]) should return 24.\n",
      "\n",
      "* Define a function reverse() that computes the reversal of a string. For example, reverse(\"I am testing\") should return the string \"gnitset ma I\".\n",
      "    "
     ]
    },
    {
     "cell_type": "markdown",
     "metadata": {},
     "source": [
      "### Classes\n",
      "\n",
      "Classes are objects which have particular `attributes` (methods, variables) which are accessed within the class `namespace` via `classname.attribute`.\n",
      "\n",
      "**Try**:\n",
      "\n",
      "* Retype the class and access the attributes `i` and `f`\n",
      "\n",
      "```python\n",
      "class MyClass:\n",
      "    \"\"\"A simple example class\"\"\"\n",
      "    i = 12345\n",
      "    def f(self):\n",
      "        return 'hello world'\n",
      "```\n",
      "\n",
      "* Create your own class, plug in some attributes, and verify that it works.\n"
     ]
    },
    {
     "cell_type": "code",
     "collapsed": false,
     "input": [],
     "language": "python",
     "metadata": {},
     "outputs": [],
     "prompt_number": 80
    },
    {
     "cell_type": "markdown",
     "metadata": {},
     "source": [
      "### Importing\n",
      "\n",
      "External libraries are used with the import [libname] keyword. You can also use from [libname] import [funcname] for individual functions. \n",
      "\n",
      "**Try:**\n",
      "\n",
      "Import the `random.rand` function from numpy.  Figure out what it does and generate some examples."
     ]
    },
    {
     "cell_type": "code",
     "collapsed": false,
     "input": [],
     "language": "python",
     "metadata": {},
     "outputs": [],
     "prompt_number": 80
    },
    {
     "cell_type": "markdown",
     "metadata": {},
     "source": [
      "### List comprehensions\n",
      "\n",
      "List comprehensions provide a powerful way to create and manipulate lists. They are written within list brackets and begin with an expression followed by a for clause defining the expression's inputs, followed by zero or more if or for clauses.\n",
      "\n",
      "**Try:**\n",
      "\n",
      "* In one line create a new list that includes the product of each item in the first list below with each item in the second list below. So the final list has a count of nine).\n",
      "\n",
      "```python\n",
      "lst1 = [1, 2, 3]\n",
      "lst2 = [3, 4, 5]\n",
      "```"
     ]
    },
    {
     "cell_type": "markdown",
     "metadata": {},
     "source": [
      "[sources]: http://www.stavros.io/tutorials/python/"
     ]
    },
    {
     "cell_type": "code",
     "collapsed": false,
     "input": [],
     "language": "python",
     "metadata": {},
     "outputs": [],
     "prompt_number": 80
    }
   ],
   "metadata": {}
  }
 ]
}