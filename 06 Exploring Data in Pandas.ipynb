{
 "metadata": {
  "name": "",
  "signature": "sha256:f63707de445974a346ba592198af1796fa1332a9bc3f8d16f3c8f04a832b6129"
 },
 "nbformat": 3,
 "nbformat_minor": 0,
 "worksheets": [
  {
   "cells": [
    {
     "cell_type": "markdown",
     "metadata": {},
     "source": [
      "# Exploring a Dataset with Pandas"
     ]
    },
    {
     "cell_type": "markdown",
     "metadata": {},
     "source": [
      "We'll be using the [MovieLens](http://www.grouplens.org/node/73) dataset going forward. The dataset contains 100,000 ratings made by 943 users on 1,682 movies."
     ]
    },
    {
     "cell_type": "markdown",
     "metadata": {},
     "source": [
      "Go to the [list of files on the site](http://files.grouplens.org/datasets/movielens/ml-100k/) and \n",
      "\n",
      "* copy the links for the u.user and u.data libraries into variables `user_url` and `data_url` and `item_url`\n",
      "\n",
      "* Take a look at the README file and explain what is in each of these files.\n",
      "\n",
      "\n",
      "\n",
      "<!--- \n",
      "user_url='http://files.grouplens.org/datasets/movielens/ml-100k/u.user'\n",
      "\n",
      "data_url='http://files.grouplens.org/datasets/movielens/ml-100k/u.data'\n",
      "\n",
      "item_url='http://files.grouplens.org/datasets/movielens/ml-100k/u.item'\n",
      "\n",
      "-->\n"
     ]
    },
    {
     "cell_type": "markdown",
     "metadata": {},
     "source": [
      "#### pass in column names for each CSV using pd.read_csv\n",
      "\n",
      "use the user columns:\n",
      "\n",
      "* user_id\n",
      "* age\n",
      "* sex\n",
      "* occupation\n",
      "* zip_code\n",
      "\n",
      "and the ratings columns:\n",
      "\n",
      "* movie_id\n",
      "* title\n",
      "* release_date\n",
      "* video_release_date\n",
      "\n",
      "And make sure and check the separator as well.\n",
      "\n",
      "\n",
      "<!---\n",
      "\n",
      "`u_cols = ['user_id', 'age', 'sex', 'occupation', 'zip_code']`\n",
      "\n",
      "\n",
      "users = pd.read_csv(user_url, sep='|', names=u_cols)\n",
      "\n",
      "r_cols = ['user_id', 'movie_id', 'rating', 'unix_timestamp']\n",
      "ratings = pd.read_csv(data_url, sep='\\t', names=r_cols)\n",
      "\n",
      "# the movies file contains columns indicating the movie's genres\n",
      "# let's only load the first five columns of the file with usecols\n",
      "m_cols = ['movie_id', 'title', 'release_date', 'video_release_date', 'imdb_url']\n",
      "movies = pd.read_csv(item_url, sep='|', names=m_cols, usecols=range(5))\n",
      "\n",
      "-->"
     ]
    },
    {
     "cell_type": "code",
     "collapsed": false,
     "input": [],
     "language": "python",
     "metadata": {},
     "outputs": [],
     "prompt_number": 8
    },
    {
     "cell_type": "markdown",
     "metadata": {},
     "source": [
      "### Inspection\n",
      "\n",
      "pandas has a variety of functions for getting basic information about your DataFrame, the most basic of which is calling your DataFrame by name."
     ]
    },
    {
     "cell_type": "code",
     "collapsed": false,
     "input": [
      "movies"
     ],
     "language": "python",
     "metadata": {},
     "outputs": [
      {
       "html": [
        "<div style=\"max-height:1000px;max-width:1500px;overflow:auto;\">\n",
        "<table border=\"1\" class=\"dataframe\">\n",
        "  <thead>\n",
        "    <tr style=\"text-align: right;\">\n",
        "      <th></th>\n",
        "      <th>movie_id</th>\n",
        "      <th>title</th>\n",
        "      <th>release_date</th>\n",
        "      <th>video_release_date</th>\n",
        "      <th>imdb_url</th>\n",
        "    </tr>\n",
        "  </thead>\n",
        "  <tbody>\n",
        "    <tr>\n",
        "      <th>0   </th>\n",
        "      <td>    1</td>\n",
        "      <td>                                  Toy Story (1995)</td>\n",
        "      <td> 01-Jan-1995</td>\n",
        "      <td>NaN</td>\n",
        "      <td> http://us.imdb.com/M/title-exact?Toy%20Story%2...</td>\n",
        "    </tr>\n",
        "    <tr>\n",
        "      <th>1   </th>\n",
        "      <td>    2</td>\n",
        "      <td>                                  GoldenEye (1995)</td>\n",
        "      <td> 01-Jan-1995</td>\n",
        "      <td>NaN</td>\n",
        "      <td> http://us.imdb.com/M/title-exact?GoldenEye%20(...</td>\n",
        "    </tr>\n",
        "    <tr>\n",
        "      <th>2   </th>\n",
        "      <td>    3</td>\n",
        "      <td>                                 Four Rooms (1995)</td>\n",
        "      <td> 01-Jan-1995</td>\n",
        "      <td>NaN</td>\n",
        "      <td> http://us.imdb.com/M/title-exact?Four%20Rooms%...</td>\n",
        "    </tr>\n",
        "    <tr>\n",
        "      <th>3   </th>\n",
        "      <td>    4</td>\n",
        "      <td>                                 Get Shorty (1995)</td>\n",
        "      <td> 01-Jan-1995</td>\n",
        "      <td>NaN</td>\n",
        "      <td> http://us.imdb.com/M/title-exact?Get%20Shorty%...</td>\n",
        "    </tr>\n",
        "    <tr>\n",
        "      <th>4   </th>\n",
        "      <td>    5</td>\n",
        "      <td>                                    Copycat (1995)</td>\n",
        "      <td> 01-Jan-1995</td>\n",
        "      <td>NaN</td>\n",
        "      <td> http://us.imdb.com/M/title-exact?Copycat%20(1995)</td>\n",
        "    </tr>\n",
        "    <tr>\n",
        "      <th>5   </th>\n",
        "      <td>    6</td>\n",
        "      <td> Shanghai Triad (Yao a yao yao dao waipo qiao) ...</td>\n",
        "      <td> 01-Jan-1995</td>\n",
        "      <td>NaN</td>\n",
        "      <td> http://us.imdb.com/Title?Yao+a+yao+yao+dao+wai...</td>\n",
        "    </tr>\n",
        "    <tr>\n",
        "      <th>6   </th>\n",
        "      <td>    7</td>\n",
        "      <td>                             Twelve Monkeys (1995)</td>\n",
        "      <td> 01-Jan-1995</td>\n",
        "      <td>NaN</td>\n",
        "      <td> http://us.imdb.com/M/title-exact?Twelve%20Monk...</td>\n",
        "    </tr>\n",
        "    <tr>\n",
        "      <th>7   </th>\n",
        "      <td>    8</td>\n",
        "      <td>                                       Babe (1995)</td>\n",
        "      <td> 01-Jan-1995</td>\n",
        "      <td>NaN</td>\n",
        "      <td>    http://us.imdb.com/M/title-exact?Babe%20(1995)</td>\n",
        "    </tr>\n",
        "    <tr>\n",
        "      <th>8   </th>\n",
        "      <td>    9</td>\n",
        "      <td>                           Dead Man Walking (1995)</td>\n",
        "      <td> 01-Jan-1995</td>\n",
        "      <td>NaN</td>\n",
        "      <td> http://us.imdb.com/M/title-exact?Dead%20Man%20...</td>\n",
        "    </tr>\n",
        "    <tr>\n",
        "      <th>9   </th>\n",
        "      <td>   10</td>\n",
        "      <td>                                Richard III (1995)</td>\n",
        "      <td> 22-Jan-1996</td>\n",
        "      <td>NaN</td>\n",
        "      <td> http://us.imdb.com/M/title-exact?Richard%20III...</td>\n",
        "    </tr>\n",
        "    <tr>\n",
        "      <th>10  </th>\n",
        "      <td>   11</td>\n",
        "      <td>                              Seven (Se7en) (1995)</td>\n",
        "      <td> 01-Jan-1995</td>\n",
        "      <td>NaN</td>\n",
        "      <td>   http://us.imdb.com/M/title-exact?Se7en%20(1995)</td>\n",
        "    </tr>\n",
        "    <tr>\n",
        "      <th>11  </th>\n",
        "      <td>   12</td>\n",
        "      <td>                        Usual Suspects, The (1995)</td>\n",
        "      <td> 14-Aug-1995</td>\n",
        "      <td>NaN</td>\n",
        "      <td> http://us.imdb.com/M/title-exact?Usual%20Suspe...</td>\n",
        "    </tr>\n",
        "    <tr>\n",
        "      <th>12  </th>\n",
        "      <td>   13</td>\n",
        "      <td>                           Mighty Aphrodite (1995)</td>\n",
        "      <td> 30-Oct-1995</td>\n",
        "      <td>NaN</td>\n",
        "      <td> http://us.imdb.com/M/title-exact?Mighty%20Aphr...</td>\n",
        "    </tr>\n",
        "    <tr>\n",
        "      <th>13  </th>\n",
        "      <td>   14</td>\n",
        "      <td>                                Postino, Il (1994)</td>\n",
        "      <td> 01-Jan-1994</td>\n",
        "      <td>NaN</td>\n",
        "      <td> http://us.imdb.com/M/title-exact?Postino,%20Il...</td>\n",
        "    </tr>\n",
        "    <tr>\n",
        "      <th>14  </th>\n",
        "      <td>   15</td>\n",
        "      <td>                         Mr. Holland's Opus (1995)</td>\n",
        "      <td> 29-Jan-1996</td>\n",
        "      <td>NaN</td>\n",
        "      <td> http://us.imdb.com/M/title-exact?Mr.%20Holland...</td>\n",
        "    </tr>\n",
        "    <tr>\n",
        "      <th>15  </th>\n",
        "      <td>   16</td>\n",
        "      <td>                French Twist (Gazon maudit) (1995)</td>\n",
        "      <td> 01-Jan-1995</td>\n",
        "      <td>NaN</td>\n",
        "      <td> http://us.imdb.com/M/title-exact?Gazon%20maudi...</td>\n",
        "    </tr>\n",
        "    <tr>\n",
        "      <th>16  </th>\n",
        "      <td>   17</td>\n",
        "      <td>                        From Dusk Till Dawn (1996)</td>\n",
        "      <td> 05-Feb-1996</td>\n",
        "      <td>NaN</td>\n",
        "      <td> http://us.imdb.com/M/title-exact?From%20Dusk%2...</td>\n",
        "    </tr>\n",
        "    <tr>\n",
        "      <th>17  </th>\n",
        "      <td>   18</td>\n",
        "      <td>                         White Balloon, The (1995)</td>\n",
        "      <td> 01-Jan-1995</td>\n",
        "      <td>NaN</td>\n",
        "      <td> http://us.imdb.com/M/title-exact?Badkonake%20S...</td>\n",
        "    </tr>\n",
        "    <tr>\n",
        "      <th>18  </th>\n",
        "      <td>   19</td>\n",
        "      <td>                             Antonia's Line (1995)</td>\n",
        "      <td> 01-Jan-1995</td>\n",
        "      <td>NaN</td>\n",
        "      <td> http://us.imdb.com/M/title-exact?Antonia%20(1995)</td>\n",
        "    </tr>\n",
        "    <tr>\n",
        "      <th>19  </th>\n",
        "      <td>   20</td>\n",
        "      <td>                         Angels and Insects (1995)</td>\n",
        "      <td> 01-Jan-1995</td>\n",
        "      <td>NaN</td>\n",
        "      <td> http://us.imdb.com/M/title-exact?Angels%20and%...</td>\n",
        "    </tr>\n",
        "    <tr>\n",
        "      <th>20  </th>\n",
        "      <td>   21</td>\n",
        "      <td>                     Muppet Treasure Island (1996)</td>\n",
        "      <td> 16-Feb-1996</td>\n",
        "      <td>NaN</td>\n",
        "      <td> http://us.imdb.com/M/title-exact?Muppet%20Trea...</td>\n",
        "    </tr>\n",
        "    <tr>\n",
        "      <th>21  </th>\n",
        "      <td>   22</td>\n",
        "      <td>                                 Braveheart (1995)</td>\n",
        "      <td> 16-Feb-1996</td>\n",
        "      <td>NaN</td>\n",
        "      <td> http://us.imdb.com/M/title-exact?Braveheart%20...</td>\n",
        "    </tr>\n",
        "    <tr>\n",
        "      <th>22  </th>\n",
        "      <td>   23</td>\n",
        "      <td>                                Taxi Driver (1976)</td>\n",
        "      <td> 16-Feb-1996</td>\n",
        "      <td>NaN</td>\n",
        "      <td> http://us.imdb.com/M/title-exact?Taxi%20Driver...</td>\n",
        "    </tr>\n",
        "    <tr>\n",
        "      <th>23  </th>\n",
        "      <td>   24</td>\n",
        "      <td>                        Rumble in the Bronx (1995)</td>\n",
        "      <td> 23-Feb-1996</td>\n",
        "      <td>NaN</td>\n",
        "      <td> http://us.imdb.com/M/title-exact?Hong%20Faan%2...</td>\n",
        "    </tr>\n",
        "    <tr>\n",
        "      <th>24  </th>\n",
        "      <td>   25</td>\n",
        "      <td>                              Birdcage, The (1996)</td>\n",
        "      <td> 08-Mar-1996</td>\n",
        "      <td>NaN</td>\n",
        "      <td> http://us.imdb.com/M/title-exact?Birdcage,%20T...</td>\n",
        "    </tr>\n",
        "    <tr>\n",
        "      <th>25  </th>\n",
        "      <td>   26</td>\n",
        "      <td>                     Brothers McMullen, The (1995)</td>\n",
        "      <td> 01-Jan-1995</td>\n",
        "      <td>NaN</td>\n",
        "      <td> http://us.imdb.com/M/title-exact?Brothers%20Mc...</td>\n",
        "    </tr>\n",
        "    <tr>\n",
        "      <th>26  </th>\n",
        "      <td>   27</td>\n",
        "      <td>                                   Bad Boys (1995)</td>\n",
        "      <td> 01-Jan-1995</td>\n",
        "      <td>NaN</td>\n",
        "      <td> http://us.imdb.com/M/title-exact?Bad%20Boys%20...</td>\n",
        "    </tr>\n",
        "    <tr>\n",
        "      <th>27  </th>\n",
        "      <td>   28</td>\n",
        "      <td>                                  Apollo 13 (1995)</td>\n",
        "      <td> 01-Jan-1995</td>\n",
        "      <td>NaN</td>\n",
        "      <td> http://us.imdb.com/M/title-exact?Apollo%2013%2...</td>\n",
        "    </tr>\n",
        "    <tr>\n",
        "      <th>28  </th>\n",
        "      <td>   29</td>\n",
        "      <td>                             Batman Forever (1995)</td>\n",
        "      <td> 01-Jan-1995</td>\n",
        "      <td>NaN</td>\n",
        "      <td> http://us.imdb.com/M/title-exact?Batman%20Fore...</td>\n",
        "    </tr>\n",
        "    <tr>\n",
        "      <th>29  </th>\n",
        "      <td>   30</td>\n",
        "      <td>                              Belle de jour (1967)</td>\n",
        "      <td> 01-Jan-1967</td>\n",
        "      <td>NaN</td>\n",
        "      <td> http://us.imdb.com/M/title-exact?Belle%20de%20...</td>\n",
        "    </tr>\n",
        "    <tr>\n",
        "      <th>...</th>\n",
        "      <td>...</td>\n",
        "      <td>...</td>\n",
        "      <td>...</td>\n",
        "      <td>...</td>\n",
        "      <td>...</td>\n",
        "    </tr>\n",
        "    <tr>\n",
        "      <th>1652</th>\n",
        "      <td> 1653</td>\n",
        "      <td> Entertaining Angels: The Dorothy Day Story (1996)</td>\n",
        "      <td> 27-Sep-1996</td>\n",
        "      <td>NaN</td>\n",
        "      <td> http://us.imdb.com/M/title-exact?Entertaining%...</td>\n",
        "    </tr>\n",
        "    <tr>\n",
        "      <th>1653</th>\n",
        "      <td> 1654</td>\n",
        "      <td>                      Chairman of the Board (1998)</td>\n",
        "      <td> 01-Jan-1998</td>\n",
        "      <td>NaN</td>\n",
        "      <td> http://us.imdb.com/Title?Chairman+of+the+Board...</td>\n",
        "    </tr>\n",
        "    <tr>\n",
        "      <th>1654</th>\n",
        "      <td> 1655</td>\n",
        "      <td>                                 Favor, The (1994)</td>\n",
        "      <td> 01-Jan-1994</td>\n",
        "      <td>NaN</td>\n",
        "      <td> http://us.imdb.com/M/title-exact?Favor,%20The%...</td>\n",
        "    </tr>\n",
        "    <tr>\n",
        "      <th>1655</th>\n",
        "      <td> 1656</td>\n",
        "      <td>                                Little City (1998)</td>\n",
        "      <td> 20-Feb-1998</td>\n",
        "      <td>NaN</td>\n",
        "      <td> http://us.imdb.com/M/title-exact?Little+City+(...</td>\n",
        "    </tr>\n",
        "    <tr>\n",
        "      <th>1656</th>\n",
        "      <td> 1657</td>\n",
        "      <td>                                     Target (1995)</td>\n",
        "      <td> 28-Feb-1996</td>\n",
        "      <td>NaN</td>\n",
        "      <td>  http://us.imdb.com/M/title-exact?Target%20(1995)</td>\n",
        "    </tr>\n",
        "    <tr>\n",
        "      <th>1657</th>\n",
        "      <td> 1658</td>\n",
        "      <td>                     Substance of Fire, The (1996)</td>\n",
        "      <td> 06-Dec-1996</td>\n",
        "      <td>NaN</td>\n",
        "      <td> http://us.imdb.com/M/title-exact?Substance%20o...</td>\n",
        "    </tr>\n",
        "    <tr>\n",
        "      <th>1658</th>\n",
        "      <td> 1659</td>\n",
        "      <td>                   Getting Away With Murder (1996)</td>\n",
        "      <td> 12-Apr-1996</td>\n",
        "      <td>NaN</td>\n",
        "      <td> http://us.imdb.com/Title?Getting+Away+With+Mur...</td>\n",
        "    </tr>\n",
        "    <tr>\n",
        "      <th>1659</th>\n",
        "      <td> 1660</td>\n",
        "      <td>                                Small Faces (1995)</td>\n",
        "      <td> 09-Aug-1996</td>\n",
        "      <td>NaN</td>\n",
        "      <td> http://us.imdb.com/M/title-exact?Small%20Faces...</td>\n",
        "    </tr>\n",
        "    <tr>\n",
        "      <th>1660</th>\n",
        "      <td> 1661</td>\n",
        "      <td>                               New Age, The (1994)</td>\n",
        "      <td> 01-Jan-1994</td>\n",
        "      <td>NaN</td>\n",
        "      <td> http://us.imdb.com/M/title-exact?New%20Age,%20...</td>\n",
        "    </tr>\n",
        "    <tr>\n",
        "      <th>1661</th>\n",
        "      <td> 1662</td>\n",
        "      <td>                                Rough Magic (1995)</td>\n",
        "      <td> 30-May-1997</td>\n",
        "      <td>NaN</td>\n",
        "      <td> http://us.imdb.com/M/title-exact?Rough%20Magic...</td>\n",
        "    </tr>\n",
        "    <tr>\n",
        "      <th>1662</th>\n",
        "      <td> 1663</td>\n",
        "      <td>                           Nothing Personal (1995)</td>\n",
        "      <td> 30-Apr-1997</td>\n",
        "      <td>NaN</td>\n",
        "      <td> http://us.imdb.com/M/title-exact?Nothing%20Per...</td>\n",
        "    </tr>\n",
        "    <tr>\n",
        "      <th>1663</th>\n",
        "      <td> 1664</td>\n",
        "      <td>                    8 Heads in a Duffel Bag (1997)</td>\n",
        "      <td> 18-Apr-1997</td>\n",
        "      <td>NaN</td>\n",
        "      <td> http://us.imdb.com/Title?8+Heads+in+a+Duffel+B...</td>\n",
        "    </tr>\n",
        "    <tr>\n",
        "      <th>1664</th>\n",
        "      <td> 1665</td>\n",
        "      <td>                          Brother's Kiss, A (1997)</td>\n",
        "      <td> 25-Apr-1997</td>\n",
        "      <td>NaN</td>\n",
        "      <td> http://us.imdb.com/M/title-exact?Brother%27s%2...</td>\n",
        "    </tr>\n",
        "    <tr>\n",
        "      <th>1665</th>\n",
        "      <td> 1666</td>\n",
        "      <td>                                       Ripe (1996)</td>\n",
        "      <td> 02-May-1997</td>\n",
        "      <td>NaN</td>\n",
        "      <td> http://us.imdb.com/M/title-exact?Ripe%20%28199...</td>\n",
        "    </tr>\n",
        "    <tr>\n",
        "      <th>1666</th>\n",
        "      <td> 1667</td>\n",
        "      <td>                             Next Step, The (1995)</td>\n",
        "      <td> 13-Jun-1997</td>\n",
        "      <td>NaN</td>\n",
        "      <td> http://us.imdb.com/M/title-exact?Next%20Step%2...</td>\n",
        "    </tr>\n",
        "    <tr>\n",
        "      <th>1667</th>\n",
        "      <td> 1668</td>\n",
        "      <td>                         Wedding Bell Blues (1996)</td>\n",
        "      <td> 13-Jun-1997</td>\n",
        "      <td>NaN</td>\n",
        "      <td> http://us.imdb.com/M/title-exact?Wedding%20Bel...</td>\n",
        "    </tr>\n",
        "    <tr>\n",
        "      <th>1668</th>\n",
        "      <td> 1669</td>\n",
        "      <td>                          MURDER and murder (1996)</td>\n",
        "      <td> 20-Jun-1997</td>\n",
        "      <td>NaN</td>\n",
        "      <td> http://us.imdb.com/M/title-exact?MURDER+and+mu...</td>\n",
        "    </tr>\n",
        "    <tr>\n",
        "      <th>1669</th>\n",
        "      <td> 1670</td>\n",
        "      <td>                                    Tainted (1998)</td>\n",
        "      <td> 01-Feb-1998</td>\n",
        "      <td>NaN</td>\n",
        "      <td>   http://us.imdb.com/M/title-exact?Tainted+(1998)</td>\n",
        "    </tr>\n",
        "    <tr>\n",
        "      <th>1670</th>\n",
        "      <td> 1671</td>\n",
        "      <td>                         Further Gesture, A (1996)</td>\n",
        "      <td> 20-Feb-1998</td>\n",
        "      <td>NaN</td>\n",
        "      <td> http://us.imdb.com/M/title-exact?Further+Gestu...</td>\n",
        "    </tr>\n",
        "    <tr>\n",
        "      <th>1671</th>\n",
        "      <td> 1672</td>\n",
        "      <td>                                       Kika (1993)</td>\n",
        "      <td> 01-Jan-1993</td>\n",
        "      <td>NaN</td>\n",
        "      <td>    http://us.imdb.com/M/title-exact?Kika%20(1993)</td>\n",
        "    </tr>\n",
        "    <tr>\n",
        "      <th>1672</th>\n",
        "      <td> 1673</td>\n",
        "      <td>                                     Mirage (1995)</td>\n",
        "      <td> 01-Jan-1995</td>\n",
        "      <td>NaN</td>\n",
        "      <td>  http://us.imdb.com/M/title-exact?Mirage%20(1995)</td>\n",
        "    </tr>\n",
        "    <tr>\n",
        "      <th>1673</th>\n",
        "      <td> 1674</td>\n",
        "      <td>                                 Mamma Roma (1962)</td>\n",
        "      <td> 01-Jan-1962</td>\n",
        "      <td>NaN</td>\n",
        "      <td> http://us.imdb.com/M/title-exact?Mamma%20Roma%...</td>\n",
        "    </tr>\n",
        "    <tr>\n",
        "      <th>1674</th>\n",
        "      <td> 1675</td>\n",
        "      <td>                             Sunchaser, The (1996)</td>\n",
        "      <td> 25-Oct-1996</td>\n",
        "      <td>NaN</td>\n",
        "      <td> http://us.imdb.com/M/title-exact?Sunchaser,%20...</td>\n",
        "    </tr>\n",
        "    <tr>\n",
        "      <th>1675</th>\n",
        "      <td> 1676</td>\n",
        "      <td>                           War at Home, The (1996)</td>\n",
        "      <td> 01-Jan-1996</td>\n",
        "      <td>NaN</td>\n",
        "      <td> http://us.imdb.com/M/title-exact?War%20at%20Ho...</td>\n",
        "    </tr>\n",
        "    <tr>\n",
        "      <th>1676</th>\n",
        "      <td> 1677</td>\n",
        "      <td>                              Sweet Nothing (1995)</td>\n",
        "      <td> 20-Sep-1996</td>\n",
        "      <td>NaN</td>\n",
        "      <td> http://us.imdb.com/M/title-exact?Sweet%20Nothi...</td>\n",
        "    </tr>\n",
        "    <tr>\n",
        "      <th>1677</th>\n",
        "      <td> 1678</td>\n",
        "      <td>                                 Mat' i syn (1997)</td>\n",
        "      <td> 06-Feb-1998</td>\n",
        "      <td>NaN</td>\n",
        "      <td> http://us.imdb.com/M/title-exact?Mat%27+i+syn+...</td>\n",
        "    </tr>\n",
        "    <tr>\n",
        "      <th>1678</th>\n",
        "      <td> 1679</td>\n",
        "      <td>                                  B. Monkey (1998)</td>\n",
        "      <td> 06-Feb-1998</td>\n",
        "      <td>NaN</td>\n",
        "      <td> http://us.imdb.com/M/title-exact?B%2E+Monkey+(...</td>\n",
        "    </tr>\n",
        "    <tr>\n",
        "      <th>1679</th>\n",
        "      <td> 1680</td>\n",
        "      <td>                              Sliding Doors (1998)</td>\n",
        "      <td> 01-Jan-1998</td>\n",
        "      <td>NaN</td>\n",
        "      <td>     http://us.imdb.com/Title?Sliding+Doors+(1998)</td>\n",
        "    </tr>\n",
        "    <tr>\n",
        "      <th>1680</th>\n",
        "      <td> 1681</td>\n",
        "      <td>                               You So Crazy (1994)</td>\n",
        "      <td> 01-Jan-1994</td>\n",
        "      <td>NaN</td>\n",
        "      <td> http://us.imdb.com/M/title-exact?You%20So%20Cr...</td>\n",
        "    </tr>\n",
        "    <tr>\n",
        "      <th>1681</th>\n",
        "      <td> 1682</td>\n",
        "      <td>         Scream of Stone (Schrei aus Stein) (1991)</td>\n",
        "      <td> 08-Mar-1996</td>\n",
        "      <td>NaN</td>\n",
        "      <td> http://us.imdb.com/M/title-exact?Schrei%20aus%...</td>\n",
        "    </tr>\n",
        "  </tbody>\n",
        "</table>\n",
        "<p>1682 rows \u00d7 5 columns</p>\n",
        "</div>"
       ],
       "metadata": {},
       "output_type": "pyout",
       "prompt_number": 9,
       "text": [
        "      movie_id                                              title  \\\n",
        "0            1                                   Toy Story (1995)   \n",
        "1            2                                   GoldenEye (1995)   \n",
        "2            3                                  Four Rooms (1995)   \n",
        "3            4                                  Get Shorty (1995)   \n",
        "4            5                                     Copycat (1995)   \n",
        "5            6  Shanghai Triad (Yao a yao yao dao waipo qiao) ...   \n",
        "6            7                              Twelve Monkeys (1995)   \n",
        "7            8                                        Babe (1995)   \n",
        "8            9                            Dead Man Walking (1995)   \n",
        "9           10                                 Richard III (1995)   \n",
        "10          11                               Seven (Se7en) (1995)   \n",
        "11          12                         Usual Suspects, The (1995)   \n",
        "12          13                            Mighty Aphrodite (1995)   \n",
        "13          14                                 Postino, Il (1994)   \n",
        "14          15                          Mr. Holland's Opus (1995)   \n",
        "15          16                 French Twist (Gazon maudit) (1995)   \n",
        "16          17                         From Dusk Till Dawn (1996)   \n",
        "17          18                          White Balloon, The (1995)   \n",
        "18          19                              Antonia's Line (1995)   \n",
        "19          20                          Angels and Insects (1995)   \n",
        "20          21                      Muppet Treasure Island (1996)   \n",
        "21          22                                  Braveheart (1995)   \n",
        "22          23                                 Taxi Driver (1976)   \n",
        "23          24                         Rumble in the Bronx (1995)   \n",
        "24          25                               Birdcage, The (1996)   \n",
        "25          26                      Brothers McMullen, The (1995)   \n",
        "26          27                                    Bad Boys (1995)   \n",
        "27          28                                   Apollo 13 (1995)   \n",
        "28          29                              Batman Forever (1995)   \n",
        "29          30                               Belle de jour (1967)   \n",
        "...        ...                                                ...   \n",
        "1652      1653  Entertaining Angels: The Dorothy Day Story (1996)   \n",
        "1653      1654                       Chairman of the Board (1998)   \n",
        "1654      1655                                  Favor, The (1994)   \n",
        "1655      1656                                 Little City (1998)   \n",
        "1656      1657                                      Target (1995)   \n",
        "1657      1658                      Substance of Fire, The (1996)   \n",
        "1658      1659                    Getting Away With Murder (1996)   \n",
        "1659      1660                                 Small Faces (1995)   \n",
        "1660      1661                                New Age, The (1994)   \n",
        "1661      1662                                 Rough Magic (1995)   \n",
        "1662      1663                            Nothing Personal (1995)   \n",
        "1663      1664                     8 Heads in a Duffel Bag (1997)   \n",
        "1664      1665                           Brother's Kiss, A (1997)   \n",
        "1665      1666                                        Ripe (1996)   \n",
        "1666      1667                              Next Step, The (1995)   \n",
        "1667      1668                          Wedding Bell Blues (1996)   \n",
        "1668      1669                           MURDER and murder (1996)   \n",
        "1669      1670                                     Tainted (1998)   \n",
        "1670      1671                          Further Gesture, A (1996)   \n",
        "1671      1672                                        Kika (1993)   \n",
        "1672      1673                                      Mirage (1995)   \n",
        "1673      1674                                  Mamma Roma (1962)   \n",
        "1674      1675                              Sunchaser, The (1996)   \n",
        "1675      1676                            War at Home, The (1996)   \n",
        "1676      1677                               Sweet Nothing (1995)   \n",
        "1677      1678                                  Mat' i syn (1997)   \n",
        "1678      1679                                   B. Monkey (1998)   \n",
        "1679      1680                               Sliding Doors (1998)   \n",
        "1680      1681                                You So Crazy (1994)   \n",
        "1681      1682          Scream of Stone (Schrei aus Stein) (1991)   \n",
        "\n",
        "     release_date  video_release_date  \\\n",
        "0     01-Jan-1995                 NaN   \n",
        "1     01-Jan-1995                 NaN   \n",
        "2     01-Jan-1995                 NaN   \n",
        "3     01-Jan-1995                 NaN   \n",
        "4     01-Jan-1995                 NaN   \n",
        "5     01-Jan-1995                 NaN   \n",
        "6     01-Jan-1995                 NaN   \n",
        "7     01-Jan-1995                 NaN   \n",
        "8     01-Jan-1995                 NaN   \n",
        "9     22-Jan-1996                 NaN   \n",
        "10    01-Jan-1995                 NaN   \n",
        "11    14-Aug-1995                 NaN   \n",
        "12    30-Oct-1995                 NaN   \n",
        "13    01-Jan-1994                 NaN   \n",
        "14    29-Jan-1996                 NaN   \n",
        "15    01-Jan-1995                 NaN   \n",
        "16    05-Feb-1996                 NaN   \n",
        "17    01-Jan-1995                 NaN   \n",
        "18    01-Jan-1995                 NaN   \n",
        "19    01-Jan-1995                 NaN   \n",
        "20    16-Feb-1996                 NaN   \n",
        "21    16-Feb-1996                 NaN   \n",
        "22    16-Feb-1996                 NaN   \n",
        "23    23-Feb-1996                 NaN   \n",
        "24    08-Mar-1996                 NaN   \n",
        "25    01-Jan-1995                 NaN   \n",
        "26    01-Jan-1995                 NaN   \n",
        "27    01-Jan-1995                 NaN   \n",
        "28    01-Jan-1995                 NaN   \n",
        "29    01-Jan-1967                 NaN   \n",
        "...           ...                 ...   \n",
        "1652  27-Sep-1996                 NaN   \n",
        "1653  01-Jan-1998                 NaN   \n",
        "1654  01-Jan-1994                 NaN   \n",
        "1655  20-Feb-1998                 NaN   \n",
        "1656  28-Feb-1996                 NaN   \n",
        "1657  06-Dec-1996                 NaN   \n",
        "1658  12-Apr-1996                 NaN   \n",
        "1659  09-Aug-1996                 NaN   \n",
        "1660  01-Jan-1994                 NaN   \n",
        "1661  30-May-1997                 NaN   \n",
        "1662  30-Apr-1997                 NaN   \n",
        "1663  18-Apr-1997                 NaN   \n",
        "1664  25-Apr-1997                 NaN   \n",
        "1665  02-May-1997                 NaN   \n",
        "1666  13-Jun-1997                 NaN   \n",
        "1667  13-Jun-1997                 NaN   \n",
        "1668  20-Jun-1997                 NaN   \n",
        "1669  01-Feb-1998                 NaN   \n",
        "1670  20-Feb-1998                 NaN   \n",
        "1671  01-Jan-1993                 NaN   \n",
        "1672  01-Jan-1995                 NaN   \n",
        "1673  01-Jan-1962                 NaN   \n",
        "1674  25-Oct-1996                 NaN   \n",
        "1675  01-Jan-1996                 NaN   \n",
        "1676  20-Sep-1996                 NaN   \n",
        "1677  06-Feb-1998                 NaN   \n",
        "1678  06-Feb-1998                 NaN   \n",
        "1679  01-Jan-1998                 NaN   \n",
        "1680  01-Jan-1994                 NaN   \n",
        "1681  08-Mar-1996                 NaN   \n",
        "\n",
        "                                               imdb_url  \n",
        "0     http://us.imdb.com/M/title-exact?Toy%20Story%2...  \n",
        "1     http://us.imdb.com/M/title-exact?GoldenEye%20(...  \n",
        "2     http://us.imdb.com/M/title-exact?Four%20Rooms%...  \n",
        "3     http://us.imdb.com/M/title-exact?Get%20Shorty%...  \n",
        "4     http://us.imdb.com/M/title-exact?Copycat%20(1995)  \n",
        "5     http://us.imdb.com/Title?Yao+a+yao+yao+dao+wai...  \n",
        "6     http://us.imdb.com/M/title-exact?Twelve%20Monk...  \n",
        "7        http://us.imdb.com/M/title-exact?Babe%20(1995)  \n",
        "8     http://us.imdb.com/M/title-exact?Dead%20Man%20...  \n",
        "9     http://us.imdb.com/M/title-exact?Richard%20III...  \n",
        "10      http://us.imdb.com/M/title-exact?Se7en%20(1995)  \n",
        "11    http://us.imdb.com/M/title-exact?Usual%20Suspe...  \n",
        "12    http://us.imdb.com/M/title-exact?Mighty%20Aphr...  \n",
        "13    http://us.imdb.com/M/title-exact?Postino,%20Il...  \n",
        "14    http://us.imdb.com/M/title-exact?Mr.%20Holland...  \n",
        "15    http://us.imdb.com/M/title-exact?Gazon%20maudi...  \n",
        "16    http://us.imdb.com/M/title-exact?From%20Dusk%2...  \n",
        "17    http://us.imdb.com/M/title-exact?Badkonake%20S...  \n",
        "18    http://us.imdb.com/M/title-exact?Antonia%20(1995)  \n",
        "19    http://us.imdb.com/M/title-exact?Angels%20and%...  \n",
        "20    http://us.imdb.com/M/title-exact?Muppet%20Trea...  \n",
        "21    http://us.imdb.com/M/title-exact?Braveheart%20...  \n",
        "22    http://us.imdb.com/M/title-exact?Taxi%20Driver...  \n",
        "23    http://us.imdb.com/M/title-exact?Hong%20Faan%2...  \n",
        "24    http://us.imdb.com/M/title-exact?Birdcage,%20T...  \n",
        "25    http://us.imdb.com/M/title-exact?Brothers%20Mc...  \n",
        "26    http://us.imdb.com/M/title-exact?Bad%20Boys%20...  \n",
        "27    http://us.imdb.com/M/title-exact?Apollo%2013%2...  \n",
        "28    http://us.imdb.com/M/title-exact?Batman%20Fore...  \n",
        "29    http://us.imdb.com/M/title-exact?Belle%20de%20...  \n",
        "...                                                 ...  \n",
        "1652  http://us.imdb.com/M/title-exact?Entertaining%...  \n",
        "1653  http://us.imdb.com/Title?Chairman+of+the+Board...  \n",
        "1654  http://us.imdb.com/M/title-exact?Favor,%20The%...  \n",
        "1655  http://us.imdb.com/M/title-exact?Little+City+(...  \n",
        "1656   http://us.imdb.com/M/title-exact?Target%20(1995)  \n",
        "1657  http://us.imdb.com/M/title-exact?Substance%20o...  \n",
        "1658  http://us.imdb.com/Title?Getting+Away+With+Mur...  \n",
        "1659  http://us.imdb.com/M/title-exact?Small%20Faces...  \n",
        "1660  http://us.imdb.com/M/title-exact?New%20Age,%20...  \n",
        "1661  http://us.imdb.com/M/title-exact?Rough%20Magic...  \n",
        "1662  http://us.imdb.com/M/title-exact?Nothing%20Per...  \n",
        "1663  http://us.imdb.com/Title?8+Heads+in+a+Duffel+B...  \n",
        "1664  http://us.imdb.com/M/title-exact?Brother%27s%2...  \n",
        "1665  http://us.imdb.com/M/title-exact?Ripe%20%28199...  \n",
        "1666  http://us.imdb.com/M/title-exact?Next%20Step%2...  \n",
        "1667  http://us.imdb.com/M/title-exact?Wedding%20Bel...  \n",
        "1668  http://us.imdb.com/M/title-exact?MURDER+and+mu...  \n",
        "1669    http://us.imdb.com/M/title-exact?Tainted+(1998)  \n",
        "1670  http://us.imdb.com/M/title-exact?Further+Gestu...  \n",
        "1671     http://us.imdb.com/M/title-exact?Kika%20(1993)  \n",
        "1672   http://us.imdb.com/M/title-exact?Mirage%20(1995)  \n",
        "1673  http://us.imdb.com/M/title-exact?Mamma%20Roma%...  \n",
        "1674  http://us.imdb.com/M/title-exact?Sunchaser,%20...  \n",
        "1675  http://us.imdb.com/M/title-exact?War%20at%20Ho...  \n",
        "1676  http://us.imdb.com/M/title-exact?Sweet%20Nothi...  \n",
        "1677  http://us.imdb.com/M/title-exact?Mat%27+i+syn+...  \n",
        "1678  http://us.imdb.com/M/title-exact?B%2E+Monkey+(...  \n",
        "1679      http://us.imdb.com/Title?Sliding+Doors+(1998)  \n",
        "1680  http://us.imdb.com/M/title-exact?You%20So%20Cr...  \n",
        "1681  http://us.imdb.com/M/title-exact?Schrei%20aus%...  \n",
        "\n",
        "[1682 rows x 5 columns]"
       ]
      }
     ],
     "prompt_number": 9
    },
    {
     "cell_type": "markdown",
     "metadata": {},
     "source": [
      "The output tells a few things about our DataFrame.\n",
      "\n",
      "1. It's obviously an instance of a DataFrame.\n",
      "2. Each row was assigned an index of 0 to N-1, where N is the number of rows in the DataFrame. pandas will do this by default if an index is not specified. Don't worry, this can be changed later.\n",
      "3. There are 1,682 rows (every row must have an index).\n",
      "4. Our dataset has five total columns, one of which isn't populated at all (video_release_date) and two that are missing some values (release_date and imdb_url).\n",
      "5. The last line displays the datatypes of each column, but not necessarily in the corresponding order to the listed columns. You should use the *dtypes* method to get the datatype for each column."
     ]
    },
    {
     "cell_type": "code",
     "collapsed": false,
     "input": [
      "movies.dtypes"
     ],
     "language": "python",
     "metadata": {},
     "outputs": []
    },
    {
     "cell_type": "markdown",
     "metadata": {},
     "source": [
      "DataFrame's also have a `describe` method, which is great for seeing basic statistics about the dataset's numeric columns. Be careful though, since this will return information on **all** columns of a numeric datatype."
     ]
    },
    {
     "cell_type": "code",
     "collapsed": false,
     "input": [
      "users.describe()"
     ],
     "language": "python",
     "metadata": {},
     "outputs": []
    },
    {
     "cell_type": "markdown",
     "metadata": {},
     "source": [
      "Notice *user_id* was included since it's numeric. Since this is an ID value, the stats for it don't really matter.\n",
      "\n",
      "We can quickly see the average age of our users is just above 34 years old, with the youngest being 7 and the oldest being 73. The median age is 31, with the youngest quartile of users being 25 or younger, and the oldest quartile being at least 43."
     ]
    },
    {
     "cell_type": "markdown",
     "metadata": {},
     "source": [
      "You've probably noticed that I've used the `head` method regularly throughout this post - by default, `head` displays the first five records of the dataset, while `tail` displays the last five."
     ]
    },
    {
     "cell_type": "code",
     "collapsed": false,
     "input": [
      "print movies.head()"
     ],
     "language": "python",
     "metadata": {},
     "outputs": []
    },
    {
     "cell_type": "code",
     "collapsed": false,
     "input": [
      "print movies.tail(3)"
     ],
     "language": "python",
     "metadata": {},
     "outputs": []
    },
    {
     "cell_type": "markdown",
     "metadata": {},
     "source": [
      "Alternatively, Python's regular [slicing](http://docs.python.org/release/2.3.5/whatsnew/section-slices.html) syntax works as well."
     ]
    },
    {
     "cell_type": "code",
     "collapsed": false,
     "input": [
      "print movies[20:22]"
     ],
     "language": "python",
     "metadata": {},
     "outputs": []
    },
    {
     "cell_type": "markdown",
     "metadata": {},
     "source": [
      "### Selecting\n",
      "\n",
      "You can think of a DataFrame as a group of Series that share an index (in this case the column headers). This makes it easy to select specific columns.\n",
      "\n",
      "Selecting a single column from the DataFrame will return a Series object."
     ]
    },
    {
     "cell_type": "code",
     "collapsed": false,
     "input": [
      "users['occupation'].head()"
     ],
     "language": "python",
     "metadata": {},
     "outputs": []
    },
    {
     "cell_type": "markdown",
     "metadata": {},
     "source": [
      "To select multiple columns, simply pass a list of column names to the DataFrame, the output of which will be a DataFrame."
     ]
    },
    {
     "cell_type": "code",
     "collapsed": false,
     "input": [
      "print users[['age', 'zip_code']].head()\n",
      "print '\\n'\n",
      "\n",
      "# can also store in a variable to use later\n",
      "columns_you_want = ['occupation', 'sex'] \n",
      "print users[columns_you_want].head()"
     ],
     "language": "python",
     "metadata": {},
     "outputs": []
    },
    {
     "cell_type": "markdown",
     "metadata": {},
     "source": [
      "Row selection can be done multiple ways, but doing so by an individual index or boolean indexing are typically easiest."
     ]
    },
    {
     "cell_type": "code",
     "collapsed": false,
     "input": [
      "# users older than 25\n",
      "print users[users.age > 25].head(3)\n",
      "print '\\n'\n",
      "\n",
      "# users aged 40 AND male\n",
      "print users[(users.age == 40) & (users.sex == 'M')].head(3)\n",
      "print '\\n'\n",
      "\n",
      "# users younger than 30 OR female\n",
      "print users[(users.sex == 'F') | (users.age < 30)].head(3)"
     ],
     "language": "python",
     "metadata": {},
     "outputs": [
      {
       "output_type": "stream",
       "stream": "stdout",
       "text": [
        "   user_id  age sex occupation zip_code\n",
        "1        2   53   F      other    94043\n",
        "4        5   33   F      other    15213\n",
        "5        6   42   M  executive    98101\n",
        "\n",
        "\n",
        "     user_id  age sex  occupation zip_code\n",
        "18        19   40   M   librarian    02138\n",
        "82        83   40   M       other    44133\n",
        "115      116   40   M  healthcare    97232\n",
        "\n",
        "\n",
        "   user_id  age sex  occupation zip_code\n",
        "0        1   24   M  technician    85711\n",
        "1        2   53   F       other    94043\n",
        "2        3   23   M      writer    32067\n"
       ]
      }
     ],
     "prompt_number": 10
    },
    {
     "cell_type": "markdown",
     "metadata": {},
     "source": [
      "Since our index is kind of meaningless right now, let's set it to the _user_id_ using the `set_index` method. By default, `set_index` returns a new DataFrame, so you'll have to specify if you'd like the changes to occur in place.\n",
      "\n"
     ]
    },
    {
     "cell_type": "code",
     "collapsed": false,
     "input": [
      "print users.set_index('user_id').head()\n",
      "print '\\n'\n",
      "\n",
      "print users.head()\n",
      "print \"\\n^^^ I didn't actually change the DataFrame. ^^^\\n\"\n",
      "\n",
      "with_new_index = users.set_index('user_id')\n",
      "print with_new_index.head()\n",
      "print \"\\n^^^ set_index actually returns a new DataFrame. ^^^\\n\""
     ],
     "language": "python",
     "metadata": {},
     "outputs": [
      {
       "output_type": "stream",
       "stream": "stdout",
       "text": [
        "         age sex  occupation zip_code\n",
        "user_id                              \n",
        "1         24   M  technician    85711\n",
        "2         53   F       other    94043\n",
        "3         23   M      writer    32067\n",
        "4         24   M  technician    43537\n",
        "5         33   F       other    15213\n",
        "\n",
        "\n",
        "   user_id  age sex  occupation zip_code\n",
        "0        1   24   M  technician    85711\n",
        "1        2   53   F       other    94043\n",
        "2        3   23   M      writer    32067\n",
        "3        4   24   M  technician    43537\n",
        "4        5   33   F       other    15213\n",
        "\n",
        "^^^ I didn't actually change the DataFrame. ^^^\n",
        "\n",
        "         age sex  occupation zip_code\n",
        "user_id                              \n",
        "1         24   M  technician    85711\n",
        "2         53   F       other    94043\n",
        "3         23   M      writer    32067\n",
        "4         24   M  technician    43537\n",
        "5         33   F       other    15213\n",
        "\n",
        "^^^ set_index actually returns a new DataFrame. ^^^\n",
        "\n"
       ]
      }
     ],
     "prompt_number": 13
    },
    {
     "cell_type": "markdown",
     "metadata": {},
     "source": [
      "If you want to modify your existing DataFrame, use the `inplace` parameter."
     ]
    },
    {
     "cell_type": "code",
     "collapsed": false,
     "input": [
      "users.set_index('user_id', inplace=True)\n",
      "print users.head()"
     ],
     "language": "python",
     "metadata": {},
     "outputs": [
      {
       "output_type": "stream",
       "stream": "stdout",
       "text": [
        "         age sex  occupation zip_code\n",
        "user_id                              \n",
        "1         24   M  technician    85711\n",
        "2         53   F       other    94043\n",
        "3         23   M      writer    32067\n",
        "4         24   M  technician    43537\n",
        "5         33   F       other    15213\n"
       ]
      }
     ],
     "prompt_number": 14
    },
    {
     "cell_type": "markdown",
     "metadata": {},
     "source": [
      "Notice that we've lost the default pandas 0-based index and moved the user_id into its place.  We can select rows based on the index using the `ix` method."
     ]
    },
    {
     "cell_type": "code",
     "collapsed": false,
     "input": [
      "print users.ix[99]\n",
      "print '\\n'\n",
      "print users.ix[[1, 50, 300]]"
     ],
     "language": "python",
     "metadata": {},
     "outputs": [
      {
       "output_type": "stream",
       "stream": "stdout",
       "text": [
        "age                20\n",
        "sex                 M\n",
        "occupation    student\n",
        "zip_code        63129\n",
        "Name: 99, dtype: object\n",
        "\n",
        "\n",
        "     age sex  occupation zip_code\n",
        "1     24   M  technician    85711\n",
        "50    21   M      writer    52245\n",
        "300   26   F  programmer    55106\n"
       ]
      }
     ],
     "prompt_number": 15
    },
    {
     "cell_type": "markdown",
     "metadata": {},
     "source": [
      "If we realize later that we liked the old pandas default index, we can just `reset_index`.  The same rules for `inplace` apply."
     ]
    },
    {
     "cell_type": "code",
     "collapsed": false,
     "input": [
      "users.reset_index(inplace=True)\n",
      "print users.head()"
     ],
     "language": "python",
     "metadata": {},
     "outputs": [
      {
       "output_type": "stream",
       "stream": "stdout",
       "text": [
        "   user_id  age sex  occupation zip_code\n",
        "0        1   24   M  technician    85711\n",
        "1        2   53   F       other    94043\n",
        "2        3   23   M      writer    32067\n",
        "3        4   24   M  technician    43537\n",
        "4        5   33   F       other    15213\n"
       ]
      }
     ],
     "prompt_number": 16
    },
    {
     "cell_type": "markdown",
     "metadata": {},
     "source": [
      "I've found that I can usually get by with boolean indexing and the `ix` method, but pandas has a whole host of [other ways to do selection](http://pandas.pydata.org/pandas-docs/stable/indexing.html)."
     ]
    },
    {
     "cell_type": "markdown",
     "metadata": {},
     "source": [
      "### Grouping\n",
      "\n",
      "\n",
      "\n",
      "pandas `groupby` method draws largely from the [split-apply-combine strategy for data analysis](http://www.jstatsoft.org/v40/i01/paper).  If you're not familiar with this methodology, I highly suggest you read up on it.  It does a great job of illustrating how to properly think through a data problem, which I feel is more important than any technical skill a data analyst/scientist can possess.\n",
      "\n",
      "When approaching a data analysis problem, you'll often break it apart into manageable pieces, perform some operations on each of the pieces, and then put everything back together again (this is the gist split-apply-combine strategy). pandas `groupby` is great for these problems.\n",
      "\n",
      "If you've ever used SQL's GROUP BY or an Excel Pivot Table, you've thought with this mindset, probably without realizing it.\n",
      "\n",
      "Assume we have a DataFrame and want to get the average for each group - visually, the split-apply-combine method looks like this:\n",
      "\n",
      "![Source: Gratuitously borrowed from [Hadley Wickham's Data Science in R slides](http://courses.had.co.nz/12-oscon/)](http://i.imgur.com/yjNkiwL.png)"
     ]
    },
    {
     "cell_type": "markdown",
     "metadata": {},
     "source": [
      "The City of Chicago is kind enough to publish all city employee salaries to its open data portal. Let's go through some basic `groupby` examples using this data."
     ]
    },
    {
     "cell_type": "code",
     "collapsed": false,
     "input": [
      "!head -n 3 city-of-chicago-salaries.csv"
     ],
     "language": "python",
     "metadata": {},
     "outputs": []
    },
    {
     "cell_type": "markdown",
     "metadata": {},
     "source": [
      "Since the data contains a dollar sign for each salary, python will treat the field as a series of strings. We can use the `converters` parameter to change this when reading in the file.\n",
      "\n",
      ">converters : dict. optional\n",
      "\n",
      ">* Dict of functions for converting values in certain columns. Keys can either be integers or column labels"
     ]
    },
    {
     "cell_type": "code",
     "collapsed": false,
     "input": [
      "headers = ['name', 'title', 'department', 'salary']\n",
      "chicago = pd.read_csv('https://raw.githubusercontent.com/gjreda/gregreda.com/master/content/notebooks/data/city-of-chicago-salaries.csv',\n",
      "                      header=False,\n",
      "                      names=headers,\n",
      "                      converters={'salary': lambda x: float(x.replace('$', ''))})\n",
      "print chicago.head()"
     ],
     "language": "python",
     "metadata": {},
     "outputs": [
      {
       "output_type": "stream",
       "stream": "stdout",
       "text": [
        "                    name                     title        department  salary\n",
        "0        AARON,  ELVIA J          WATER RATE TAKER       WATER MGMNT   85512\n",
        "1      AARON,  JEFFERY M            POLICE OFFICER            POLICE   75372\n",
        "2    AARON,  KIMBERLEI R  CHIEF CONTRACT EXPEDITER  GENERAL SERVICES   80916\n",
        "3    ABAD JR,  VICENTE M         CIVIL ENGINEER IV       WATER MGMNT   99648\n",
        "4  ABBATACOLA,  ROBERT J       ELECTRICAL MECHANIC          AVIATION   89440\n"
       ]
      }
     ],
     "prompt_number": 19
    },
    {
     "cell_type": "markdown",
     "metadata": {},
     "source": [
      "pandas `groupby` returns a DataFrameGroupBy object which has a variety of methods, many of which are similar to standard SQL aggregate functions."
     ]
    },
    {
     "cell_type": "code",
     "collapsed": false,
     "input": [
      "by_dept = chicago.groupby('department')\n",
      "print by_dept"
     ],
     "language": "python",
     "metadata": {},
     "outputs": [
      {
       "output_type": "stream",
       "stream": "stdout",
       "text": [
        "<pandas.core.groupby.DataFrameGroupBy object at 0x106a2e610>\n"
       ]
      }
     ],
     "prompt_number": 22
    },
    {
     "cell_type": "markdown",
     "metadata": {},
     "source": [
      "Calling `count` returns the total number of NOT NULL values within each column. If we were interested in the total number of records in each group, we could use `size`."
     ]
    },
    {
     "cell_type": "code",
     "collapsed": false,
     "input": [
      "print by_dept.count().head() # NOT NULL records within each column\n",
      "print '\\n'\n",
      "print by_dept.size().tail() # total records for each department"
     ],
     "language": "python",
     "metadata": {},
     "outputs": [
      {
       "output_type": "stream",
       "stream": "stdout",
       "text": [
        "                   name  title  salary\n",
        "department                            \n",
        "ADMIN HEARNG         42     42      42\n",
        "ANIMAL CONTRL        61     61      61\n",
        "AVIATION           1218   1218    1218\n",
        "BOARD OF ELECTION   110    110     110\n",
        "BOARD OF ETHICS       9      9       9\n",
        "\n",
        "\n",
        "department\n",
        "PUBLIC LIBRARY     926\n",
        "STREETS & SAN     2070\n",
        "TRANSPORTN        1168\n",
        "TREASURER           25\n",
        "WATER MGMNT       1857\n",
        "dtype: int64\n"
       ]
      }
     ],
     "prompt_number": 21
    },
    {
     "cell_type": "markdown",
     "metadata": {},
     "source": [
      "Summation can be done via `sum`, averaging by `mean`, etc. (if it's a SQL function, chances are it exists in pandas). Oh, and there's median too, something not available in most databases."
     ]
    },
    {
     "cell_type": "code",
     "collapsed": false,
     "input": [
      "print by_dept.sum()[20:25] # total salaries of each department\n",
      "print '\\n'\n",
      "print by_dept.mean()[20:25] # average salary of each department\n",
      "print '\\n'\n",
      "print by_dept.median()[20:25] # take that, RDBMS!"
     ],
     "language": "python",
     "metadata": {},
     "outputs": [
      {
       "output_type": "stream",
       "stream": "stdout",
       "text": [
        "                       salary\n",
        "department                   \n",
        "HUMAN RESOURCES     4850928.0\n",
        "INSPECTOR GEN       4035150.0\n",
        "IPRA                7006128.0\n",
        "LAW                31883920.2\n",
        "LICENSE APPL COMM     65436.0\n",
        "\n",
        "\n",
        "                         salary\n",
        "department                     \n",
        "HUMAN RESOURCES    71337.176471\n",
        "INSPECTOR GEN      80703.000000\n",
        "IPRA               82425.035294\n",
        "LAW                70853.156000\n",
        "LICENSE APPL COMM  65436.000000\n",
        "\n",
        "\n",
        "                   salary\n",
        "department               \n",
        "HUMAN RESOURCES     68496\n",
        "INSPECTOR GEN       76116\n",
        "IPRA                82524\n",
        "LAW                 66492\n",
        "LICENSE APPL COMM   65436\n"
       ]
      }
     ],
     "prompt_number": 23
    },
    {
     "cell_type": "markdown",
     "metadata": {},
     "source": [
      "Operations can also be done on an individual Series within a grouped object. Say we were curious about the five departments with the most distinct titles - the pandas equivalent to:\n",
      "\n",
      "    SELECT department, COUNT(DISTINCT title)\n",
      "    FROM chicago\n",
      "    GROUP BY department\n",
      "    ORDER BY 2 DESC\n",
      "    LIMIT 5;\n",
      "\n",
      "pandas is a lot less verbose here ..."
     ]
    },
    {
     "cell_type": "code",
     "collapsed": false,
     "input": [
      "print by_dept.title.nunique().order(ascending=False)[:5]"
     ],
     "language": "python",
     "metadata": {},
     "outputs": [
      {
       "output_type": "stream",
       "stream": "stdout",
       "text": [
        "department\n",
        "WATER MGMNT    153\n",
        "TRANSPORTN     150\n",
        "POLICE         130\n",
        "AVIATION       125\n",
        "HEALTH         118\n",
        "Name: title, dtype: int64\n"
       ]
      }
     ],
     "prompt_number": 24
    },
    {
     "cell_type": "markdown",
     "metadata": {},
     "source": [
      "### split-apply-combine\n",
      "\n",
      "![](http://note.io/1BY1kpe)\n",
      "\n",
      "The real power of `groupby` comes from it's split-apply-combine ability.\n"
     ]
    },
    {
     "cell_type": "markdown",
     "metadata": {},
     "source": [
      "Using `groupby` we can define a function (which we'll call `ranker`) that will label each record from 1 to N, where N is the number of employees within the department. We can then call `apply` to, well, _apply_ that function to each group (in this case, each department)."
     ]
    },
    {
     "cell_type": "code",
     "collapsed": false,
     "input": [
      "def ranker(df):\n",
      "    \"\"\"Assigns a rank to each employee based on salary, with 1 being the highest paid.\n",
      "    Assumes the data is DESC sorted.\"\"\"\n",
      "    df['dept_rank'] = np.arange(len(df)) + 1\n",
      "    return df"
     ],
     "language": "python",
     "metadata": {},
     "outputs": [],
     "prompt_number": 25
    },
    {
     "cell_type": "code",
     "collapsed": false,
     "input": [
      "chicago.sort('salary', ascending=False, inplace=True)\n",
      "chicago = chicago.groupby('department').apply(ranker)\n",
      "print chicago[chicago.dept_rank == 1].head(7)"
     ],
     "language": "python",
     "metadata": {},
     "outputs": [
      {
       "output_type": "stream",
       "stream": "stdout",
       "text": [
        "                         name                     title      department  \\\n",
        "18039     MC CARTHY,  GARRY F  SUPERINTENDENT OF POLICE          POLICE   \n",
        "8004           EMANUEL,  RAHM                     MAYOR  MAYOR'S OFFICE   \n",
        "25588       SANTIAGO,  JOSE A         FIRE COMMISSIONER            FIRE   \n",
        "763    ANDOLINO,  ROSEMARIE S  COMMISSIONER OF AVIATION        AVIATION   \n",
        "4697     CHOUCAIR,  BECHARA N    COMMISSIONER OF HEALTH          HEALTH   \n",
        "21971      PATTON,  STEPHEN R       CORPORATION COUNSEL             LAW   \n",
        "12635      HOLT,  ALEXANDRA D                BUDGET DIR   BUDGET & MGMT   \n",
        "\n",
        "       salary  dept_rank  \n",
        "18039  260004          1  \n",
        "8004   216210          1  \n",
        "25588  202728          1  \n",
        "763    186576          1  \n",
        "4697   177156          1  \n",
        "21971  173664          1  \n",
        "12635  169992          1  \n"
       ]
      }
     ],
     "prompt_number": 26
    },
    {
     "cell_type": "code",
     "collapsed": false,
     "input": [
      "chicago[chicago.department == \"LAW\"][:5]"
     ],
     "language": "python",
     "metadata": {},
     "outputs": [
      {
       "html": [
        "<div style=\"max-height:1000px;max-width:1500px;overflow:auto;\">\n",
        "<table border=\"1\" class=\"dataframe\">\n",
        "  <thead>\n",
        "    <tr style=\"text-align: right;\">\n",
        "      <th></th>\n",
        "      <th>name</th>\n",
        "      <th>title</th>\n",
        "      <th>department</th>\n",
        "      <th>salary</th>\n",
        "      <th>dept_rank</th>\n",
        "    </tr>\n",
        "  </thead>\n",
        "  <tbody>\n",
        "    <tr>\n",
        "      <th>21971</th>\n",
        "      <td>   PATTON,  STEPHEN R</td>\n",
        "      <td>            CORPORATION COUNSEL</td>\n",
        "      <td> LAW</td>\n",
        "      <td> 173664</td>\n",
        "      <td> 1</td>\n",
        "    </tr>\n",
        "    <tr>\n",
        "      <th>6311 </th>\n",
        "      <td>   DARLING,  LESLIE M</td>\n",
        "      <td> FIRST ASST CORPORATION COUNSEL</td>\n",
        "      <td> LAW</td>\n",
        "      <td> 149160</td>\n",
        "      <td> 2</td>\n",
        "    </tr>\n",
        "    <tr>\n",
        "      <th>17680</th>\n",
        "      <td> MARTINICO,  JOSEPH P</td>\n",
        "      <td>         CHIEF LABOR NEGOTIATOR</td>\n",
        "      <td> LAW</td>\n",
        "      <td> 144036</td>\n",
        "      <td> 3</td>\n",
        "    </tr>\n",
        "    <tr>\n",
        "      <th>22357</th>\n",
        "      <td>     PETERS,  LYNDA A</td>\n",
        "      <td>                CITY PROSECUTOR</td>\n",
        "      <td> LAW</td>\n",
        "      <td> 139932</td>\n",
        "      <td> 4</td>\n",
        "    </tr>\n",
        "    <tr>\n",
        "      <th>31383</th>\n",
        "      <td>   WONG JR,  EDWARD J</td>\n",
        "      <td>     DEPUTY CORPORATION COUNSEL</td>\n",
        "      <td> LAW</td>\n",
        "      <td> 137076</td>\n",
        "      <td> 5</td>\n",
        "    </tr>\n",
        "  </tbody>\n",
        "</table>\n",
        "</div>"
       ],
       "metadata": {},
       "output_type": "pyout",
       "prompt_number": 27,
       "text": [
        "                       name                           title department  \\\n",
        "21971    PATTON,  STEPHEN R             CORPORATION COUNSEL        LAW   \n",
        "6311     DARLING,  LESLIE M  FIRST ASST CORPORATION COUNSEL        LAW   \n",
        "17680  MARTINICO,  JOSEPH P          CHIEF LABOR NEGOTIATOR        LAW   \n",
        "22357      PETERS,  LYNDA A                 CITY PROSECUTOR        LAW   \n",
        "31383    WONG JR,  EDWARD J      DEPUTY CORPORATION COUNSEL        LAW   \n",
        "\n",
        "       salary  dept_rank  \n",
        "21971  173664          1  \n",
        "6311   149160          2  \n",
        "17680  144036          3  \n",
        "22357  139932          4  \n",
        "31383  137076          5  "
       ]
      }
     ],
     "prompt_number": 27
    },
    {
     "cell_type": "markdown",
     "metadata": {},
     "source": [
      "We can now see where each employee ranks within their department based on salary."
     ]
    },
    {
     "cell_type": "markdown",
     "metadata": {},
     "source": [
      "## Using pandas on the MovieLens dataset"
     ]
    },
    {
     "cell_type": "markdown",
     "metadata": {},
     "source": [
      "To show pandas in a more \"applied\" sense, let's use it to answer some questions about the [MovieLens](http://www.grouplens.org/datasets/movielens/) dataset. Recall that we've already read our data into DataFrames and merged it."
     ]
    },
    {
     "cell_type": "code",
     "collapsed": false,
     "input": [
      "# pass in column names for each CSV\n",
      "u_cols = ['user_id', 'age', 'sex', 'occupation', 'zip_code']\n",
      "users = pd.read_csv('ml-100k/u.user', sep='|', names=u_cols)\n",
      "\n",
      "r_cols = ['user_id', 'movie_id', 'rating', 'unix_timestamp']\n",
      "ratings = pd.read_csv('ml-100k/u.data', sep='\\t', names=r_cols)\n",
      "\n",
      "# the movies file contains columns indicating the movie's genres\n",
      "# let's only load the first five columns of the file with usecols\n",
      "m_cols = ['movie_id', 'title', 'release_date', 'video_release_date', 'imdb_url']\n",
      "movies = pd.read_csv('ml-100k/u.item', sep='|', names=m_cols, usecols=range(5))\n",
      "\n",
      "# create one merged DataFrame\n",
      "movie_ratings = pd.merge(movies, ratings)\n",
      "lens = pd.merge(movie_ratings, users)"
     ],
     "language": "python",
     "metadata": {},
     "outputs": []
    },
    {
     "cell_type": "markdown",
     "metadata": {},
     "source": [
      "**What are the 25 most rated movies?**"
     ]
    },
    {
     "cell_type": "code",
     "collapsed": false,
     "input": [
      "most_rated = lens.groupby('title').size().order(ascending=False)[:25]\n",
      "print most_rated"
     ],
     "language": "python",
     "metadata": {},
     "outputs": []
    },
    {
     "cell_type": "markdown",
     "metadata": {},
     "source": [
      "There's a lot going on in the code above, but it's very idomatic. We're splitting the DataFrame into groups by movie title and applying the `size` method to get the count of records in each group. Then we order our results in descending order and limit the output to the top 25 using Python's slicing syntax.\n",
      "\n",
      "In SQL, this would be equivalent to:\n",
      "\n",
      "    SELECT title, count(1)\n",
      "    FROM lens\n",
      "    GROUP BY title\n",
      "    ORDER BY 2 DESC\n",
      "    LIMIT 25;\n",
      "\n",
      "Alternatively, pandas has a nifty `value_counts` method - yes, this is simpler - the goal above was to show a basic `groupby` example."
     ]
    },
    {
     "cell_type": "code",
     "collapsed": false,
     "input": [
      "lens.title.value_counts()[:25]"
     ],
     "language": "python",
     "metadata": {},
     "outputs": []
    },
    {
     "cell_type": "markdown",
     "metadata": {},
     "source": [
      "**Which movies are most highly rated?**"
     ]
    },
    {
     "cell_type": "code",
     "collapsed": false,
     "input": [
      "movie_stats = lens.groupby('title').agg({'rating': [np.size, np.mean]})\n",
      "print movie_stats.head()"
     ],
     "language": "python",
     "metadata": {},
     "outputs": []
    },
    {
     "cell_type": "markdown",
     "metadata": {},
     "source": [
      "We can use the `agg` method to pass a dictionary specifying the columns to aggregate (as keys) and a list of functions we'd like to apply.\n",
      "\n",
      "Let's sort the resulting DataFrame so that we can see which movies have the highest average score."
     ]
    },
    {
     "cell_type": "code",
     "collapsed": false,
     "input": [
      "# sort by rating average\n",
      "print movie_stats.sort([('rating', 'mean')], ascending=False).head()"
     ],
     "language": "python",
     "metadata": {},
     "outputs": []
    },
    {
     "cell_type": "markdown",
     "metadata": {},
     "source": [
      "Because `movie_stats` is a DataFrame, we use the `sort` method - only Series objects use `order`. Additionally, because our columns are now a [MultiIndex](http://pandas.pydata.org/pandas-docs/stable/indexing.html#hierarchical-indexing-multiindex), we need to pass in a tuple specifying how to sort.\n",
      "\n",
      "The above movies are rated so rarely that we can't count them as quality films. Let's only look at movies that have been rated at least 100 times."
     ]
    },
    {
     "cell_type": "code",
     "collapsed": false,
     "input": [
      "atleast_100 = movie_stats['rating'].size >= 100\n",
      "print movie_stats[atleast_100].sort([('rating', 'mean')], ascending=False)[:15]"
     ],
     "language": "python",
     "metadata": {},
     "outputs": []
    },
    {
     "cell_type": "markdown",
     "metadata": {},
     "source": [
      "Those results look realistic.  Notice that we used boolean indexing to filter our `movie_stats` frame.\n",
      "\n",
      "We broke this question down into many parts, so here's the Python needed to get the 15 movies with the highest average rating, requiring that they had at least 100 ratings:\n",
      "\n",
      "```python\n",
      "    movie_stats = lens.groupby('title').agg({'rating', [np.size, np.mean})\n",
      "    atleast_100 = movie_stats['rating'].size >= 100\n",
      "    movie_stats[atleast_100].sort([('rating', 'mean')], ascending=False)[:15]\n",
      "```\n",
      "\n",
      "The SQL equivalent would be:\n",
      "\n",
      "    SELECT title, COUNT(1) size, AVG(rating) mean\n",
      "    FROM lens\n",
      "    GROUP BY title\n",
      "    HAVING COUNT(1) >= 100\n",
      "    ORDER BY 3 DESC\n",
      "    LIMIT 15;"
     ]
    },
    {
     "cell_type": "markdown",
     "metadata": {},
     "source": [
      "**Limiting our population going forward**\n",
      "\n",
      "Going forward, let's only look at the 50 most rated movies. Let's make a Series of movies that meet this threshold so we can use it for filtering later."
     ]
    },
    {
     "cell_type": "code",
     "collapsed": false,
     "input": [
      "most_50 = lens.groupby('movie_id').size().order(ascending=False)[:50]"
     ],
     "language": "python",
     "metadata": {},
     "outputs": []
    },
    {
     "cell_type": "markdown",
     "metadata": {},
     "source": [
      "The SQL to match this would be:\n",
      "\n",
      "    CREATE TABLE most_50 AS (\n",
      "        SELECT movie_id, COUNT(1)\n",
      "        FROM lens\n",
      "        GROUP BY movie_id\n",
      "        ORDER BY 2 DESC\n",
      "        LIMIT 50\n",
      "    );\n",
      "    \n",
      "This table would then allow us to use EXISTS, IN, or JOIN whenever we wanted to filter our results. Here's an example using EXISTS:\n",
      "\n",
      "    SELECT *\n",
      "    FROM lens\n",
      "    WHERE EXISTS (SELECT 1 FROM most_50 WHERE lens.movie_id = most_50.movie_id);"
     ]
    },
    {
     "cell_type": "markdown",
     "metadata": {},
     "source": [
      "**Which movies are most controversial amongst different ages?**"
     ]
    },
    {
     "cell_type": "markdown",
     "metadata": {},
     "source": [
      "Let's look at how these movies are viewed across different age groups. First, let's look at how age is distributed amongst our users."
     ]
    },
    {
     "cell_type": "code",
     "collapsed": false,
     "input": [
      "users.age.hist(bins=30)\n",
      "plt.title(\"Distribution of users' ages\")\n",
      "plt.ylabel('count of users')\n",
      "plt.xlabel('age');"
     ],
     "language": "python",
     "metadata": {},
     "outputs": []
    },
    {
     "cell_type": "markdown",
     "metadata": {},
     "source": [
      "pandas' integration with [matplotlib](http://matplotlib.org/index.html) makes basic graphing of Series/DataFrames trivial.  In this case, just call `hist` on the column to produce a histogram.  We can also use [matplotlib.pyplot](http://matplotlib.org/users/pyplot_tutorial.html) to customize our graph a bit (always label your axes)."
     ]
    },
    {
     "cell_type": "markdown",
     "metadata": {},
     "source": [
      "**Binning our users**\n",
      "\n",
      "I don't think it'd be very useful to compare individual ages - let's bin our users into age groups using `pandas.cut`."
     ]
    },
    {
     "cell_type": "code",
     "collapsed": false,
     "input": [
      "labels = ['0-9', '10-19', '20-29', '30-39', '40-49', '50-59', '60-69', '70-79']\n",
      "lens['age_group'] = pd.cut(lens.age, range(0, 81, 10), right=False, labels=labels)\n",
      "print lens[['age', 'age_group']].drop_duplicates()[:10]"
     ],
     "language": "python",
     "metadata": {},
     "outputs": []
    },
    {
     "cell_type": "markdown",
     "metadata": {},
     "source": [
      "`pandas.cut` allows you to bin numeric data. In the above lines, we first created labels to name our bins, then split our users into eight bins of ten years (0-9, 10-19, 20-29, etc.). Our use of `right=False` told the function that we wanted the bins to be *exclusive* of the max age in the bin (e.g. a 30 year old user gets the 30s label).\n",
      "\n",
      "Now we can now compare ratings across age groups."
     ]
    },
    {
     "cell_type": "code",
     "collapsed": false,
     "input": [
      "print lens.groupby('age_group').agg({'rating': [np.size, np.mean]})"
     ],
     "language": "python",
     "metadata": {},
     "outputs": []
    },
    {
     "cell_type": "markdown",
     "metadata": {},
     "source": [
      "Young users seem a bit more critical than other age groups. Let's look at how the 50 most rated movies are viewed across each age group. We can use the `most_50` Series we created earlier for filtering."
     ]
    },
    {
     "cell_type": "code",
     "collapsed": false,
     "input": [
      "lens.set_index('movie_id', inplace=True)"
     ],
     "language": "python",
     "metadata": {},
     "outputs": []
    },
    {
     "cell_type": "code",
     "collapsed": false,
     "input": [
      "by_age = lens.ix[most_50.index].groupby(['title', 'age_group'])\n",
      "by_age.rating.mean().head(15)"
     ],
     "language": "python",
     "metadata": {},
     "outputs": []
    },
    {
     "cell_type": "markdown",
     "metadata": {},
     "source": [
      "Notice that both the title and age group are indexes here, with the average rating value being a Series. This is going to produce a really long list of values.\n",
      "\n",
      "Wouldn't it be nice to see the data as a table? Each title as a row, each age group as a column, and the average rating in each cell.\n",
      "\n",
      "Behold! The magic of `unstack`!"
     ]
    },
    {
     "cell_type": "code",
     "collapsed": false,
     "input": [
      "by_age.rating.mean().unstack(1).fillna(0)[10:20]"
     ],
     "language": "python",
     "metadata": {},
     "outputs": []
    },
    {
     "cell_type": "markdown",
     "metadata": {},
     "source": [
      "`unstack`, well, unstacks the specified level of a [MultiIndex](http://pandas.pydata.org/pandas-docs/stable/indexing.html#hierarchical-indexing-multiindex) (by default, `groupby` turns the grouped field into an index - since we grouped by two fields, it became a MultiIndex). We unstacked the second index (remember that Python uses 0-based indexes), and then filled in NULL values with 0.\n",
      "\n",
      "If we would have used:\n",
      "```python\n",
      "    by_age.rating.mean().unstack(0).fillna(0)\n",
      "```\n",
      "We would have had our age groups as rows and movie titles as columns."
     ]
    },
    {
     "cell_type": "markdown",
     "metadata": {},
     "source": [
      "**Which movies do men and women most disagree on?**\n",
      "\n",
      "EDIT: *I realized after writing this question that Wes McKinney basically went through the exact same question in his book. It's a good, yet simple example of pivot_table, so I'm going to leave it here. Seriously though, [go buy the book](http://www.amazon.com/gp/product/1449319793/ref=as_li_tl?ie=UTF8&camp=1789&creative=390957&creativeASIN=1449319793&linkCode=as2&tag=gjreda-20&linkId=MCGW4C4NOBRVV5OC).*\n",
      "\n",
      "Think about how you'd have to do this in SQL for a second. You'd have to use a combination of IF/CASE statements with aggregate functions in order to pivot your dataset. Your query would look something like this:\n",
      "\n",
      "    SELECT title, AVG(IF(sex = 'F', rating, NULL)), AVG(IF(sex = 'M', rating, NULL))\n",
      "    FROM lens\n",
      "    GROUP BY title;\n",
      "    \n",
      "Imagine how annoying it'd be if you had to do this on more than two columns.\n",
      "    \n",
      "DataFrame's have a *pivot_table* method that makes these kinds of operations much easier (and less verbose)."
     ]
    },
    {
     "cell_type": "code",
     "collapsed": false,
     "input": [
      "lens.reset_index('movie_id', inplace=True)"
     ],
     "language": "python",
     "metadata": {},
     "outputs": []
    },
    {
     "cell_type": "code",
     "collapsed": false,
     "input": [
      "pivoted = lens.pivot_table(rows=['movie_id', 'title'],\n",
      "                           cols=['sex'],\n",
      "                           values='rating',\n",
      "                           fill_value=0)\n",
      "print pivoted.head()"
     ],
     "language": "python",
     "metadata": {},
     "outputs": []
    },
    {
     "cell_type": "code",
     "collapsed": false,
     "input": [
      "pivoted['diff'] = pivoted.M - pivoted.F\n",
      "print pivoted.head()"
     ],
     "language": "python",
     "metadata": {},
     "outputs": []
    },
    {
     "cell_type": "code",
     "collapsed": false,
     "input": [
      "pivoted.reset_index('movie_id', inplace=True)"
     ],
     "language": "python",
     "metadata": {},
     "outputs": []
    },
    {
     "cell_type": "code",
     "collapsed": false,
     "input": [
      "disagreements = pivoted[pivoted.movie_id.isin(most_50.index)]['diff']\n",
      "disagreements.order().plot(kind='barh', figsize=[9, 15])\n",
      "plt.title('Male vs. Female Avg. Ratings\\n(Difference > 0 = Favored by Men)')\n",
      "plt.ylabel('Title')\n",
      "plt.xlabel('Average Rating Difference');"
     ],
     "language": "python",
     "metadata": {},
     "outputs": []
    },
    {
     "cell_type": "code",
     "collapsed": false,
     "input": [],
     "language": "python",
     "metadata": {},
     "outputs": []
    },
    {
     "cell_type": "markdown",
     "metadata": {},
     "source": [
      "## Exercise\n",
      "\n",
      "As a pair, ask and answer some interesting questions about this set using the techniques.  Prepare your results in a notebook.\n",
      "\n",
      "(**Advanced**: Choose and use a different dataset)"
     ]
    },
    {
     "cell_type": "code",
     "collapsed": false,
     "input": [],
     "language": "python",
     "metadata": {},
     "outputs": []
    }
   ],
   "metadata": {}
  }
 ]
}